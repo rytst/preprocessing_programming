{
 "cells": [
  {
   "cell_type": "markdown",
   "id": "5dee36d3-1bf2-47d6-85ee-43c6c36db7ea",
   "metadata": {},
   "source": [
    "# Horizontal to vertical"
   ]
  },
  {
   "cell_type": "markdown",
   "id": "bb553909-5e91-477d-b722-8f1cc731a4c7",
   "metadata": {},
   "source": [
    "## Pandas"
   ]
  },
  {
   "cell_type": "code",
   "execution_count": 1,
   "id": "7368961a-8f0f-4501-aeb1-a8dcd0256e1b",
   "metadata": {},
   "outputs": [],
   "source": [
    "import pandas as pd"
   ]
  },
  {
   "cell_type": "code",
   "execution_count": 2,
   "id": "0025b4ea-90d4-41e3-8e3f-58d5c0463bc0",
   "metadata": {},
   "outputs": [],
   "source": [
    "pd_hotel_sales = pd.read_parquet(\"../../data/hotel_sales.parquet\")"
   ]
  },
  {
   "cell_type": "code",
   "execution_count": 3,
   "id": "8adf6d35-e8d9-4357-88d9-c35b93337a5b",
   "metadata": {},
   "outputs": [
    {
     "data": {
      "text/html": [
       "<div>\n",
       "<style scoped>\n",
       "    .dataframe tbody tr th:only-of-type {\n",
       "        vertical-align: middle;\n",
       "    }\n",
       "\n",
       "    .dataframe tbody tr th {\n",
       "        vertical-align: top;\n",
       "    }\n",
       "\n",
       "    .dataframe thead th {\n",
       "        text-align: right;\n",
       "    }\n",
       "</style>\n",
       "<table border=\"1\" class=\"dataframe\">\n",
       "  <thead>\n",
       "    <tr style=\"text-align: right;\">\n",
       "      <th></th>\n",
       "      <th>month</th>\n",
       "      <th>business</th>\n",
       "      <th>minshuku</th>\n",
       "      <th>resort</th>\n",
       "      <th>ryokan</th>\n",
       "    </tr>\n",
       "  </thead>\n",
       "  <tbody>\n",
       "    <tr>\n",
       "      <th>0</th>\n",
       "      <td>2015-01</td>\n",
       "      <td>188593900</td>\n",
       "      <td>168848500</td>\n",
       "      <td>185781400</td>\n",
       "      <td>187620400</td>\n",
       "    </tr>\n",
       "    <tr>\n",
       "      <th>1</th>\n",
       "      <td>2015-02</td>\n",
       "      <td>163494800</td>\n",
       "      <td>158697900</td>\n",
       "      <td>160538300</td>\n",
       "      <td>167680000</td>\n",
       "    </tr>\n",
       "    <tr>\n",
       "      <th>2</th>\n",
       "      <td>2015-03</td>\n",
       "      <td>375910200</td>\n",
       "      <td>342336600</td>\n",
       "      <td>362523600</td>\n",
       "      <td>367224800</td>\n",
       "    </tr>\n",
       "    <tr>\n",
       "      <th>3</th>\n",
       "      <td>2015-04</td>\n",
       "      <td>173913200</td>\n",
       "      <td>164582900</td>\n",
       "      <td>180903800</td>\n",
       "      <td>178178600</td>\n",
       "    </tr>\n",
       "    <tr>\n",
       "      <th>4</th>\n",
       "      <td>2015-05</td>\n",
       "      <td>552326800</td>\n",
       "      <td>517123500</td>\n",
       "      <td>560898500</td>\n",
       "      <td>555369200</td>\n",
       "    </tr>\n",
       "  </tbody>\n",
       "</table>\n",
       "</div>"
      ],
      "text/plain": [
       "     month   business   minshuku     resort     ryokan\n",
       "0  2015-01  188593900  168848500  185781400  187620400\n",
       "1  2015-02  163494800  158697900  160538300  167680000\n",
       "2  2015-03  375910200  342336600  362523600  367224800\n",
       "3  2015-04  173913200  164582900  180903800  178178600\n",
       "4  2015-05  552326800  517123500  560898500  555369200"
      ]
     },
     "execution_count": 3,
     "metadata": {},
     "output_type": "execute_result"
    }
   ],
   "source": [
    "pd_hotel_sales.head()"
   ]
  },
  {
   "cell_type": "code",
   "execution_count": 4,
   "id": "0dcf9cb9-10ca-48ff-aa2d-649a04b4e588",
   "metadata": {},
   "outputs": [
    {
     "data": {
      "text/html": [
       "<div>\n",
       "<style scoped>\n",
       "    .dataframe tbody tr th:only-of-type {\n",
       "        vertical-align: middle;\n",
       "    }\n",
       "\n",
       "    .dataframe tbody tr th {\n",
       "        vertical-align: top;\n",
       "    }\n",
       "\n",
       "    .dataframe thead th {\n",
       "        text-align: right;\n",
       "    }\n",
       "</style>\n",
       "<table border=\"1\" class=\"dataframe\">\n",
       "  <thead>\n",
       "    <tr style=\"text-align: right;\">\n",
       "      <th></th>\n",
       "      <th>month</th>\n",
       "      <th>hotel_type</th>\n",
       "      <th>sales</th>\n",
       "    </tr>\n",
       "  </thead>\n",
       "  <tbody>\n",
       "    <tr>\n",
       "      <th>0</th>\n",
       "      <td>2015-01</td>\n",
       "      <td>business</td>\n",
       "      <td>188593900</td>\n",
       "    </tr>\n",
       "    <tr>\n",
       "      <th>1</th>\n",
       "      <td>2015-02</td>\n",
       "      <td>business</td>\n",
       "      <td>163494800</td>\n",
       "    </tr>\n",
       "    <tr>\n",
       "      <th>2</th>\n",
       "      <td>2015-03</td>\n",
       "      <td>business</td>\n",
       "      <td>375910200</td>\n",
       "    </tr>\n",
       "    <tr>\n",
       "      <th>3</th>\n",
       "      <td>2015-04</td>\n",
       "      <td>business</td>\n",
       "      <td>173913200</td>\n",
       "    </tr>\n",
       "    <tr>\n",
       "      <th>4</th>\n",
       "      <td>2015-05</td>\n",
       "      <td>business</td>\n",
       "      <td>552326800</td>\n",
       "    </tr>\n",
       "    <tr>\n",
       "      <th>...</th>\n",
       "      <td>...</td>\n",
       "      <td>...</td>\n",
       "      <td>...</td>\n",
       "    </tr>\n",
       "    <tr>\n",
       "      <th>235</th>\n",
       "      <td>2019-08</td>\n",
       "      <td>ryokan</td>\n",
       "      <td>759281900</td>\n",
       "    </tr>\n",
       "    <tr>\n",
       "      <th>236</th>\n",
       "      <td>2019-09</td>\n",
       "      <td>ryokan</td>\n",
       "      <td>178433900</td>\n",
       "    </tr>\n",
       "    <tr>\n",
       "      <th>237</th>\n",
       "      <td>2019-10</td>\n",
       "      <td>ryokan</td>\n",
       "      <td>191096100</td>\n",
       "    </tr>\n",
       "    <tr>\n",
       "      <th>238</th>\n",
       "      <td>2019-11</td>\n",
       "      <td>ryokan</td>\n",
       "      <td>176944100</td>\n",
       "    </tr>\n",
       "    <tr>\n",
       "      <th>239</th>\n",
       "      <td>2019-12</td>\n",
       "      <td>ryokan</td>\n",
       "      <td>373322300</td>\n",
       "    </tr>\n",
       "  </tbody>\n",
       "</table>\n",
       "<p>240 rows × 3 columns</p>\n",
       "</div>"
      ],
      "text/plain": [
       "       month hotel_type      sales\n",
       "0    2015-01   business  188593900\n",
       "1    2015-02   business  163494800\n",
       "2    2015-03   business  375910200\n",
       "3    2015-04   business  173913200\n",
       "4    2015-05   business  552326800\n",
       "..       ...        ...        ...\n",
       "235  2019-08     ryokan  759281900\n",
       "236  2019-09     ryokan  178433900\n",
       "237  2019-10     ryokan  191096100\n",
       "238  2019-11     ryokan  176944100\n",
       "239  2019-12     ryokan  373322300\n",
       "\n",
       "[240 rows x 3 columns]"
      ]
     },
     "execution_count": 4,
     "metadata": {},
     "output_type": "execute_result"
    }
   ],
   "source": [
    "pd_hotel_sales.melt(id_vars=\"month\", var_name=\"hotel_type\", value_name=\"sales\")"
   ]
  },
  {
   "cell_type": "markdown",
   "id": "26d4650a-72b7-4198-ac96-581bd503147c",
   "metadata": {},
   "source": [
    "## Polars"
   ]
  },
  {
   "cell_type": "code",
   "execution_count": 5,
   "id": "7725434c-920c-425a-81b8-694ee11c6f34",
   "metadata": {},
   "outputs": [],
   "source": [
    "import polars as pl"
   ]
  },
  {
   "cell_type": "code",
   "execution_count": 6,
   "id": "bc6fc84d-6cfa-4459-bcd0-f226b6d0afbe",
   "metadata": {},
   "outputs": [],
   "source": [
    "pl_hotel_sales = pl.read_parquet(\"../../data/hotel_sales.parquet\")"
   ]
  },
  {
   "cell_type": "code",
   "execution_count": 7,
   "id": "bbda08aa-83fc-45aa-96d7-861f5bd6f9cb",
   "metadata": {},
   "outputs": [
    {
     "data": {
      "text/html": [
       "<div><style>\n",
       ".dataframe > thead > tr,\n",
       ".dataframe > tbody > tr {\n",
       "  text-align: right;\n",
       "  white-space: pre-wrap;\n",
       "}\n",
       "</style>\n",
       "<small>shape: (5, 5)</small><table border=\"1\" class=\"dataframe\"><thead><tr><th>month</th><th>business</th><th>minshuku</th><th>resort</th><th>ryokan</th></tr><tr><td>str</td><td>i64</td><td>i64</td><td>i64</td><td>i64</td></tr></thead><tbody><tr><td>&quot;2015-01&quot;</td><td>188593900</td><td>168848500</td><td>185781400</td><td>187620400</td></tr><tr><td>&quot;2015-02&quot;</td><td>163494800</td><td>158697900</td><td>160538300</td><td>167680000</td></tr><tr><td>&quot;2015-03&quot;</td><td>375910200</td><td>342336600</td><td>362523600</td><td>367224800</td></tr><tr><td>&quot;2015-04&quot;</td><td>173913200</td><td>164582900</td><td>180903800</td><td>178178600</td></tr><tr><td>&quot;2015-05&quot;</td><td>552326800</td><td>517123500</td><td>560898500</td><td>555369200</td></tr></tbody></table></div>"
      ],
      "text/plain": [
       "shape: (5, 5)\n",
       "┌─────────┬───────────┬───────────┬───────────┬───────────┐\n",
       "│ month   ┆ business  ┆ minshuku  ┆ resort    ┆ ryokan    │\n",
       "│ ---     ┆ ---       ┆ ---       ┆ ---       ┆ ---       │\n",
       "│ str     ┆ i64       ┆ i64       ┆ i64       ┆ i64       │\n",
       "╞═════════╪═══════════╪═══════════╪═══════════╪═══════════╡\n",
       "│ 2015-01 ┆ 188593900 ┆ 168848500 ┆ 185781400 ┆ 187620400 │\n",
       "│ 2015-02 ┆ 163494800 ┆ 158697900 ┆ 160538300 ┆ 167680000 │\n",
       "│ 2015-03 ┆ 375910200 ┆ 342336600 ┆ 362523600 ┆ 367224800 │\n",
       "│ 2015-04 ┆ 173913200 ┆ 164582900 ┆ 180903800 ┆ 178178600 │\n",
       "│ 2015-05 ┆ 552326800 ┆ 517123500 ┆ 560898500 ┆ 555369200 │\n",
       "└─────────┴───────────┴───────────┴───────────┴───────────┘"
      ]
     },
     "execution_count": 7,
     "metadata": {},
     "output_type": "execute_result"
    }
   ],
   "source": [
    "pl_hotel_sales.head()"
   ]
  },
  {
   "cell_type": "code",
   "execution_count": 8,
   "id": "8a6e56d2-7534-4d5b-9ce2-21270e3701d8",
   "metadata": {},
   "outputs": [
    {
     "name": "stderr",
     "output_type": "stream",
     "text": [
      "/tmp/ipykernel_38176/4087146158.py:1: DeprecationWarning: `DataFrame.melt` is deprecated. Use `unpivot` instead, with `index` instead of `id_vars` and `on` instead of `value_vars`\n",
      "  pl_hotel_sales.melt(id_vars=\"month\", variable_name=\"hotel_type\", value_name=\"sales\")\n"
     ]
    },
    {
     "data": {
      "text/html": [
       "<div><style>\n",
       ".dataframe > thead > tr,\n",
       ".dataframe > tbody > tr {\n",
       "  text-align: right;\n",
       "  white-space: pre-wrap;\n",
       "}\n",
       "</style>\n",
       "<small>shape: (240, 3)</small><table border=\"1\" class=\"dataframe\"><thead><tr><th>month</th><th>hotel_type</th><th>sales</th></tr><tr><td>str</td><td>str</td><td>i64</td></tr></thead><tbody><tr><td>&quot;2015-01&quot;</td><td>&quot;business&quot;</td><td>188593900</td></tr><tr><td>&quot;2015-02&quot;</td><td>&quot;business&quot;</td><td>163494800</td></tr><tr><td>&quot;2015-03&quot;</td><td>&quot;business&quot;</td><td>375910200</td></tr><tr><td>&quot;2015-04&quot;</td><td>&quot;business&quot;</td><td>173913200</td></tr><tr><td>&quot;2015-05&quot;</td><td>&quot;business&quot;</td><td>552326800</td></tr><tr><td>&hellip;</td><td>&hellip;</td><td>&hellip;</td></tr><tr><td>&quot;2019-08&quot;</td><td>&quot;ryokan&quot;</td><td>759281900</td></tr><tr><td>&quot;2019-09&quot;</td><td>&quot;ryokan&quot;</td><td>178433900</td></tr><tr><td>&quot;2019-10&quot;</td><td>&quot;ryokan&quot;</td><td>191096100</td></tr><tr><td>&quot;2019-11&quot;</td><td>&quot;ryokan&quot;</td><td>176944100</td></tr><tr><td>&quot;2019-12&quot;</td><td>&quot;ryokan&quot;</td><td>373322300</td></tr></tbody></table></div>"
      ],
      "text/plain": [
       "shape: (240, 3)\n",
       "┌─────────┬────────────┬───────────┐\n",
       "│ month   ┆ hotel_type ┆ sales     │\n",
       "│ ---     ┆ ---        ┆ ---       │\n",
       "│ str     ┆ str        ┆ i64       │\n",
       "╞═════════╪════════════╪═══════════╡\n",
       "│ 2015-01 ┆ business   ┆ 188593900 │\n",
       "│ 2015-02 ┆ business   ┆ 163494800 │\n",
       "│ 2015-03 ┆ business   ┆ 375910200 │\n",
       "│ 2015-04 ┆ business   ┆ 173913200 │\n",
       "│ 2015-05 ┆ business   ┆ 552326800 │\n",
       "│ …       ┆ …          ┆ …         │\n",
       "│ 2019-08 ┆ ryokan     ┆ 759281900 │\n",
       "│ 2019-09 ┆ ryokan     ┆ 178433900 │\n",
       "│ 2019-10 ┆ ryokan     ┆ 191096100 │\n",
       "│ 2019-11 ┆ ryokan     ┆ 176944100 │\n",
       "│ 2019-12 ┆ ryokan     ┆ 373322300 │\n",
       "└─────────┴────────────┴───────────┘"
      ]
     },
     "execution_count": 8,
     "metadata": {},
     "output_type": "execute_result"
    }
   ],
   "source": [
    "pl_hotel_sales.melt(id_vars=\"month\", variable_name=\"hotel_type\", value_name=\"sales\")"
   ]
  },
  {
   "cell_type": "code",
   "execution_count": null,
   "id": "da7426a7-95b9-446d-81b6-8836036d0fde",
   "metadata": {},
   "outputs": [],
   "source": []
  }
 ],
 "metadata": {
  "kernelspec": {
   "display_name": "Python 3 (ipykernel)",
   "language": "python",
   "name": "python3"
  },
  "language_info": {
   "codemirror_mode": {
    "name": "ipython",
    "version": 3
   },
   "file_extension": ".py",
   "mimetype": "text/x-python",
   "name": "python",
   "nbconvert_exporter": "python",
   "pygments_lexer": "ipython3",
   "version": "3.12.6"
  }
 },
 "nbformat": 4,
 "nbformat_minor": 5
}
