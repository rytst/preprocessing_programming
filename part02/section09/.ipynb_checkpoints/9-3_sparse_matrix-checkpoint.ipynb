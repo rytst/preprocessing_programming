{
 "cells": [
  {
   "cell_type": "markdown",
   "id": "09ace9a9-9a46-4a09-b9bf-af32a6e7c81d",
   "metadata": {},
   "source": [
    "# 9-3 Sparse matrix"
   ]
  },
  {
   "cell_type": "markdown",
   "id": "34295fbd-78cf-44b8-bdcb-d87a57820622",
   "metadata": {},
   "source": [
    "## Pandas"
   ]
  },
  {
   "cell_type": "code",
   "execution_count": 1,
   "id": "aed3ac87-31d5-412f-95d5-9b957e4e87fe",
   "metadata": {},
   "outputs": [],
   "source": [
    "import pandas as pd"
   ]
  },
  {
   "cell_type": "code",
   "execution_count": 2,
   "id": "1f2b5358-ed4e-4cc1-a722-af22439d7ba4",
   "metadata": {},
   "outputs": [],
   "source": [
    "pd_reservation = pd.read_parquet(\"../../data/reservation.parquet\")"
   ]
  },
  {
   "cell_type": "code",
   "execution_count": 3,
   "id": "70280161-cadc-4e0c-8d6b-76edd0c2b665",
   "metadata": {},
   "outputs": [
    {
     "data": {
      "text/html": [
       "<div>\n",
       "<style scoped>\n",
       "    .dataframe tbody tr th:only-of-type {\n",
       "        vertical-align: middle;\n",
       "    }\n",
       "\n",
       "    .dataframe tbody tr th {\n",
       "        vertical-align: top;\n",
       "    }\n",
       "\n",
       "    .dataframe thead th {\n",
       "        text-align: right;\n",
       "    }\n",
       "</style>\n",
       "<table border=\"1\" class=\"dataframe\">\n",
       "  <thead>\n",
       "    <tr style=\"text-align: right;\">\n",
       "      <th></th>\n",
       "      <th>reservation_id</th>\n",
       "      <th>hotel_id</th>\n",
       "      <th>customer_id</th>\n",
       "      <th>reserved_at</th>\n",
       "      <th>checkin_date</th>\n",
       "      <th>checkout_date</th>\n",
       "      <th>length_of_stay</th>\n",
       "      <th>people_num</th>\n",
       "      <th>total_price</th>\n",
       "      <th>status</th>\n",
       "      <th>canceled_at</th>\n",
       "    </tr>\n",
       "  </thead>\n",
       "  <tbody>\n",
       "    <tr>\n",
       "      <th>0</th>\n",
       "      <td>1</td>\n",
       "      <td>2460</td>\n",
       "      <td>53431</td>\n",
       "      <td>2013-12-31 07:00:14+09:00</td>\n",
       "      <td>2014-12-31 00:00:00+09:00</td>\n",
       "      <td>2015-01-03 00:00:00+09:00</td>\n",
       "      <td>3</td>\n",
       "      <td>2</td>\n",
       "      <td>37800</td>\n",
       "      <td>reserved</td>\n",
       "      <td>NaT</td>\n",
       "    </tr>\n",
       "    <tr>\n",
       "      <th>1</th>\n",
       "      <td>2</td>\n",
       "      <td>962</td>\n",
       "      <td>488390</td>\n",
       "      <td>2013-12-31 08:23:35+09:00</td>\n",
       "      <td>2014-12-31 00:00:00+09:00</td>\n",
       "      <td>2015-01-02 00:00:00+09:00</td>\n",
       "      <td>2</td>\n",
       "      <td>3</td>\n",
       "      <td>42000</td>\n",
       "      <td>reserved</td>\n",
       "      <td>NaT</td>\n",
       "    </tr>\n",
       "    <tr>\n",
       "      <th>2</th>\n",
       "      <td>3</td>\n",
       "      <td>558</td>\n",
       "      <td>341335</td>\n",
       "      <td>2013-12-31 09:02:05+09:00</td>\n",
       "      <td>2014-12-31 00:00:00+09:00</td>\n",
       "      <td>2015-01-01 00:00:00+09:00</td>\n",
       "      <td>1</td>\n",
       "      <td>2</td>\n",
       "      <td>20400</td>\n",
       "      <td>reserved</td>\n",
       "      <td>NaT</td>\n",
       "    </tr>\n",
       "    <tr>\n",
       "      <th>3</th>\n",
       "      <td>4</td>\n",
       "      <td>3666</td>\n",
       "      <td>398981</td>\n",
       "      <td>2013-12-31 23:44:54+09:00</td>\n",
       "      <td>2014-12-31 00:00:00+09:00</td>\n",
       "      <td>2015-01-01 00:00:00+09:00</td>\n",
       "      <td>1</td>\n",
       "      <td>4</td>\n",
       "      <td>39600</td>\n",
       "      <td>reserved</td>\n",
       "      <td>NaT</td>\n",
       "    </tr>\n",
       "    <tr>\n",
       "      <th>4</th>\n",
       "      <td>5</td>\n",
       "      <td>2180</td>\n",
       "      <td>220381</td>\n",
       "      <td>2014-01-01 02:47:50+09:00</td>\n",
       "      <td>2014-12-31 00:00:00+09:00</td>\n",
       "      <td>2015-01-01 00:00:00+09:00</td>\n",
       "      <td>1</td>\n",
       "      <td>3</td>\n",
       "      <td>16500</td>\n",
       "      <td>reserved</td>\n",
       "      <td>NaT</td>\n",
       "    </tr>\n",
       "  </tbody>\n",
       "</table>\n",
       "</div>"
      ],
      "text/plain": [
       "   reservation_id  hotel_id  customer_id               reserved_at  \\\n",
       "0               1      2460        53431 2013-12-31 07:00:14+09:00   \n",
       "1               2       962       488390 2013-12-31 08:23:35+09:00   \n",
       "2               3       558       341335 2013-12-31 09:02:05+09:00   \n",
       "3               4      3666       398981 2013-12-31 23:44:54+09:00   \n",
       "4               5      2180       220381 2014-01-01 02:47:50+09:00   \n",
       "\n",
       "               checkin_date             checkout_date  length_of_stay  \\\n",
       "0 2014-12-31 00:00:00+09:00 2015-01-03 00:00:00+09:00               3   \n",
       "1 2014-12-31 00:00:00+09:00 2015-01-02 00:00:00+09:00               2   \n",
       "2 2014-12-31 00:00:00+09:00 2015-01-01 00:00:00+09:00               1   \n",
       "3 2014-12-31 00:00:00+09:00 2015-01-01 00:00:00+09:00               1   \n",
       "4 2014-12-31 00:00:00+09:00 2015-01-01 00:00:00+09:00               1   \n",
       "\n",
       "   people_num  total_price    status canceled_at  \n",
       "0           2        37800  reserved         NaT  \n",
       "1           3        42000  reserved         NaT  \n",
       "2           2        20400  reserved         NaT  \n",
       "3           4        39600  reserved         NaT  \n",
       "4           3        16500  reserved         NaT  "
      ]
     },
     "execution_count": 3,
     "metadata": {},
     "output_type": "execute_result"
    }
   ],
   "source": [
    "pd_reservation.head()"
   ]
  },
  {
   "cell_type": "code",
   "execution_count": 4,
   "id": "0eb669bc-1d6b-47a5-8248-9ef4dcda3938",
   "metadata": {},
   "outputs": [],
   "source": [
    "from scipy.sparse import csr_matrix"
   ]
  },
  {
   "cell_type": "code",
   "execution_count": 5,
   "id": "eb3efa51-1343-4892-8e63-084bf319d6ae",
   "metadata": {},
   "outputs": [
    {
     "data": {
      "text/plain": [
       "customer_id  people_num\n",
       "1            1             1\n",
       "             2             2\n",
       "             3             1\n",
       "             4             2\n",
       "2            1             1\n",
       "                          ..\n",
       "499999       4             2\n",
       "             6             1\n",
       "500000       1             1\n",
       "             2             1\n",
       "             3             3\n",
       "Length: 1289545, dtype: int64"
      ]
     },
     "execution_count": 5,
     "metadata": {},
     "output_type": "execute_result"
    }
   ],
   "source": [
    "# Vartical data\n",
    "cnt_data = pd_reservation.groupby([\"customer_id\", \"people_num\"]).size()\n",
    "cnt_data"
   ]
  },
  {
   "cell_type": "code",
   "execution_count": 6,
   "id": "7dc26985-d1a2-4aba-a6cd-283a934ac67b",
   "metadata": {},
   "outputs": [],
   "source": [
    "customer_id   = pd.Categorical(cnt_data.index.get_level_values(\"customer_id\"))\n",
    "people_num_id = pd.Categorical(cnt_data.index.get_level_values(\"people_num\"))"
   ]
  },
  {
   "cell_type": "code",
   "execution_count": 7,
   "id": "79d3d32c-eaf4-4976-b79a-ec09b3628246",
   "metadata": {},
   "outputs": [
    {
     "data": {
      "text/plain": [
       "<Compressed Sparse Row sparse matrix of dtype 'int64'\n",
       "\twith 1289545 stored elements and shape (417368, 6)>"
      ]
     },
     "execution_count": 7,
     "metadata": {},
     "output_type": "execute_result"
    }
   ],
   "source": [
    "csr_matrix((cnt_data, (customer_id.codes, people_num_id.codes)))"
   ]
  },
  {
   "cell_type": "markdown",
   "id": "e0cdf6df-e1b4-4fa9-a499-aa14ddbb82bb",
   "metadata": {},
   "source": [
    "## Polars"
   ]
  },
  {
   "cell_type": "code",
   "execution_count": 8,
   "id": "81e74404-ac22-4a0f-a0e6-1d3ea0a49079",
   "metadata": {},
   "outputs": [],
   "source": [
    "import polars as pl"
   ]
  },
  {
   "cell_type": "code",
   "execution_count": 9,
   "id": "2dd1c67e-7198-4cfa-ae83-a8f5da309bae",
   "metadata": {},
   "outputs": [],
   "source": [
    "pl_reservation = pl.read_parquet(\"../../data/reservation.parquet\")"
   ]
  },
  {
   "cell_type": "code",
   "execution_count": 10,
   "id": "3b6be15c-626e-4582-a4be-41c17804788d",
   "metadata": {},
   "outputs": [
    {
     "data": {
      "text/html": [
       "<div><style>\n",
       ".dataframe > thead > tr,\n",
       ".dataframe > tbody > tr {\n",
       "  text-align: right;\n",
       "  white-space: pre-wrap;\n",
       "}\n",
       "</style>\n",
       "<small>shape: (5, 11)</small><table border=\"1\" class=\"dataframe\"><thead><tr><th>reservation_id</th><th>hotel_id</th><th>customer_id</th><th>reserved_at</th><th>checkin_date</th><th>checkout_date</th><th>length_of_stay</th><th>people_num</th><th>total_price</th><th>status</th><th>canceled_at</th></tr><tr><td>i64</td><td>i64</td><td>i64</td><td>datetime[ns, Asia/Tokyo]</td><td>datetime[ns, Asia/Tokyo]</td><td>datetime[ns, Asia/Tokyo]</td><td>i64</td><td>i64</td><td>i64</td><td>str</td><td>datetime[ns, Asia/Tokyo]</td></tr></thead><tbody><tr><td>1</td><td>2460</td><td>53431</td><td>2013-12-31 07:00:14 JST</td><td>2014-12-31 00:00:00 JST</td><td>2015-01-03 00:00:00 JST</td><td>3</td><td>2</td><td>37800</td><td>&quot;reserved&quot;</td><td>null</td></tr><tr><td>2</td><td>962</td><td>488390</td><td>2013-12-31 08:23:35 JST</td><td>2014-12-31 00:00:00 JST</td><td>2015-01-02 00:00:00 JST</td><td>2</td><td>3</td><td>42000</td><td>&quot;reserved&quot;</td><td>null</td></tr><tr><td>3</td><td>558</td><td>341335</td><td>2013-12-31 09:02:05 JST</td><td>2014-12-31 00:00:00 JST</td><td>2015-01-01 00:00:00 JST</td><td>1</td><td>2</td><td>20400</td><td>&quot;reserved&quot;</td><td>null</td></tr><tr><td>4</td><td>3666</td><td>398981</td><td>2013-12-31 23:44:54 JST</td><td>2014-12-31 00:00:00 JST</td><td>2015-01-01 00:00:00 JST</td><td>1</td><td>4</td><td>39600</td><td>&quot;reserved&quot;</td><td>null</td></tr><tr><td>5</td><td>2180</td><td>220381</td><td>2014-01-01 02:47:50 JST</td><td>2014-12-31 00:00:00 JST</td><td>2015-01-01 00:00:00 JST</td><td>1</td><td>3</td><td>16500</td><td>&quot;reserved&quot;</td><td>null</td></tr></tbody></table></div>"
      ],
      "text/plain": [
       "shape: (5, 11)\n",
       "┌────────────┬──────────┬───────────┬───────────┬───┬───────────┬───────────┬──────────┬───────────┐\n",
       "│ reservatio ┆ hotel_id ┆ customer_ ┆ reserved_ ┆ … ┆ people_nu ┆ total_pri ┆ status   ┆ canceled_ │\n",
       "│ n_id       ┆ ---      ┆ id        ┆ at        ┆   ┆ m         ┆ ce        ┆ ---      ┆ at        │\n",
       "│ ---        ┆ i64      ┆ ---       ┆ ---       ┆   ┆ ---       ┆ ---       ┆ str      ┆ ---       │\n",
       "│ i64        ┆          ┆ i64       ┆ datetime[ ┆   ┆ i64       ┆ i64       ┆          ┆ datetime[ │\n",
       "│            ┆          ┆           ┆ ns, Asia/ ┆   ┆           ┆           ┆          ┆ ns, Asia/ │\n",
       "│            ┆          ┆           ┆ Tokyo]    ┆   ┆           ┆           ┆          ┆ Tokyo]    │\n",
       "╞════════════╪══════════╪═══════════╪═══════════╪═══╪═══════════╪═══════════╪══════════╪═══════════╡\n",
       "│ 1          ┆ 2460     ┆ 53431     ┆ 2013-12-3 ┆ … ┆ 2         ┆ 37800     ┆ reserved ┆ null      │\n",
       "│            ┆          ┆           ┆ 1         ┆   ┆           ┆           ┆          ┆           │\n",
       "│            ┆          ┆           ┆ 07:00:14  ┆   ┆           ┆           ┆          ┆           │\n",
       "│            ┆          ┆           ┆ JST       ┆   ┆           ┆           ┆          ┆           │\n",
       "│ 2          ┆ 962      ┆ 488390    ┆ 2013-12-3 ┆ … ┆ 3         ┆ 42000     ┆ reserved ┆ null      │\n",
       "│            ┆          ┆           ┆ 1         ┆   ┆           ┆           ┆          ┆           │\n",
       "│            ┆          ┆           ┆ 08:23:35  ┆   ┆           ┆           ┆          ┆           │\n",
       "│            ┆          ┆           ┆ JST       ┆   ┆           ┆           ┆          ┆           │\n",
       "│ 3          ┆ 558      ┆ 341335    ┆ 2013-12-3 ┆ … ┆ 2         ┆ 20400     ┆ reserved ┆ null      │\n",
       "│            ┆          ┆           ┆ 1         ┆   ┆           ┆           ┆          ┆           │\n",
       "│            ┆          ┆           ┆ 09:02:05  ┆   ┆           ┆           ┆          ┆           │\n",
       "│            ┆          ┆           ┆ JST       ┆   ┆           ┆           ┆          ┆           │\n",
       "│ 4          ┆ 3666     ┆ 398981    ┆ 2013-12-3 ┆ … ┆ 4         ┆ 39600     ┆ reserved ┆ null      │\n",
       "│            ┆          ┆           ┆ 1         ┆   ┆           ┆           ┆          ┆           │\n",
       "│            ┆          ┆           ┆ 23:44:54  ┆   ┆           ┆           ┆          ┆           │\n",
       "│            ┆          ┆           ┆ JST       ┆   ┆           ┆           ┆          ┆           │\n",
       "│ 5          ┆ 2180     ┆ 220381    ┆ 2014-01-0 ┆ … ┆ 3         ┆ 16500     ┆ reserved ┆ null      │\n",
       "│            ┆          ┆           ┆ 1         ┆   ┆           ┆           ┆          ┆           │\n",
       "│            ┆          ┆           ┆ 02:47:50  ┆   ┆           ┆           ┆          ┆           │\n",
       "│            ┆          ┆           ┆ JST       ┆   ┆           ┆           ┆          ┆           │\n",
       "└────────────┴──────────┴───────────┴───────────┴───┴───────────┴───────────┴──────────┴───────────┘"
      ]
     },
     "execution_count": 10,
     "metadata": {},
     "output_type": "execute_result"
    }
   ],
   "source": [
    "pl_reservation.head()"
   ]
  },
  {
   "cell_type": "code",
   "execution_count": 11,
   "id": "248e002c-fcab-4938-99a6-fe187134ef04",
   "metadata": {},
   "outputs": [],
   "source": [
    "from scipy.sparse import csr_matrix"
   ]
  },
  {
   "cell_type": "code",
   "execution_count": 12,
   "id": "94f0f9ff-89ee-4b5e-866c-c78cf4fc2f1b",
   "metadata": {},
   "outputs": [],
   "source": [
    "cnt_data = pl_reservation.group_by([\"customer_id\", \"people_num\"]).agg(pl.len())"
   ]
  },
  {
   "cell_type": "code",
   "execution_count": 13,
   "id": "def60422-8f4a-43b7-9b2d-de756ae3d7d8",
   "metadata": {},
   "outputs": [],
   "source": [
    "customer_id   = cnt_data[\"customer_id\"].cast(pl.Utf8).cast(pl.Categorical)\n",
    "people_num_id = cnt_data[\"people_num\"].cast(pl.Utf8).cast(pl.Categorical)"
   ]
  },
  {
   "cell_type": "code",
   "execution_count": 14,
   "id": "dae9dd0f-00f5-4b02-8ee9-dc0e450bb54c",
   "metadata": {},
   "outputs": [
    {
     "data": {
      "text/plain": [
       "<Compressed Sparse Row sparse matrix of dtype 'uint32'\n",
       "\twith 1289545 stored elements and shape (417368, 6)>"
      ]
     },
     "execution_count": 14,
     "metadata": {},
     "output_type": "execute_result"
    }
   ],
   "source": [
    "csr_matrix(\n",
    "    (\n",
    "        cnt_data[\"len\"],\n",
    "        (customer_id.to_physical().to_numpy(), people_num_id.to_physical().to_numpy())\n",
    "    )\n",
    ")"
   ]
  },
  {
   "cell_type": "code",
   "execution_count": null,
   "id": "dd232486-983c-4c72-b37f-2fc95964100a",
   "metadata": {},
   "outputs": [],
   "source": []
  }
 ],
 "metadata": {
  "kernelspec": {
   "display_name": "Python 3 (ipykernel)",
   "language": "python",
   "name": "python3"
  },
  "language_info": {
   "codemirror_mode": {
    "name": "ipython",
    "version": 3
   },
   "file_extension": ".py",
   "mimetype": "text/x-python",
   "name": "python",
   "nbconvert_exporter": "python",
   "pygments_lexer": "ipython3",
   "version": "3.12.6"
  }
 },
 "nbformat": 4,
 "nbformat_minor": 5
}
