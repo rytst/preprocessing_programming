{
 "cells": [
  {
   "cell_type": "markdown",
   "id": "f3eab88c-4096-451b-a7b3-142eee141d0c",
   "metadata": {},
   "source": [
    "# 6-5 Existence check of rows satisfying the conditions"
   ]
  },
  {
   "cell_type": "markdown",
   "id": "0f7c429d-00ac-4422-a762-6ffa0c85b637",
   "metadata": {},
   "source": [
    "## Customers who canceled thier reservation in 7 days"
   ]
  },
  {
   "cell_type": "markdown",
   "id": "35552857-ae41-400d-8b33-1961fa4cd63d",
   "metadata": {},
   "source": [
    "### Pandas"
   ]
  },
  {
   "cell_type": "code",
   "execution_count": 1,
   "id": "a4e8244e-5810-49c6-94a3-811120d79b6c",
   "metadata": {},
   "outputs": [],
   "source": [
    "import pandas as pd"
   ]
  },
  {
   "cell_type": "code",
   "execution_count": 2,
   "id": "ca6101f3-188b-452f-8944-37f9e8aee32e",
   "metadata": {},
   "outputs": [],
   "source": [
    "pd_reservation = pd.read_parquet(\"../../data/reservation.parquet\")"
   ]
  },
  {
   "cell_type": "code",
   "execution_count": 3,
   "id": "34173f0b-d0dd-45aa-bc91-bfd793a63d6e",
   "metadata": {},
   "outputs": [
    {
     "data": {
      "text/html": [
       "<div>\n",
       "<style scoped>\n",
       "    .dataframe tbody tr th:only-of-type {\n",
       "        vertical-align: middle;\n",
       "    }\n",
       "\n",
       "    .dataframe tbody tr th {\n",
       "        vertical-align: top;\n",
       "    }\n",
       "\n",
       "    .dataframe thead th {\n",
       "        text-align: right;\n",
       "    }\n",
       "</style>\n",
       "<table border=\"1\" class=\"dataframe\">\n",
       "  <thead>\n",
       "    <tr style=\"text-align: right;\">\n",
       "      <th></th>\n",
       "      <th>reservation_id</th>\n",
       "      <th>hotel_id</th>\n",
       "      <th>customer_id</th>\n",
       "      <th>reserved_at</th>\n",
       "      <th>checkin_date</th>\n",
       "      <th>checkout_date</th>\n",
       "      <th>length_of_stay</th>\n",
       "      <th>people_num</th>\n",
       "      <th>total_price</th>\n",
       "      <th>status</th>\n",
       "      <th>canceled_at</th>\n",
       "    </tr>\n",
       "  </thead>\n",
       "  <tbody>\n",
       "    <tr>\n",
       "      <th>0</th>\n",
       "      <td>1</td>\n",
       "      <td>2460</td>\n",
       "      <td>53431</td>\n",
       "      <td>2013-12-31 07:00:14+09:00</td>\n",
       "      <td>2014-12-31 00:00:00+09:00</td>\n",
       "      <td>2015-01-03 00:00:00+09:00</td>\n",
       "      <td>3</td>\n",
       "      <td>2</td>\n",
       "      <td>37800</td>\n",
       "      <td>reserved</td>\n",
       "      <td>NaT</td>\n",
       "    </tr>\n",
       "    <tr>\n",
       "      <th>1</th>\n",
       "      <td>2</td>\n",
       "      <td>962</td>\n",
       "      <td>488390</td>\n",
       "      <td>2013-12-31 08:23:35+09:00</td>\n",
       "      <td>2014-12-31 00:00:00+09:00</td>\n",
       "      <td>2015-01-02 00:00:00+09:00</td>\n",
       "      <td>2</td>\n",
       "      <td>3</td>\n",
       "      <td>42000</td>\n",
       "      <td>reserved</td>\n",
       "      <td>NaT</td>\n",
       "    </tr>\n",
       "    <tr>\n",
       "      <th>2</th>\n",
       "      <td>3</td>\n",
       "      <td>558</td>\n",
       "      <td>341335</td>\n",
       "      <td>2013-12-31 09:02:05+09:00</td>\n",
       "      <td>2014-12-31 00:00:00+09:00</td>\n",
       "      <td>2015-01-01 00:00:00+09:00</td>\n",
       "      <td>1</td>\n",
       "      <td>2</td>\n",
       "      <td>20400</td>\n",
       "      <td>reserved</td>\n",
       "      <td>NaT</td>\n",
       "    </tr>\n",
       "    <tr>\n",
       "      <th>3</th>\n",
       "      <td>4</td>\n",
       "      <td>3666</td>\n",
       "      <td>398981</td>\n",
       "      <td>2013-12-31 23:44:54+09:00</td>\n",
       "      <td>2014-12-31 00:00:00+09:00</td>\n",
       "      <td>2015-01-01 00:00:00+09:00</td>\n",
       "      <td>1</td>\n",
       "      <td>4</td>\n",
       "      <td>39600</td>\n",
       "      <td>reserved</td>\n",
       "      <td>NaT</td>\n",
       "    </tr>\n",
       "    <tr>\n",
       "      <th>4</th>\n",
       "      <td>5</td>\n",
       "      <td>2180</td>\n",
       "      <td>220381</td>\n",
       "      <td>2014-01-01 02:47:50+09:00</td>\n",
       "      <td>2014-12-31 00:00:00+09:00</td>\n",
       "      <td>2015-01-01 00:00:00+09:00</td>\n",
       "      <td>1</td>\n",
       "      <td>3</td>\n",
       "      <td>16500</td>\n",
       "      <td>reserved</td>\n",
       "      <td>NaT</td>\n",
       "    </tr>\n",
       "  </tbody>\n",
       "</table>\n",
       "</div>"
      ],
      "text/plain": [
       "   reservation_id  hotel_id  customer_id               reserved_at  \\\n",
       "0               1      2460        53431 2013-12-31 07:00:14+09:00   \n",
       "1               2       962       488390 2013-12-31 08:23:35+09:00   \n",
       "2               3       558       341335 2013-12-31 09:02:05+09:00   \n",
       "3               4      3666       398981 2013-12-31 23:44:54+09:00   \n",
       "4               5      2180       220381 2014-01-01 02:47:50+09:00   \n",
       "\n",
       "               checkin_date             checkout_date  length_of_stay  \\\n",
       "0 2014-12-31 00:00:00+09:00 2015-01-03 00:00:00+09:00               3   \n",
       "1 2014-12-31 00:00:00+09:00 2015-01-02 00:00:00+09:00               2   \n",
       "2 2014-12-31 00:00:00+09:00 2015-01-01 00:00:00+09:00               1   \n",
       "3 2014-12-31 00:00:00+09:00 2015-01-01 00:00:00+09:00               1   \n",
       "4 2014-12-31 00:00:00+09:00 2015-01-01 00:00:00+09:00               1   \n",
       "\n",
       "   people_num  total_price    status canceled_at  \n",
       "0           2        37800  reserved         NaT  \n",
       "1           3        42000  reserved         NaT  \n",
       "2           2        20400  reserved         NaT  \n",
       "3           4        39600  reserved         NaT  \n",
       "4           3        16500  reserved         NaT  "
      ]
     },
     "execution_count": 3,
     "metadata": {},
     "output_type": "execute_result"
    }
   ],
   "source": [
    "pd_reservation.head()"
   ]
  },
  {
   "cell_type": "code",
   "execution_count": 4,
   "id": "b7058731-9d8e-46bb-bfa0-5f64f1763d01",
   "metadata": {},
   "outputs": [
    {
     "data": {
      "text/plain": [
       "customer_id\n",
       "1         False\n",
       "2         False\n",
       "3         False\n",
       "4         False\n",
       "5         False\n",
       "          ...  \n",
       "499996    False\n",
       "499997    False\n",
       "499998     True\n",
       "499999    False\n",
       "500000    False\n",
       "Name: is_canceled_within_7days_to_checkin, Length: 417368, dtype: bool"
      ]
     },
     "execution_count": 4,
     "metadata": {},
     "output_type": "execute_result"
    }
   ],
   "source": [
    "(\n",
    "    pd_reservation\n",
    "    .assign(is_canceled_within_7days_to_checkin=lambda df:\n",
    "            (df.status == \"canceled\") & ((df.checkin_date - df.canceled_at).dt.days <= 7))\n",
    "    .groupby(\"customer_id\")\n",
    "    .is_canceled_within_7days_to_checkin\n",
    "    .max()\n",
    ")"
   ]
  },
  {
   "cell_type": "markdown",
   "id": "99ee5649-0869-449e-b4ae-f71773e40c1c",
   "metadata": {},
   "source": [
    "### Polars"
   ]
  },
  {
   "cell_type": "code",
   "execution_count": 5,
   "id": "0d190548-d050-4ac7-b32a-a79f1f6f2224",
   "metadata": {},
   "outputs": [],
   "source": [
    "import polars as pl"
   ]
  },
  {
   "cell_type": "code",
   "execution_count": 6,
   "id": "3bf764f2-93b5-49cd-9139-d7e481025c97",
   "metadata": {},
   "outputs": [],
   "source": [
    "pl_reservation = pl.read_parquet(\"../../data/reservation.parquet\")"
   ]
  },
  {
   "cell_type": "code",
   "execution_count": 7,
   "id": "d2d1ff12-919d-4208-82b6-3c0e5d7e606a",
   "metadata": {},
   "outputs": [
    {
     "data": {
      "text/html": [
       "<div><style>\n",
       ".dataframe > thead > tr,\n",
       ".dataframe > tbody > tr {\n",
       "  text-align: right;\n",
       "  white-space: pre-wrap;\n",
       "}\n",
       "</style>\n",
       "<small>shape: (5, 11)</small><table border=\"1\" class=\"dataframe\"><thead><tr><th>reservation_id</th><th>hotel_id</th><th>customer_id</th><th>reserved_at</th><th>checkin_date</th><th>checkout_date</th><th>length_of_stay</th><th>people_num</th><th>total_price</th><th>status</th><th>canceled_at</th></tr><tr><td>i64</td><td>i64</td><td>i64</td><td>datetime[ns, Asia/Tokyo]</td><td>datetime[ns, Asia/Tokyo]</td><td>datetime[ns, Asia/Tokyo]</td><td>i64</td><td>i64</td><td>i64</td><td>str</td><td>datetime[ns, Asia/Tokyo]</td></tr></thead><tbody><tr><td>1</td><td>2460</td><td>53431</td><td>2013-12-31 07:00:14 JST</td><td>2014-12-31 00:00:00 JST</td><td>2015-01-03 00:00:00 JST</td><td>3</td><td>2</td><td>37800</td><td>&quot;reserved&quot;</td><td>null</td></tr><tr><td>2</td><td>962</td><td>488390</td><td>2013-12-31 08:23:35 JST</td><td>2014-12-31 00:00:00 JST</td><td>2015-01-02 00:00:00 JST</td><td>2</td><td>3</td><td>42000</td><td>&quot;reserved&quot;</td><td>null</td></tr><tr><td>3</td><td>558</td><td>341335</td><td>2013-12-31 09:02:05 JST</td><td>2014-12-31 00:00:00 JST</td><td>2015-01-01 00:00:00 JST</td><td>1</td><td>2</td><td>20400</td><td>&quot;reserved&quot;</td><td>null</td></tr><tr><td>4</td><td>3666</td><td>398981</td><td>2013-12-31 23:44:54 JST</td><td>2014-12-31 00:00:00 JST</td><td>2015-01-01 00:00:00 JST</td><td>1</td><td>4</td><td>39600</td><td>&quot;reserved&quot;</td><td>null</td></tr><tr><td>5</td><td>2180</td><td>220381</td><td>2014-01-01 02:47:50 JST</td><td>2014-12-31 00:00:00 JST</td><td>2015-01-01 00:00:00 JST</td><td>1</td><td>3</td><td>16500</td><td>&quot;reserved&quot;</td><td>null</td></tr></tbody></table></div>"
      ],
      "text/plain": [
       "shape: (5, 11)\n",
       "┌────────────┬──────────┬───────────┬───────────┬───┬───────────┬───────────┬──────────┬───────────┐\n",
       "│ reservatio ┆ hotel_id ┆ customer_ ┆ reserved_ ┆ … ┆ people_nu ┆ total_pri ┆ status   ┆ canceled_ │\n",
       "│ n_id       ┆ ---      ┆ id        ┆ at        ┆   ┆ m         ┆ ce        ┆ ---      ┆ at        │\n",
       "│ ---        ┆ i64      ┆ ---       ┆ ---       ┆   ┆ ---       ┆ ---       ┆ str      ┆ ---       │\n",
       "│ i64        ┆          ┆ i64       ┆ datetime[ ┆   ┆ i64       ┆ i64       ┆          ┆ datetime[ │\n",
       "│            ┆          ┆           ┆ ns, Asia/ ┆   ┆           ┆           ┆          ┆ ns, Asia/ │\n",
       "│            ┆          ┆           ┆ Tokyo]    ┆   ┆           ┆           ┆          ┆ Tokyo]    │\n",
       "╞════════════╪══════════╪═══════════╪═══════════╪═══╪═══════════╪═══════════╪══════════╪═══════════╡\n",
       "│ 1          ┆ 2460     ┆ 53431     ┆ 2013-12-3 ┆ … ┆ 2         ┆ 37800     ┆ reserved ┆ null      │\n",
       "│            ┆          ┆           ┆ 1         ┆   ┆           ┆           ┆          ┆           │\n",
       "│            ┆          ┆           ┆ 07:00:14  ┆   ┆           ┆           ┆          ┆           │\n",
       "│            ┆          ┆           ┆ JST       ┆   ┆           ┆           ┆          ┆           │\n",
       "│ 2          ┆ 962      ┆ 488390    ┆ 2013-12-3 ┆ … ┆ 3         ┆ 42000     ┆ reserved ┆ null      │\n",
       "│            ┆          ┆           ┆ 1         ┆   ┆           ┆           ┆          ┆           │\n",
       "│            ┆          ┆           ┆ 08:23:35  ┆   ┆           ┆           ┆          ┆           │\n",
       "│            ┆          ┆           ┆ JST       ┆   ┆           ┆           ┆          ┆           │\n",
       "│ 3          ┆ 558      ┆ 341335    ┆ 2013-12-3 ┆ … ┆ 2         ┆ 20400     ┆ reserved ┆ null      │\n",
       "│            ┆          ┆           ┆ 1         ┆   ┆           ┆           ┆          ┆           │\n",
       "│            ┆          ┆           ┆ 09:02:05  ┆   ┆           ┆           ┆          ┆           │\n",
       "│            ┆          ┆           ┆ JST       ┆   ┆           ┆           ┆          ┆           │\n",
       "│ 4          ┆ 3666     ┆ 398981    ┆ 2013-12-3 ┆ … ┆ 4         ┆ 39600     ┆ reserved ┆ null      │\n",
       "│            ┆          ┆           ┆ 1         ┆   ┆           ┆           ┆          ┆           │\n",
       "│            ┆          ┆           ┆ 23:44:54  ┆   ┆           ┆           ┆          ┆           │\n",
       "│            ┆          ┆           ┆ JST       ┆   ┆           ┆           ┆          ┆           │\n",
       "│ 5          ┆ 2180     ┆ 220381    ┆ 2014-01-0 ┆ … ┆ 3         ┆ 16500     ┆ reserved ┆ null      │\n",
       "│            ┆          ┆           ┆ 1         ┆   ┆           ┆           ┆          ┆           │\n",
       "│            ┆          ┆           ┆ 02:47:50  ┆   ┆           ┆           ┆          ┆           │\n",
       "│            ┆          ┆           ┆ JST       ┆   ┆           ┆           ┆          ┆           │\n",
       "└────────────┴──────────┴───────────┴───────────┴───┴───────────┴───────────┴──────────┴───────────┘"
      ]
     },
     "execution_count": 7,
     "metadata": {},
     "output_type": "execute_result"
    }
   ],
   "source": [
    "pl_reservation.head()"
   ]
  },
  {
   "cell_type": "code",
   "execution_count": 8,
   "id": "c6c3a7ca-dc7e-4a0c-b685-157849bc2b42",
   "metadata": {},
   "outputs": [
    {
     "data": {
      "text/html": [
       "<div><style>\n",
       ".dataframe > thead > tr,\n",
       ".dataframe > tbody > tr {\n",
       "  text-align: right;\n",
       "  white-space: pre-wrap;\n",
       "}\n",
       "</style>\n",
       "<small>shape: (417_368, 2)</small><table border=\"1\" class=\"dataframe\"><thead><tr><th>customer_id</th><th>status</th></tr><tr><td>i64</td><td>bool</td></tr></thead><tbody><tr><td>1</td><td>false</td></tr><tr><td>2</td><td>false</td></tr><tr><td>3</td><td>false</td></tr><tr><td>4</td><td>false</td></tr><tr><td>5</td><td>false</td></tr><tr><td>&hellip;</td><td>&hellip;</td></tr><tr><td>499996</td><td>false</td></tr><tr><td>499997</td><td>false</td></tr><tr><td>499998</td><td>true</td></tr><tr><td>499999</td><td>false</td></tr><tr><td>500000</td><td>false</td></tr></tbody></table></div>"
      ],
      "text/plain": [
       "shape: (417_368, 2)\n",
       "┌─────────────┬────────┐\n",
       "│ customer_id ┆ status │\n",
       "│ ---         ┆ ---    │\n",
       "│ i64         ┆ bool   │\n",
       "╞═════════════╪════════╡\n",
       "│ 1           ┆ false  │\n",
       "│ 2           ┆ false  │\n",
       "│ 3           ┆ false  │\n",
       "│ 4           ┆ false  │\n",
       "│ 5           ┆ false  │\n",
       "│ …           ┆ …      │\n",
       "│ 499996      ┆ false  │\n",
       "│ 499997      ┆ false  │\n",
       "│ 499998      ┆ true   │\n",
       "│ 499999      ┆ false  │\n",
       "│ 500000      ┆ false  │\n",
       "└─────────────┴────────┘"
      ]
     },
     "execution_count": 8,
     "metadata": {},
     "output_type": "execute_result"
    }
   ],
   "source": [
    "(\n",
    "    pl_reservation\n",
    "    .group_by(\"customer_id\")\n",
    "    .agg(\n",
    "        (\n",
    "            (pl.col(\"status\") == \"canceled\") &\n",
    "            ((pl.col(\"checkin_date\") - pl.col(\"canceled_at\")).dt.total_days() <= 7)\n",
    "        ).max()\n",
    "    ).sort(\"customer_id\")\n",
    ")"
   ]
  },
  {
   "cell_type": "code",
   "execution_count": null,
   "id": "f014cfc6-6672-4832-a959-a4ca934fbf91",
   "metadata": {},
   "outputs": [],
   "source": []
  }
 ],
 "metadata": {
  "kernelspec": {
   "display_name": "Python 3 (ipykernel)",
   "language": "python",
   "name": "python3"
  },
  "language_info": {
   "codemirror_mode": {
    "name": "ipython",
    "version": 3
   },
   "file_extension": ".py",
   "mimetype": "text/x-python",
   "name": "python",
   "nbconvert_exporter": "python",
   "pygments_lexer": "ipython3",
   "version": "3.10.12"
  }
 },
 "nbformat": 4,
 "nbformat_minor": 5
}
