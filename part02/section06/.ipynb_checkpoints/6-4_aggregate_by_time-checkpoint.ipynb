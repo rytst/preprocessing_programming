{
 "cells": [
  {
   "cell_type": "markdown",
   "id": "05fd5395-068b-4df0-a0e5-0d7f23a18bcf",
   "metadata": {},
   "source": [
    "# 6-4 Aggredate by time interval"
   ]
  },
  {
   "cell_type": "markdown",
   "id": "7a738977-d2cc-4bd2-af1a-c67edc20b4c1",
   "metadata": {},
   "source": [
    "## Sales by month"
   ]
  },
  {
   "cell_type": "markdown",
   "id": "c7ffbf34-0318-4be1-ba70-aa9411f81987",
   "metadata": {},
   "source": [
    "### Pandas"
   ]
  },
  {
   "cell_type": "code",
   "execution_count": 1,
   "id": "3bdbbdd2-706c-4656-a531-b22bbb146ec8",
   "metadata": {},
   "outputs": [],
   "source": [
    "import pandas as pd"
   ]
  },
  {
   "cell_type": "code",
   "execution_count": 2,
   "id": "c90f0931-091c-4dc7-aedb-ba28eb18b104",
   "metadata": {},
   "outputs": [],
   "source": [
    "pd_reservation = pd.read_parquet(\"../../data/reservation.parquet\")"
   ]
  },
  {
   "cell_type": "code",
   "execution_count": 3,
   "id": "10e9c63f-45f3-42e6-bf30-53d792f02606",
   "metadata": {},
   "outputs": [
    {
     "data": {
      "text/html": [
       "<div>\n",
       "<style scoped>\n",
       "    .dataframe tbody tr th:only-of-type {\n",
       "        vertical-align: middle;\n",
       "    }\n",
       "\n",
       "    .dataframe tbody tr th {\n",
       "        vertical-align: top;\n",
       "    }\n",
       "\n",
       "    .dataframe thead th {\n",
       "        text-align: right;\n",
       "    }\n",
       "</style>\n",
       "<table border=\"1\" class=\"dataframe\">\n",
       "  <thead>\n",
       "    <tr style=\"text-align: right;\">\n",
       "      <th></th>\n",
       "      <th>reservation_id</th>\n",
       "      <th>hotel_id</th>\n",
       "      <th>customer_id</th>\n",
       "      <th>reserved_at</th>\n",
       "      <th>checkin_date</th>\n",
       "      <th>checkout_date</th>\n",
       "      <th>length_of_stay</th>\n",
       "      <th>people_num</th>\n",
       "      <th>total_price</th>\n",
       "      <th>status</th>\n",
       "      <th>canceled_at</th>\n",
       "    </tr>\n",
       "  </thead>\n",
       "  <tbody>\n",
       "    <tr>\n",
       "      <th>0</th>\n",
       "      <td>1</td>\n",
       "      <td>2460</td>\n",
       "      <td>53431</td>\n",
       "      <td>2013-12-31 07:00:14+09:00</td>\n",
       "      <td>2014-12-31 00:00:00+09:00</td>\n",
       "      <td>2015-01-03 00:00:00+09:00</td>\n",
       "      <td>3</td>\n",
       "      <td>2</td>\n",
       "      <td>37800</td>\n",
       "      <td>reserved</td>\n",
       "      <td>NaT</td>\n",
       "    </tr>\n",
       "    <tr>\n",
       "      <th>1</th>\n",
       "      <td>2</td>\n",
       "      <td>962</td>\n",
       "      <td>488390</td>\n",
       "      <td>2013-12-31 08:23:35+09:00</td>\n",
       "      <td>2014-12-31 00:00:00+09:00</td>\n",
       "      <td>2015-01-02 00:00:00+09:00</td>\n",
       "      <td>2</td>\n",
       "      <td>3</td>\n",
       "      <td>42000</td>\n",
       "      <td>reserved</td>\n",
       "      <td>NaT</td>\n",
       "    </tr>\n",
       "    <tr>\n",
       "      <th>2</th>\n",
       "      <td>3</td>\n",
       "      <td>558</td>\n",
       "      <td>341335</td>\n",
       "      <td>2013-12-31 09:02:05+09:00</td>\n",
       "      <td>2014-12-31 00:00:00+09:00</td>\n",
       "      <td>2015-01-01 00:00:00+09:00</td>\n",
       "      <td>1</td>\n",
       "      <td>2</td>\n",
       "      <td>20400</td>\n",
       "      <td>reserved</td>\n",
       "      <td>NaT</td>\n",
       "    </tr>\n",
       "    <tr>\n",
       "      <th>3</th>\n",
       "      <td>4</td>\n",
       "      <td>3666</td>\n",
       "      <td>398981</td>\n",
       "      <td>2013-12-31 23:44:54+09:00</td>\n",
       "      <td>2014-12-31 00:00:00+09:00</td>\n",
       "      <td>2015-01-01 00:00:00+09:00</td>\n",
       "      <td>1</td>\n",
       "      <td>4</td>\n",
       "      <td>39600</td>\n",
       "      <td>reserved</td>\n",
       "      <td>NaT</td>\n",
       "    </tr>\n",
       "    <tr>\n",
       "      <th>4</th>\n",
       "      <td>5</td>\n",
       "      <td>2180</td>\n",
       "      <td>220381</td>\n",
       "      <td>2014-01-01 02:47:50+09:00</td>\n",
       "      <td>2014-12-31 00:00:00+09:00</td>\n",
       "      <td>2015-01-01 00:00:00+09:00</td>\n",
       "      <td>1</td>\n",
       "      <td>3</td>\n",
       "      <td>16500</td>\n",
       "      <td>reserved</td>\n",
       "      <td>NaT</td>\n",
       "    </tr>\n",
       "  </tbody>\n",
       "</table>\n",
       "</div>"
      ],
      "text/plain": [
       "   reservation_id  hotel_id  customer_id               reserved_at  \\\n",
       "0               1      2460        53431 2013-12-31 07:00:14+09:00   \n",
       "1               2       962       488390 2013-12-31 08:23:35+09:00   \n",
       "2               3       558       341335 2013-12-31 09:02:05+09:00   \n",
       "3               4      3666       398981 2013-12-31 23:44:54+09:00   \n",
       "4               5      2180       220381 2014-01-01 02:47:50+09:00   \n",
       "\n",
       "               checkin_date             checkout_date  length_of_stay  \\\n",
       "0 2014-12-31 00:00:00+09:00 2015-01-03 00:00:00+09:00               3   \n",
       "1 2014-12-31 00:00:00+09:00 2015-01-02 00:00:00+09:00               2   \n",
       "2 2014-12-31 00:00:00+09:00 2015-01-01 00:00:00+09:00               1   \n",
       "3 2014-12-31 00:00:00+09:00 2015-01-01 00:00:00+09:00               1   \n",
       "4 2014-12-31 00:00:00+09:00 2015-01-01 00:00:00+09:00               1   \n",
       "\n",
       "   people_num  total_price    status canceled_at  \n",
       "0           2        37800  reserved         NaT  \n",
       "1           3        42000  reserved         NaT  \n",
       "2           2        20400  reserved         NaT  \n",
       "3           4        39600  reserved         NaT  \n",
       "4           3        16500  reserved         NaT  "
      ]
     },
     "execution_count": 3,
     "metadata": {},
     "output_type": "execute_result"
    }
   ],
   "source": [
    "pd_reservation.head()"
   ]
  },
  {
   "cell_type": "code",
   "execution_count": 4,
   "id": "f83c4691-148c-470d-9a69-aa693eabeac0",
   "metadata": {},
   "outputs": [
    {
     "name": "stderr",
     "output_type": "stream",
     "text": [
      "/tmp/ipykernel_9010/3569843618.py:4: UserWarning: Converting to PeriodArray/Index representation will drop timezone information.\n",
      "  .assign(month=lambda df: df.checkout_date.dt.to_period(\"M\"))\n"
     ]
    },
    {
     "data": {
      "text/plain": [
       "month\n",
       "2015-01     730844200\n",
       "2015-02     650411000\n",
       "2015-03    1447995200\n",
       "2015-04     697578500\n",
       "2015-05    2185718000\n",
       "2015-06     697210900\n",
       "2015-07    1465165300\n",
       "2015-08    2910478200\n",
       "2015-09     708236200\n",
       "2015-10     733080000\n",
       "2015-11     704430600\n",
       "2015-12    1468389300\n",
       "2016-01     730553200\n",
       "2016-02     688327500\n",
       "2016-03    1447950000\n",
       "2016-04     695937700\n",
       "2016-05    2189308100\n",
       "2016-06     697594900\n",
       "2016-07    1457527800\n",
       "2016-08    2908152300\n",
       "2016-09     697209200\n",
       "2016-10     717107300\n",
       "2016-11     701391700\n",
       "2016-12    1465204000\n",
       "2017-01     727519600\n",
       "2017-02     656184700\n",
       "2017-03    1440961900\n",
       "2017-04     699264200\n",
       "2017-05    2179041700\n",
       "2017-06     701322100\n",
       "2017-07    1448508800\n",
       "2017-08    2934380700\n",
       "2017-09     722047000\n",
       "2017-10     724966800\n",
       "2017-11     706726000\n",
       "2017-12    1460880800\n",
       "2018-01     730334300\n",
       "2018-02     657539300\n",
       "2018-03    1451755500\n",
       "2018-04     706020700\n",
       "2018-05    2201273400\n",
       "2018-06     694748200\n",
       "2018-07    1454922700\n",
       "2018-08    2905345600\n",
       "2018-09     711891500\n",
       "2018-10     738280200\n",
       "2018-11     709726500\n",
       "2018-12    1466301400\n",
       "2019-01     740233700\n",
       "2019-02     646023300\n",
       "2019-03    1462116000\n",
       "2019-04     713238400\n",
       "2019-05    2171845900\n",
       "2019-06     696780000\n",
       "2019-07    1462451700\n",
       "2019-08    2932441800\n",
       "2019-09     707822000\n",
       "2019-10     733193600\n",
       "2019-11     704777800\n",
       "2019-12    1452259500\n",
       "Freq: M, Name: total_price, dtype: int64"
      ]
     },
     "execution_count": 4,
     "metadata": {},
     "output_type": "execute_result"
    }
   ],
   "source": [
    "(\n",
    "    pd_reservation\n",
    "    .query(\"status != 'canceled'\")\n",
    "    .assign(month=lambda df: df.checkout_date.dt.to_period(\"M\"))\n",
    "    .groupby(\"month\").total_price.sum()\n",
    ")"
   ]
  },
  {
   "cell_type": "markdown",
   "id": "e6b9b1f9-b5c4-42ce-a5cb-0d7d700dda4c",
   "metadata": {},
   "source": [
    "### Polars"
   ]
  },
  {
   "cell_type": "code",
   "execution_count": 5,
   "id": "7b48e4d8-68f0-4311-851a-e228c5aca59e",
   "metadata": {},
   "outputs": [],
   "source": [
    "import polars as pl"
   ]
  },
  {
   "cell_type": "code",
   "execution_count": 6,
   "id": "a3c1a460-f11d-485c-8f33-656ae2cd619b",
   "metadata": {},
   "outputs": [],
   "source": [
    "pl_reservation = pl.read_parquet(\"../../data/reservation.parquet\")"
   ]
  },
  {
   "cell_type": "code",
   "execution_count": 7,
   "id": "d6cf7013-790b-4876-98f2-78ebf78c1393",
   "metadata": {},
   "outputs": [
    {
     "data": {
      "text/html": [
       "<div><style>\n",
       ".dataframe > thead > tr,\n",
       ".dataframe > tbody > tr {\n",
       "  text-align: right;\n",
       "  white-space: pre-wrap;\n",
       "}\n",
       "</style>\n",
       "<small>shape: (5, 11)</small><table border=\"1\" class=\"dataframe\"><thead><tr><th>reservation_id</th><th>hotel_id</th><th>customer_id</th><th>reserved_at</th><th>checkin_date</th><th>checkout_date</th><th>length_of_stay</th><th>people_num</th><th>total_price</th><th>status</th><th>canceled_at</th></tr><tr><td>i64</td><td>i64</td><td>i64</td><td>datetime[ns, Asia/Tokyo]</td><td>datetime[ns, Asia/Tokyo]</td><td>datetime[ns, Asia/Tokyo]</td><td>i64</td><td>i64</td><td>i64</td><td>str</td><td>datetime[ns, Asia/Tokyo]</td></tr></thead><tbody><tr><td>1</td><td>2460</td><td>53431</td><td>2013-12-31 07:00:14 JST</td><td>2014-12-31 00:00:00 JST</td><td>2015-01-03 00:00:00 JST</td><td>3</td><td>2</td><td>37800</td><td>&quot;reserved&quot;</td><td>null</td></tr><tr><td>2</td><td>962</td><td>488390</td><td>2013-12-31 08:23:35 JST</td><td>2014-12-31 00:00:00 JST</td><td>2015-01-02 00:00:00 JST</td><td>2</td><td>3</td><td>42000</td><td>&quot;reserved&quot;</td><td>null</td></tr><tr><td>3</td><td>558</td><td>341335</td><td>2013-12-31 09:02:05 JST</td><td>2014-12-31 00:00:00 JST</td><td>2015-01-01 00:00:00 JST</td><td>1</td><td>2</td><td>20400</td><td>&quot;reserved&quot;</td><td>null</td></tr><tr><td>4</td><td>3666</td><td>398981</td><td>2013-12-31 23:44:54 JST</td><td>2014-12-31 00:00:00 JST</td><td>2015-01-01 00:00:00 JST</td><td>1</td><td>4</td><td>39600</td><td>&quot;reserved&quot;</td><td>null</td></tr><tr><td>5</td><td>2180</td><td>220381</td><td>2014-01-01 02:47:50 JST</td><td>2014-12-31 00:00:00 JST</td><td>2015-01-01 00:00:00 JST</td><td>1</td><td>3</td><td>16500</td><td>&quot;reserved&quot;</td><td>null</td></tr></tbody></table></div>"
      ],
      "text/plain": [
       "shape: (5, 11)\n",
       "┌────────────┬──────────┬───────────┬───────────┬───┬───────────┬───────────┬──────────┬───────────┐\n",
       "│ reservatio ┆ hotel_id ┆ customer_ ┆ reserved_ ┆ … ┆ people_nu ┆ total_pri ┆ status   ┆ canceled_ │\n",
       "│ n_id       ┆ ---      ┆ id        ┆ at        ┆   ┆ m         ┆ ce        ┆ ---      ┆ at        │\n",
       "│ ---        ┆ i64      ┆ ---       ┆ ---       ┆   ┆ ---       ┆ ---       ┆ str      ┆ ---       │\n",
       "│ i64        ┆          ┆ i64       ┆ datetime[ ┆   ┆ i64       ┆ i64       ┆          ┆ datetime[ │\n",
       "│            ┆          ┆           ┆ ns, Asia/ ┆   ┆           ┆           ┆          ┆ ns, Asia/ │\n",
       "│            ┆          ┆           ┆ Tokyo]    ┆   ┆           ┆           ┆          ┆ Tokyo]    │\n",
       "╞════════════╪══════════╪═══════════╪═══════════╪═══╪═══════════╪═══════════╪══════════╪═══════════╡\n",
       "│ 1          ┆ 2460     ┆ 53431     ┆ 2013-12-3 ┆ … ┆ 2         ┆ 37800     ┆ reserved ┆ null      │\n",
       "│            ┆          ┆           ┆ 1         ┆   ┆           ┆           ┆          ┆           │\n",
       "│            ┆          ┆           ┆ 07:00:14  ┆   ┆           ┆           ┆          ┆           │\n",
       "│            ┆          ┆           ┆ JST       ┆   ┆           ┆           ┆          ┆           │\n",
       "│ 2          ┆ 962      ┆ 488390    ┆ 2013-12-3 ┆ … ┆ 3         ┆ 42000     ┆ reserved ┆ null      │\n",
       "│            ┆          ┆           ┆ 1         ┆   ┆           ┆           ┆          ┆           │\n",
       "│            ┆          ┆           ┆ 08:23:35  ┆   ┆           ┆           ┆          ┆           │\n",
       "│            ┆          ┆           ┆ JST       ┆   ┆           ┆           ┆          ┆           │\n",
       "│ 3          ┆ 558      ┆ 341335    ┆ 2013-12-3 ┆ … ┆ 2         ┆ 20400     ┆ reserved ┆ null      │\n",
       "│            ┆          ┆           ┆ 1         ┆   ┆           ┆           ┆          ┆           │\n",
       "│            ┆          ┆           ┆ 09:02:05  ┆   ┆           ┆           ┆          ┆           │\n",
       "│            ┆          ┆           ┆ JST       ┆   ┆           ┆           ┆          ┆           │\n",
       "│ 4          ┆ 3666     ┆ 398981    ┆ 2013-12-3 ┆ … ┆ 4         ┆ 39600     ┆ reserved ┆ null      │\n",
       "│            ┆          ┆           ┆ 1         ┆   ┆           ┆           ┆          ┆           │\n",
       "│            ┆          ┆           ┆ 23:44:54  ┆   ┆           ┆           ┆          ┆           │\n",
       "│            ┆          ┆           ┆ JST       ┆   ┆           ┆           ┆          ┆           │\n",
       "│ 5          ┆ 2180     ┆ 220381    ┆ 2014-01-0 ┆ … ┆ 3         ┆ 16500     ┆ reserved ┆ null      │\n",
       "│            ┆          ┆           ┆ 1         ┆   ┆           ┆           ┆          ┆           │\n",
       "│            ┆          ┆           ┆ 02:47:50  ┆   ┆           ┆           ┆          ┆           │\n",
       "│            ┆          ┆           ┆ JST       ┆   ┆           ┆           ┆          ┆           │\n",
       "└────────────┴──────────┴───────────┴───────────┴───┴───────────┴───────────┴──────────┴───────────┘"
      ]
     },
     "execution_count": 7,
     "metadata": {},
     "output_type": "execute_result"
    }
   ],
   "source": [
    "pl_reservation.head()"
   ]
  },
  {
   "cell_type": "code",
   "execution_count": 8,
   "id": "e5a5669a-0d58-46f0-a1dd-58693ed36fcb",
   "metadata": {},
   "outputs": [
    {
     "data": {
      "text/html": [
       "<div><style>\n",
       ".dataframe > thead > tr,\n",
       ".dataframe > tbody > tr {\n",
       "  text-align: right;\n",
       "  white-space: pre-wrap;\n",
       "}\n",
       "</style>\n",
       "<small>shape: (60, 2)</small><table border=\"1\" class=\"dataframe\"><thead><tr><th>checkout_date</th><th>total_price</th></tr><tr><td>datetime[ns, Asia/Tokyo]</td><td>i64</td></tr></thead><tbody><tr><td>2015-05-01 00:00:00 JST</td><td>2185718000</td></tr><tr><td>2019-09-01 00:00:00 JST</td><td>707822000</td></tr><tr><td>2016-02-01 00:00:00 JST</td><td>688327500</td></tr><tr><td>2015-08-01 00:00:00 JST</td><td>2910478200</td></tr><tr><td>2017-10-01 00:00:00 JST</td><td>724966800</td></tr><tr><td>&hellip;</td><td>&hellip;</td></tr><tr><td>2016-07-01 00:00:00 JST</td><td>1457527800</td></tr><tr><td>2018-06-01 00:00:00 JST</td><td>694748200</td></tr><tr><td>2018-03-01 00:00:00 JST</td><td>1451755500</td></tr><tr><td>2017-04-01 00:00:00 JST</td><td>699264200</td></tr><tr><td>2018-12-01 00:00:00 JST</td><td>1466301400</td></tr></tbody></table></div>"
      ],
      "text/plain": [
       "shape: (60, 2)\n",
       "┌──────────────────────────┬─────────────┐\n",
       "│ checkout_date            ┆ total_price │\n",
       "│ ---                      ┆ ---         │\n",
       "│ datetime[ns, Asia/Tokyo] ┆ i64         │\n",
       "╞══════════════════════════╪═════════════╡\n",
       "│ 2015-05-01 00:00:00 JST  ┆ 2185718000  │\n",
       "│ 2019-09-01 00:00:00 JST  ┆ 707822000   │\n",
       "│ 2016-02-01 00:00:00 JST  ┆ 688327500   │\n",
       "│ 2015-08-01 00:00:00 JST  ┆ 2910478200  │\n",
       "│ 2017-10-01 00:00:00 JST  ┆ 724966800   │\n",
       "│ …                        ┆ …           │\n",
       "│ 2016-07-01 00:00:00 JST  ┆ 1457527800  │\n",
       "│ 2018-06-01 00:00:00 JST  ┆ 694748200   │\n",
       "│ 2018-03-01 00:00:00 JST  ┆ 1451755500  │\n",
       "│ 2017-04-01 00:00:00 JST  ┆ 699264200   │\n",
       "│ 2018-12-01 00:00:00 JST  ┆ 1466301400  │\n",
       "└──────────────────────────┴─────────────┘"
      ]
     },
     "execution_count": 8,
     "metadata": {},
     "output_type": "execute_result"
    }
   ],
   "source": [
    "(\n",
    "    pl_reservation\n",
    "    .filter(pl.col(\"status\") != \"canceled\")\n",
    "    .group_by(pl.col(\"checkout_date\").dt.truncate(\"1mo\"))\n",
    "    .agg(pl.col(\"total_price\").sum())\n",
    ")"
   ]
  },
  {
   "cell_type": "code",
   "execution_count": null,
   "id": "3b5f4fe2-4e78-4f0c-bc0b-bac6795ae693",
   "metadata": {},
   "outputs": [],
   "source": []
  }
 ],
 "metadata": {
  "kernelspec": {
   "display_name": "Python 3 (ipykernel)",
   "language": "python",
   "name": "python3"
  },
  "language_info": {
   "codemirror_mode": {
    "name": "ipython",
    "version": 3
   },
   "file_extension": ".py",
   "mimetype": "text/x-python",
   "name": "python",
   "nbconvert_exporter": "python",
   "pygments_lexer": "ipython3",
   "version": "3.10.12"
  }
 },
 "nbformat": 4,
 "nbformat_minor": 5
}
