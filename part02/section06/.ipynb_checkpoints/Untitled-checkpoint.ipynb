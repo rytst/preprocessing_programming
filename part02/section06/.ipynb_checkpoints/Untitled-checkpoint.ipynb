{
 "cells": [
  {
   "cell_type": "markdown",
   "id": "3ae7c123-cae3-47ab-a7ff-eb4cb7bfa6fe",
   "metadata": {},
   "source": [
    "# 6-1 Aggregate by group"
   ]
  },
  {
   "cell_type": "markdown",
   "id": "0fe24965-0291-4380-b06f-78a3cfce5bde",
   "metadata": {},
   "source": [
    "## Aggregate sales by hotel"
   ]
  },
  {
   "cell_type": "markdown",
   "id": "f915c752-319a-4408-aceb-1375fd17be8e",
   "metadata": {},
   "source": [
    "### Pandas"
   ]
  },
  {
   "cell_type": "code",
   "execution_count": 1,
   "id": "d0a1aa56-71c7-420a-ac88-2eb376392602",
   "metadata": {},
   "outputs": [],
   "source": [
    "import pandas as pd"
   ]
  },
  {
   "cell_type": "code",
   "execution_count": 2,
   "id": "a271cc4c-452d-4d9d-8fc1-c3dd07d5f344",
   "metadata": {},
   "outputs": [],
   "source": [
    "pd_reservation = pd.read_parquet(\"../../data/reservation.parquet\")"
   ]
  },
  {
   "cell_type": "code",
   "execution_count": 3,
   "id": "2314c164-687a-44ce-8ca7-fff54f38eb71",
   "metadata": {},
   "outputs": [
    {
     "data": {
      "text/html": [
       "<div>\n",
       "<style scoped>\n",
       "    .dataframe tbody tr th:only-of-type {\n",
       "        vertical-align: middle;\n",
       "    }\n",
       "\n",
       "    .dataframe tbody tr th {\n",
       "        vertical-align: top;\n",
       "    }\n",
       "\n",
       "    .dataframe thead th {\n",
       "        text-align: right;\n",
       "    }\n",
       "</style>\n",
       "<table border=\"1\" class=\"dataframe\">\n",
       "  <thead>\n",
       "    <tr style=\"text-align: right;\">\n",
       "      <th></th>\n",
       "      <th>reservation_id</th>\n",
       "      <th>hotel_id</th>\n",
       "      <th>customer_id</th>\n",
       "      <th>reserved_at</th>\n",
       "      <th>checkin_date</th>\n",
       "      <th>checkout_date</th>\n",
       "      <th>length_of_stay</th>\n",
       "      <th>people_num</th>\n",
       "      <th>total_price</th>\n",
       "      <th>status</th>\n",
       "      <th>canceled_at</th>\n",
       "    </tr>\n",
       "  </thead>\n",
       "  <tbody>\n",
       "    <tr>\n",
       "      <th>0</th>\n",
       "      <td>1</td>\n",
       "      <td>2460</td>\n",
       "      <td>53431</td>\n",
       "      <td>2013-12-31 07:00:14+09:00</td>\n",
       "      <td>2014-12-31 00:00:00+09:00</td>\n",
       "      <td>2015-01-03 00:00:00+09:00</td>\n",
       "      <td>3</td>\n",
       "      <td>2</td>\n",
       "      <td>37800</td>\n",
       "      <td>reserved</td>\n",
       "      <td>NaT</td>\n",
       "    </tr>\n",
       "    <tr>\n",
       "      <th>1</th>\n",
       "      <td>2</td>\n",
       "      <td>962</td>\n",
       "      <td>488390</td>\n",
       "      <td>2013-12-31 08:23:35+09:00</td>\n",
       "      <td>2014-12-31 00:00:00+09:00</td>\n",
       "      <td>2015-01-02 00:00:00+09:00</td>\n",
       "      <td>2</td>\n",
       "      <td>3</td>\n",
       "      <td>42000</td>\n",
       "      <td>reserved</td>\n",
       "      <td>NaT</td>\n",
       "    </tr>\n",
       "    <tr>\n",
       "      <th>2</th>\n",
       "      <td>3</td>\n",
       "      <td>558</td>\n",
       "      <td>341335</td>\n",
       "      <td>2013-12-31 09:02:05+09:00</td>\n",
       "      <td>2014-12-31 00:00:00+09:00</td>\n",
       "      <td>2015-01-01 00:00:00+09:00</td>\n",
       "      <td>1</td>\n",
       "      <td>2</td>\n",
       "      <td>20400</td>\n",
       "      <td>reserved</td>\n",
       "      <td>NaT</td>\n",
       "    </tr>\n",
       "    <tr>\n",
       "      <th>3</th>\n",
       "      <td>4</td>\n",
       "      <td>3666</td>\n",
       "      <td>398981</td>\n",
       "      <td>2013-12-31 23:44:54+09:00</td>\n",
       "      <td>2014-12-31 00:00:00+09:00</td>\n",
       "      <td>2015-01-01 00:00:00+09:00</td>\n",
       "      <td>1</td>\n",
       "      <td>4</td>\n",
       "      <td>39600</td>\n",
       "      <td>reserved</td>\n",
       "      <td>NaT</td>\n",
       "    </tr>\n",
       "    <tr>\n",
       "      <th>4</th>\n",
       "      <td>5</td>\n",
       "      <td>2180</td>\n",
       "      <td>220381</td>\n",
       "      <td>2014-01-01 02:47:50+09:00</td>\n",
       "      <td>2014-12-31 00:00:00+09:00</td>\n",
       "      <td>2015-01-01 00:00:00+09:00</td>\n",
       "      <td>1</td>\n",
       "      <td>3</td>\n",
       "      <td>16500</td>\n",
       "      <td>reserved</td>\n",
       "      <td>NaT</td>\n",
       "    </tr>\n",
       "  </tbody>\n",
       "</table>\n",
       "</div>"
      ],
      "text/plain": [
       "   reservation_id  hotel_id  customer_id               reserved_at  \\\n",
       "0               1      2460        53431 2013-12-31 07:00:14+09:00   \n",
       "1               2       962       488390 2013-12-31 08:23:35+09:00   \n",
       "2               3       558       341335 2013-12-31 09:02:05+09:00   \n",
       "3               4      3666       398981 2013-12-31 23:44:54+09:00   \n",
       "4               5      2180       220381 2014-01-01 02:47:50+09:00   \n",
       "\n",
       "               checkin_date             checkout_date  length_of_stay  \\\n",
       "0 2014-12-31 00:00:00+09:00 2015-01-03 00:00:00+09:00               3   \n",
       "1 2014-12-31 00:00:00+09:00 2015-01-02 00:00:00+09:00               2   \n",
       "2 2014-12-31 00:00:00+09:00 2015-01-01 00:00:00+09:00               1   \n",
       "3 2014-12-31 00:00:00+09:00 2015-01-01 00:00:00+09:00               1   \n",
       "4 2014-12-31 00:00:00+09:00 2015-01-01 00:00:00+09:00               1   \n",
       "\n",
       "   people_num  total_price    status canceled_at  \n",
       "0           2        37800  reserved         NaT  \n",
       "1           3        42000  reserved         NaT  \n",
       "2           2        20400  reserved         NaT  \n",
       "3           4        39600  reserved         NaT  \n",
       "4           3        16500  reserved         NaT  "
      ]
     },
     "execution_count": 3,
     "metadata": {},
     "output_type": "execute_result"
    }
   ],
   "source": [
    "pd_reservation.head()"
   ]
  },
  {
   "cell_type": "code",
   "execution_count": 4,
   "id": "cf5864a4-3af8-4ff4-ac2a-32549c341b1c",
   "metadata": {},
   "outputs": [
    {
     "data": {
      "text/plain": [
       "hotel_id\n",
       "1       19631800\n",
       "3       48453000\n",
       "4        9555000\n",
       "5       14004000\n",
       "6       14137200\n",
       "          ...   \n",
       "4996    36529900\n",
       "4997    11545600\n",
       "4998    26674300\n",
       "4999    55862400\n",
       "5000     9965000\n",
       "Name: total_price, Length: 4527, dtype: int64"
      ]
     },
     "execution_count": 4,
     "metadata": {},
     "output_type": "execute_result"
    }
   ],
   "source": [
    "(\n",
    "    pd_reservation\n",
    "    .query(\"status != 'canceled'\")\n",
    "    .groupby(\"hotel_id\")\n",
    "    .total_price\n",
    "    .sum()\n",
    ")"
   ]
  },
  {
   "cell_type": "markdown",
   "id": "21a2ddd6-7e6d-41ae-b847-a17c97afe210",
   "metadata": {},
   "source": [
    "### Polars"
   ]
  },
  {
   "cell_type": "code",
   "execution_count": 5,
   "id": "10f2bec4-92a5-4fa1-9eb3-94f2ad2674fa",
   "metadata": {},
   "outputs": [],
   "source": [
    "import polars as pl"
   ]
  },
  {
   "cell_type": "code",
   "execution_count": 6,
   "id": "531f5ea8-771f-49b3-b3b0-521b0c569f49",
   "metadata": {},
   "outputs": [],
   "source": [
    "pl_reservation = pl.read_parquet(\"../../data/reservation.parquet\")"
   ]
  },
  {
   "cell_type": "code",
   "execution_count": 7,
   "id": "f974e222-ade0-4850-9716-d4bd876fc18a",
   "metadata": {},
   "outputs": [
    {
     "data": {
      "text/html": [
       "<div><style>\n",
       ".dataframe > thead > tr,\n",
       ".dataframe > tbody > tr {\n",
       "  text-align: right;\n",
       "  white-space: pre-wrap;\n",
       "}\n",
       "</style>\n",
       "<small>shape: (5, 11)</small><table border=\"1\" class=\"dataframe\"><thead><tr><th>reservation_id</th><th>hotel_id</th><th>customer_id</th><th>reserved_at</th><th>checkin_date</th><th>checkout_date</th><th>length_of_stay</th><th>people_num</th><th>total_price</th><th>status</th><th>canceled_at</th></tr><tr><td>i64</td><td>i64</td><td>i64</td><td>datetime[ns, Asia/Tokyo]</td><td>datetime[ns, Asia/Tokyo]</td><td>datetime[ns, Asia/Tokyo]</td><td>i64</td><td>i64</td><td>i64</td><td>str</td><td>datetime[ns, Asia/Tokyo]</td></tr></thead><tbody><tr><td>1</td><td>2460</td><td>53431</td><td>2013-12-31 07:00:14 JST</td><td>2014-12-31 00:00:00 JST</td><td>2015-01-03 00:00:00 JST</td><td>3</td><td>2</td><td>37800</td><td>&quot;reserved&quot;</td><td>null</td></tr><tr><td>2</td><td>962</td><td>488390</td><td>2013-12-31 08:23:35 JST</td><td>2014-12-31 00:00:00 JST</td><td>2015-01-02 00:00:00 JST</td><td>2</td><td>3</td><td>42000</td><td>&quot;reserved&quot;</td><td>null</td></tr><tr><td>3</td><td>558</td><td>341335</td><td>2013-12-31 09:02:05 JST</td><td>2014-12-31 00:00:00 JST</td><td>2015-01-01 00:00:00 JST</td><td>1</td><td>2</td><td>20400</td><td>&quot;reserved&quot;</td><td>null</td></tr><tr><td>4</td><td>3666</td><td>398981</td><td>2013-12-31 23:44:54 JST</td><td>2014-12-31 00:00:00 JST</td><td>2015-01-01 00:00:00 JST</td><td>1</td><td>4</td><td>39600</td><td>&quot;reserved&quot;</td><td>null</td></tr><tr><td>5</td><td>2180</td><td>220381</td><td>2014-01-01 02:47:50 JST</td><td>2014-12-31 00:00:00 JST</td><td>2015-01-01 00:00:00 JST</td><td>1</td><td>3</td><td>16500</td><td>&quot;reserved&quot;</td><td>null</td></tr></tbody></table></div>"
      ],
      "text/plain": [
       "shape: (5, 11)\n",
       "┌────────────┬──────────┬───────────┬───────────┬───┬───────────┬───────────┬──────────┬───────────┐\n",
       "│ reservatio ┆ hotel_id ┆ customer_ ┆ reserved_ ┆ … ┆ people_nu ┆ total_pri ┆ status   ┆ canceled_ │\n",
       "│ n_id       ┆ ---      ┆ id        ┆ at        ┆   ┆ m         ┆ ce        ┆ ---      ┆ at        │\n",
       "│ ---        ┆ i64      ┆ ---       ┆ ---       ┆   ┆ ---       ┆ ---       ┆ str      ┆ ---       │\n",
       "│ i64        ┆          ┆ i64       ┆ datetime[ ┆   ┆ i64       ┆ i64       ┆          ┆ datetime[ │\n",
       "│            ┆          ┆           ┆ ns, Asia/ ┆   ┆           ┆           ┆          ┆ ns, Asia/ │\n",
       "│            ┆          ┆           ┆ Tokyo]    ┆   ┆           ┆           ┆          ┆ Tokyo]    │\n",
       "╞════════════╪══════════╪═══════════╪═══════════╪═══╪═══════════╪═══════════╪══════════╪═══════════╡\n",
       "│ 1          ┆ 2460     ┆ 53431     ┆ 2013-12-3 ┆ … ┆ 2         ┆ 37800     ┆ reserved ┆ null      │\n",
       "│            ┆          ┆           ┆ 1         ┆   ┆           ┆           ┆          ┆           │\n",
       "│            ┆          ┆           ┆ 07:00:14  ┆   ┆           ┆           ┆          ┆           │\n",
       "│            ┆          ┆           ┆ JST       ┆   ┆           ┆           ┆          ┆           │\n",
       "│ 2          ┆ 962      ┆ 488390    ┆ 2013-12-3 ┆ … ┆ 3         ┆ 42000     ┆ reserved ┆ null      │\n",
       "│            ┆          ┆           ┆ 1         ┆   ┆           ┆           ┆          ┆           │\n",
       "│            ┆          ┆           ┆ 08:23:35  ┆   ┆           ┆           ┆          ┆           │\n",
       "│            ┆          ┆           ┆ JST       ┆   ┆           ┆           ┆          ┆           │\n",
       "│ 3          ┆ 558      ┆ 341335    ┆ 2013-12-3 ┆ … ┆ 2         ┆ 20400     ┆ reserved ┆ null      │\n",
       "│            ┆          ┆           ┆ 1         ┆   ┆           ┆           ┆          ┆           │\n",
       "│            ┆          ┆           ┆ 09:02:05  ┆   ┆           ┆           ┆          ┆           │\n",
       "│            ┆          ┆           ┆ JST       ┆   ┆           ┆           ┆          ┆           │\n",
       "│ 4          ┆ 3666     ┆ 398981    ┆ 2013-12-3 ┆ … ┆ 4         ┆ 39600     ┆ reserved ┆ null      │\n",
       "│            ┆          ┆           ┆ 1         ┆   ┆           ┆           ┆          ┆           │\n",
       "│            ┆          ┆           ┆ 23:44:54  ┆   ┆           ┆           ┆          ┆           │\n",
       "│            ┆          ┆           ┆ JST       ┆   ┆           ┆           ┆          ┆           │\n",
       "│ 5          ┆ 2180     ┆ 220381    ┆ 2014-01-0 ┆ … ┆ 3         ┆ 16500     ┆ reserved ┆ null      │\n",
       "│            ┆          ┆           ┆ 1         ┆   ┆           ┆           ┆          ┆           │\n",
       "│            ┆          ┆           ┆ 02:47:50  ┆   ┆           ┆           ┆          ┆           │\n",
       "│            ┆          ┆           ┆ JST       ┆   ┆           ┆           ┆          ┆           │\n",
       "└────────────┴──────────┴───────────┴───────────┴───┴───────────┴───────────┴──────────┴───────────┘"
      ]
     },
     "execution_count": 7,
     "metadata": {},
     "output_type": "execute_result"
    }
   ],
   "source": [
    "pl_reservation.head()"
   ]
  },
  {
   "cell_type": "code",
   "execution_count": 8,
   "id": "44a2f9a2-1f94-4703-85bb-6fedae73615a",
   "metadata": {},
   "outputs": [
    {
     "data": {
      "text/html": [
       "<div><style>\n",
       ".dataframe > thead > tr,\n",
       ".dataframe > tbody > tr {\n",
       "  text-align: right;\n",
       "  white-space: pre-wrap;\n",
       "}\n",
       "</style>\n",
       "<small>shape: (4_527, 2)</small><table border=\"1\" class=\"dataframe\"><thead><tr><th>hotel_id</th><th>total_price</th></tr><tr><td>i64</td><td>i64</td></tr></thead><tbody><tr><td>1</td><td>19631800</td></tr><tr><td>3</td><td>48453000</td></tr><tr><td>4</td><td>9555000</td></tr><tr><td>5</td><td>14004000</td></tr><tr><td>6</td><td>14137200</td></tr><tr><td>&hellip;</td><td>&hellip;</td></tr><tr><td>4996</td><td>36529900</td></tr><tr><td>4997</td><td>11545600</td></tr><tr><td>4998</td><td>26674300</td></tr><tr><td>4999</td><td>55862400</td></tr><tr><td>5000</td><td>9965000</td></tr></tbody></table></div>"
      ],
      "text/plain": [
       "shape: (4_527, 2)\n",
       "┌──────────┬─────────────┐\n",
       "│ hotel_id ┆ total_price │\n",
       "│ ---      ┆ ---         │\n",
       "│ i64      ┆ i64         │\n",
       "╞══════════╪═════════════╡\n",
       "│ 1        ┆ 19631800    │\n",
       "│ 3        ┆ 48453000    │\n",
       "│ 4        ┆ 9555000     │\n",
       "│ 5        ┆ 14004000    │\n",
       "│ 6        ┆ 14137200    │\n",
       "│ …        ┆ …           │\n",
       "│ 4996     ┆ 36529900    │\n",
       "│ 4997     ┆ 11545600    │\n",
       "│ 4998     ┆ 26674300    │\n",
       "│ 4999     ┆ 55862400    │\n",
       "│ 5000     ┆ 9965000     │\n",
       "└──────────┴─────────────┘"
      ]
     },
     "execution_count": 8,
     "metadata": {},
     "output_type": "execute_result"
    }
   ],
   "source": [
    "(\n",
    "    pl_reservation\n",
    "    .filter(pl.col(\"status\") != \"canceled\")\n",
    "    .group_by(\"hotel_id\")\n",
    "    .agg(pl.col(\"total_price\").sum()).sort(\"hotel_id\")\n",
    ")"
   ]
  },
  {
   "cell_type": "markdown",
   "id": "6035bde7-915e-41d5-b0f3-7042a9f3e092",
   "metadata": {},
   "source": [
    "## Number of reservation by hotels, customers"
   ]
  },
  {
   "cell_type": "markdown",
   "id": "fc6eb453-1aa5-46d3-9e37-88e3597526a0",
   "metadata": {},
   "source": [
    "### Pandas"
   ]
  },
  {
   "cell_type": "code",
   "execution_count": 9,
   "id": "2f181e25-ab3f-403e-86f0-e0757b4615c2",
   "metadata": {},
   "outputs": [
    {
     "data": {
      "text/plain": [
       "hotel_id  customer_id\n",
       "1         1104           1\n",
       "          1477           1\n",
       "          2129           1\n",
       "          2665           1\n",
       "          4151           1\n",
       "                        ..\n",
       "5000      495309         1\n",
       "          496003         1\n",
       "          496010         1\n",
       "          496997         1\n",
       "          498882         1\n",
       "Length: 1798305, dtype: int64"
      ]
     },
     "execution_count": 9,
     "metadata": {},
     "output_type": "execute_result"
    }
   ],
   "source": [
    "(\n",
    "    pd_reservation\n",
    "    .query(\"status != 'canceled'\")\n",
    "    .groupby([\"hotel_id\", \"customer_id\"])\n",
    "    .size()\n",
    ")"
   ]
  },
  {
   "cell_type": "markdown",
   "id": "6f7a9ab7-0800-4408-b7ea-2e7d9504ec75",
   "metadata": {},
   "source": [
    "### Polars"
   ]
  },
  {
   "cell_type": "code",
   "execution_count": 10,
   "id": "c1dc99c1-2819-46ac-b375-563e7e44e369",
   "metadata": {},
   "outputs": [
    {
     "data": {
      "text/html": [
       "<div><style>\n",
       ".dataframe > thead > tr,\n",
       ".dataframe > tbody > tr {\n",
       "  text-align: right;\n",
       "  white-space: pre-wrap;\n",
       "}\n",
       "</style>\n",
       "<small>shape: (1_798_305, 3)</small><table border=\"1\" class=\"dataframe\"><thead><tr><th>hotel_id</th><th>customer_id</th><th>len</th></tr><tr><td>i64</td><td>i64</td><td>u32</td></tr></thead><tbody><tr><td>1</td><td>299534</td><td>1</td></tr><tr><td>1</td><td>365060</td><td>1</td></tr><tr><td>1</td><td>346393</td><td>1</td></tr><tr><td>1</td><td>19555</td><td>1</td></tr><tr><td>1</td><td>42571</td><td>1</td></tr><tr><td>&hellip;</td><td>&hellip;</td><td>&hellip;</td></tr><tr><td>5000</td><td>74164</td><td>1</td></tr><tr><td>5000</td><td>27115</td><td>1</td></tr><tr><td>5000</td><td>130498</td><td>1</td></tr><tr><td>5000</td><td>277629</td><td>1</td></tr><tr><td>5000</td><td>271624</td><td>1</td></tr></tbody></table></div>"
      ],
      "text/plain": [
       "shape: (1_798_305, 3)\n",
       "┌──────────┬─────────────┬─────┐\n",
       "│ hotel_id ┆ customer_id ┆ len │\n",
       "│ ---      ┆ ---         ┆ --- │\n",
       "│ i64      ┆ i64         ┆ u32 │\n",
       "╞══════════╪═════════════╪═════╡\n",
       "│ 1        ┆ 299534      ┆ 1   │\n",
       "│ 1        ┆ 365060      ┆ 1   │\n",
       "│ 1        ┆ 346393      ┆ 1   │\n",
       "│ 1        ┆ 19555       ┆ 1   │\n",
       "│ 1        ┆ 42571       ┆ 1   │\n",
       "│ …        ┆ …           ┆ …   │\n",
       "│ 5000     ┆ 74164       ┆ 1   │\n",
       "│ 5000     ┆ 27115       ┆ 1   │\n",
       "│ 5000     ┆ 130498      ┆ 1   │\n",
       "│ 5000     ┆ 277629      ┆ 1   │\n",
       "│ 5000     ┆ 271624      ┆ 1   │\n",
       "└──────────┴─────────────┴─────┘"
      ]
     },
     "execution_count": 10,
     "metadata": {},
     "output_type": "execute_result"
    }
   ],
   "source": [
    "(\n",
    "    pl_reservation\n",
    "    .filter(pl.col(\"status\") != \"canceled\")\n",
    "    .group_by([\"hotel_id\", \"customer_id\"])\n",
    "    .agg(pl.len()).sort(\"hotel_id\")\n",
    ")"
   ]
  },
  {
   "cell_type": "code",
   "execution_count": null,
   "id": "038edde9-843d-41d2-9556-e678cd35d4c0",
   "metadata": {},
   "outputs": [],
   "source": []
  },
  {
   "cell_type": "code",
   "execution_count": null,
   "id": "bde5078c-74c2-4b4b-a466-5a67c6630184",
   "metadata": {},
   "outputs": [],
   "source": []
  }
 ],
 "metadata": {
  "kernelspec": {
   "display_name": "Python 3 (ipykernel)",
   "language": "python",
   "name": "python3"
  },
  "language_info": {
   "codemirror_mode": {
    "name": "ipython",
    "version": 3
   },
   "file_extension": ".py",
   "mimetype": "text/x-python",
   "name": "python",
   "nbconvert_exporter": "python",
   "pygments_lexer": "ipython3",
   "version": "3.10.12"
  }
 },
 "nbformat": 4,
 "nbformat_minor": 5
}
