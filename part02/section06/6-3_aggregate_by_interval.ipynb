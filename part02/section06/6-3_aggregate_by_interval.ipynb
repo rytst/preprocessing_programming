{
 "cells": [
  {
   "cell_type": "markdown",
   "id": "0626d28e-c591-4af0-b312-02c4ab0bfc50",
   "metadata": {},
   "source": [
    "# 6-3 Aggregate by interval"
   ]
  },
  {
   "cell_type": "markdown",
   "id": "c030fe37-7efb-42ce-9ce5-7a07fe7403cb",
   "metadata": {},
   "source": [
    "## Aggregate the hotel number by equidistant price range"
   ]
  },
  {
   "cell_type": "markdown",
   "id": "c4d6e1f8-0842-4f99-bddd-915d457cdda8",
   "metadata": {},
   "source": [
    "### Pandas"
   ]
  },
  {
   "cell_type": "code",
   "execution_count": 1,
   "id": "a375f7dc-811a-4633-ab0f-a448d3e2f307",
   "metadata": {},
   "outputs": [],
   "source": [
    "import pandas as pd"
   ]
  },
  {
   "cell_type": "code",
   "execution_count": 2,
   "id": "caaf5dbb-b171-4ebb-8347-960a43ea292f",
   "metadata": {},
   "outputs": [],
   "source": [
    "pd_hotel = pd.read_parquet(\"../../data/hotel.parquet\")"
   ]
  },
  {
   "cell_type": "code",
   "execution_count": 3,
   "id": "1200deef-a7d8-40d5-8205-444444f8ba1c",
   "metadata": {},
   "outputs": [
    {
     "data": {
      "text/html": [
       "<div>\n",
       "<style scoped>\n",
       "    .dataframe tbody tr th:only-of-type {\n",
       "        vertical-align: middle;\n",
       "    }\n",
       "\n",
       "    .dataframe tbody tr th {\n",
       "        vertical-align: top;\n",
       "    }\n",
       "\n",
       "    .dataframe thead th {\n",
       "        text-align: right;\n",
       "    }\n",
       "</style>\n",
       "<table border=\"1\" class=\"dataframe\">\n",
       "  <thead>\n",
       "    <tr style=\"text-align: right;\">\n",
       "      <th></th>\n",
       "      <th>hotel_id</th>\n",
       "      <th>hotel_name</th>\n",
       "      <th>hotel_type</th>\n",
       "      <th>address_prefecture</th>\n",
       "      <th>address_city</th>\n",
       "      <th>address_town</th>\n",
       "      <th>address_zipcode</th>\n",
       "      <th>unit_price</th>\n",
       "      <th>user_rating</th>\n",
       "      <th>tag_001</th>\n",
       "      <th>...</th>\n",
       "      <th>tag_021</th>\n",
       "      <th>tag_022</th>\n",
       "      <th>tag_023</th>\n",
       "      <th>tag_024</th>\n",
       "      <th>tag_025</th>\n",
       "      <th>tag_026</th>\n",
       "      <th>tag_027</th>\n",
       "      <th>tag_028</th>\n",
       "      <th>tag_029</th>\n",
       "      <th>tag_030</th>\n",
       "    </tr>\n",
       "  </thead>\n",
       "  <tbody>\n",
       "    <tr>\n",
       "      <th>0</th>\n",
       "      <td>1</td>\n",
       "      <td>北飯岡ホテル</td>\n",
       "      <td>ビジネスホテル</td>\n",
       "      <td>岩手県</td>\n",
       "      <td>盛岡市</td>\n",
       "      <td>北飯岡</td>\n",
       "      <td>020-0857</td>\n",
       "      <td>10300</td>\n",
       "      <td>3.256591</td>\n",
       "      <td>0</td>\n",
       "      <td>...</td>\n",
       "      <td>0</td>\n",
       "      <td>1</td>\n",
       "      <td>&lt;NA&gt;</td>\n",
       "      <td>0</td>\n",
       "      <td>0</td>\n",
       "      <td>1</td>\n",
       "      <td>0</td>\n",
       "      <td>0</td>\n",
       "      <td>0</td>\n",
       "      <td>0</td>\n",
       "    </tr>\n",
       "    <tr>\n",
       "      <th>1</th>\n",
       "      <td>2</td>\n",
       "      <td>西二条南温泉ホテル</td>\n",
       "      <td>リゾートホテル</td>\n",
       "      <td>北海道</td>\n",
       "      <td>中川郡美深町</td>\n",
       "      <td>西二条南</td>\n",
       "      <td>098-2242</td>\n",
       "      <td>6800</td>\n",
       "      <td>3.453642</td>\n",
       "      <td>0</td>\n",
       "      <td>...</td>\n",
       "      <td>0</td>\n",
       "      <td>0</td>\n",
       "      <td>0</td>\n",
       "      <td>&lt;NA&gt;</td>\n",
       "      <td>1</td>\n",
       "      <td>0</td>\n",
       "      <td>0</td>\n",
       "      <td>0</td>\n",
       "      <td>0</td>\n",
       "      <td>0</td>\n",
       "    </tr>\n",
       "    <tr>\n",
       "      <th>2</th>\n",
       "      <td>3</td>\n",
       "      <td>小屋敷ペンション</td>\n",
       "      <td>民宿</td>\n",
       "      <td>青森県</td>\n",
       "      <td>黒石市</td>\n",
       "      <td>小屋敷</td>\n",
       "      <td>036-0511</td>\n",
       "      <td>18600</td>\n",
       "      <td>1.381796</td>\n",
       "      <td>&lt;NA&gt;</td>\n",
       "      <td>...</td>\n",
       "      <td>0</td>\n",
       "      <td>0</td>\n",
       "      <td>0</td>\n",
       "      <td>1</td>\n",
       "      <td>&lt;NA&gt;</td>\n",
       "      <td>&lt;NA&gt;</td>\n",
       "      <td>0</td>\n",
       "      <td>0</td>\n",
       "      <td>0</td>\n",
       "      <td>0</td>\n",
       "    </tr>\n",
       "    <tr>\n",
       "      <th>3</th>\n",
       "      <td>4</td>\n",
       "      <td>中後町民宿</td>\n",
       "      <td>民宿</td>\n",
       "      <td>愛知県</td>\n",
       "      <td>碧南市</td>\n",
       "      <td>中後町</td>\n",
       "      <td>447-0042</td>\n",
       "      <td>4900</td>\n",
       "      <td>2.090353</td>\n",
       "      <td>0</td>\n",
       "      <td>...</td>\n",
       "      <td>0</td>\n",
       "      <td>0</td>\n",
       "      <td>0</td>\n",
       "      <td>0</td>\n",
       "      <td>0</td>\n",
       "      <td>0</td>\n",
       "      <td>0</td>\n",
       "      <td>0</td>\n",
       "      <td>1</td>\n",
       "      <td>0</td>\n",
       "    </tr>\n",
       "    <tr>\n",
       "      <th>4</th>\n",
       "      <td>5</td>\n",
       "      <td>鵜沼台ホテル</td>\n",
       "      <td>ビジネスホテル</td>\n",
       "      <td>岐阜県</td>\n",
       "      <td>各務原市</td>\n",
       "      <td>鵜沼台</td>\n",
       "      <td>509-0121</td>\n",
       "      <td>9000</td>\n",
       "      <td>2.771490</td>\n",
       "      <td>0</td>\n",
       "      <td>...</td>\n",
       "      <td>0</td>\n",
       "      <td>0</td>\n",
       "      <td>0</td>\n",
       "      <td>0</td>\n",
       "      <td>0</td>\n",
       "      <td>1</td>\n",
       "      <td>1</td>\n",
       "      <td>1</td>\n",
       "      <td>0</td>\n",
       "      <td>0</td>\n",
       "    </tr>\n",
       "  </tbody>\n",
       "</table>\n",
       "<p>5 rows × 39 columns</p>\n",
       "</div>"
      ],
      "text/plain": [
       "   hotel_id hotel_name hotel_type address_prefecture address_city  \\\n",
       "0         1     北飯岡ホテル    ビジネスホテル                岩手県          盛岡市   \n",
       "1         2  西二条南温泉ホテル    リゾートホテル                北海道       中川郡美深町   \n",
       "2         3   小屋敷ペンション         民宿                青森県          黒石市   \n",
       "3         4      中後町民宿         民宿                愛知県          碧南市   \n",
       "4         5     鵜沼台ホテル    ビジネスホテル                岐阜県         各務原市   \n",
       "\n",
       "  address_town address_zipcode  unit_price  user_rating  tag_001  ...  \\\n",
       "0          北飯岡        020-0857       10300     3.256591        0  ...   \n",
       "1         西二条南        098-2242        6800     3.453642        0  ...   \n",
       "2          小屋敷        036-0511       18600     1.381796     <NA>  ...   \n",
       "3          中後町        447-0042        4900     2.090353        0  ...   \n",
       "4          鵜沼台        509-0121        9000     2.771490        0  ...   \n",
       "\n",
       "   tag_021  tag_022  tag_023  tag_024  tag_025  tag_026  tag_027  tag_028  \\\n",
       "0        0        1     <NA>        0        0        1        0        0   \n",
       "1        0        0        0     <NA>        1        0        0        0   \n",
       "2        0        0        0        1     <NA>     <NA>        0        0   \n",
       "3        0        0        0        0        0        0        0        0   \n",
       "4        0        0        0        0        0        1        1        1   \n",
       "\n",
       "   tag_029  tag_030  \n",
       "0        0        0  \n",
       "1        0        0  \n",
       "2        0        0  \n",
       "3        1        0  \n",
       "4        0        0  \n",
       "\n",
       "[5 rows x 39 columns]"
      ]
     },
     "execution_count": 3,
     "metadata": {},
     "output_type": "execute_result"
    }
   ],
   "source": [
    "pd_hotel.head()"
   ]
  },
  {
   "cell_type": "code",
   "execution_count": 4,
   "id": "409cb0b2-1aa7-42a0-9b08-f964d6dbc096",
   "metadata": {},
   "outputs": [
    {
     "data": {
      "text/plain": [
       "unit_price_range\n",
       "0         220\n",
       "5000     2760\n",
       "10000    1389\n",
       "15000     456\n",
       "20000     139\n",
       "25000      29\n",
       "30000       6\n",
       "35000       1\n",
       "dtype: int64"
      ]
     },
     "execution_count": 4,
     "metadata": {},
     "output_type": "execute_result"
    }
   ],
   "source": [
    "import numpy as np\n",
    "\n",
    "(\n",
    "    pd_hotel\n",
    "    .assign(unit_price_range=lambda df:\n",
    "           (np.floor(df.unit_price / 5000) * 5000).astype(int))\n",
    "    .groupby(\"unit_price_range\").size()\n",
    ")"
   ]
  },
  {
   "cell_type": "markdown",
   "id": "063fce85-18cb-449a-9266-e2ea8d24cceb",
   "metadata": {},
   "source": [
    "### Polars"
   ]
  },
  {
   "cell_type": "code",
   "execution_count": 5,
   "id": "b06cddea-5780-4cd2-8bcb-cf12b3a44701",
   "metadata": {},
   "outputs": [],
   "source": [
    "import polars as pl"
   ]
  },
  {
   "cell_type": "code",
   "execution_count": 6,
   "id": "2a61acfc-58a5-4471-bc80-75568628c347",
   "metadata": {},
   "outputs": [],
   "source": [
    "pl_hotel = pl.read_parquet(\"../../data/hotel.parquet\")"
   ]
  },
  {
   "cell_type": "code",
   "execution_count": 7,
   "id": "2b27787f-0fe0-48a4-8f00-8c70a00ad86a",
   "metadata": {},
   "outputs": [
    {
     "data": {
      "text/html": [
       "<div><style>\n",
       ".dataframe > thead > tr,\n",
       ".dataframe > tbody > tr {\n",
       "  text-align: right;\n",
       "  white-space: pre-wrap;\n",
       "}\n",
       "</style>\n",
       "<small>shape: (8, 2)</small><table border=\"1\" class=\"dataframe\"><thead><tr><th>unit_price</th><th>len</th></tr><tr><td>i32</td><td>u32</td></tr></thead><tbody><tr><td>0</td><td>220</td></tr><tr><td>5000</td><td>2760</td></tr><tr><td>10000</td><td>1389</td></tr><tr><td>15000</td><td>456</td></tr><tr><td>20000</td><td>139</td></tr><tr><td>25000</td><td>29</td></tr><tr><td>30000</td><td>6</td></tr><tr><td>35000</td><td>1</td></tr></tbody></table></div>"
      ],
      "text/plain": [
       "shape: (8, 2)\n",
       "┌────────────┬──────┐\n",
       "│ unit_price ┆ len  │\n",
       "│ ---        ┆ ---  │\n",
       "│ i32        ┆ u32  │\n",
       "╞════════════╪══════╡\n",
       "│ 0          ┆ 220  │\n",
       "│ 5000       ┆ 2760 │\n",
       "│ 10000      ┆ 1389 │\n",
       "│ 15000      ┆ 456  │\n",
       "│ 20000      ┆ 139  │\n",
       "│ 25000      ┆ 29   │\n",
       "│ 30000      ┆ 6    │\n",
       "│ 35000      ┆ 1    │\n",
       "└────────────┴──────┘"
      ]
     },
     "execution_count": 7,
     "metadata": {},
     "output_type": "execute_result"
    }
   ],
   "source": [
    "# without creating new column\n",
    "(\n",
    "    pl_hotel\n",
    "    .group_by((pl.col(\"unit_price\") / 5000).floor().cast(pl.Int32) * 5000)\n",
    "    .agg(pl.len()).sort(\"unit_price\")\n",
    ")"
   ]
  },
  {
   "cell_type": "markdown",
   "id": "9f3b6064-fe69-4f7e-8d70-2a458458aefa",
   "metadata": {},
   "source": [
    "## Aggregate the hotel number by unequidistant price range"
   ]
  },
  {
   "cell_type": "markdown",
   "id": "b2e685a9-a7eb-4319-ad3f-af4dabb5251d",
   "metadata": {},
   "source": [
    "### Pandas"
   ]
  },
  {
   "cell_type": "code",
   "execution_count": 8,
   "id": "64ce4708-eaca-43dc-951a-5c2c469fbffc",
   "metadata": {},
   "outputs": [
    {
     "data": {
      "text/plain": [
       "unit_price_range\n",
       "0         220\n",
       "5000     2760\n",
       "10000    1845\n",
       "20000     168\n",
       "30000       7\n",
       "dtype: int64"
      ]
     },
     "execution_count": 8,
     "metadata": {},
     "output_type": "execute_result"
    }
   ],
   "source": [
    "(\n",
    "    pd_hotel\n",
    "    .assign(unit_price_range=lambda df:\n",
    "           np.where(df.unit_price < 5000,  0,\n",
    "           np.where(df.unit_price < 10000, 5000,\n",
    "           np.where(df.unit_price < 20000, 10000,\n",
    "           np.where(df.unit_price < 30000, 20000,\n",
    "                   30000)))))\n",
    "    .groupby(\"unit_price_range\").size()\n",
    ")"
   ]
  },
  {
   "cell_type": "markdown",
   "id": "e9b19a80-a8fb-4044-933e-a7d3d4033dd2",
   "metadata": {},
   "source": [
    "### Polars"
   ]
  },
  {
   "cell_type": "code",
   "execution_count": 9,
   "id": "4d6d39f1-7f72-4f4b-8848-f7cb67030f5d",
   "metadata": {},
   "outputs": [
    {
     "data": {
      "text/html": [
       "<div><style>\n",
       ".dataframe > thead > tr,\n",
       ".dataframe > tbody > tr {\n",
       "  text-align: right;\n",
       "  white-space: pre-wrap;\n",
       "}\n",
       "</style>\n",
       "<small>shape: (5, 2)</small><table border=\"1\" class=\"dataframe\"><thead><tr><th>unit_price</th><th>len</th></tr><tr><td>i32</td><td>u32</td></tr></thead><tbody><tr><td>0</td><td>220</td></tr><tr><td>5000</td><td>2760</td></tr><tr><td>10000</td><td>1845</td></tr><tr><td>20000</td><td>168</td></tr><tr><td>30000</td><td>7</td></tr></tbody></table></div>"
      ],
      "text/plain": [
       "shape: (5, 2)\n",
       "┌────────────┬──────┐\n",
       "│ unit_price ┆ len  │\n",
       "│ ---        ┆ ---  │\n",
       "│ i32        ┆ u32  │\n",
       "╞════════════╪══════╡\n",
       "│ 0          ┆ 220  │\n",
       "│ 5000       ┆ 2760 │\n",
       "│ 10000      ┆ 1845 │\n",
       "│ 20000      ┆ 168  │\n",
       "│ 30000      ┆ 7    │\n",
       "└────────────┴──────┘"
      ]
     },
     "execution_count": 9,
     "metadata": {},
     "output_type": "execute_result"
    }
   ],
   "source": [
    "(\n",
    "    pl_hotel\n",
    "    .group_by(\n",
    "        pl.when(pl.col(\"unit_price\") < 5000).then(0)\n",
    "        .when(pl.col(\"unit_price\") < 10000).then(5000)\n",
    "        .when(pl.col(\"unit_price\") < 20000).then(10000)\n",
    "        .when(pl.col(\"unit_price\") < 30000).then(20000)\n",
    "        .otherwise(30000)\n",
    "        .alias(\"unit_price\")\n",
    "    )\n",
    "    .agg(pl.len()).sort(\"unit_price\")\n",
    ")"
   ]
  },
  {
   "cell_type": "code",
   "execution_count": null,
   "id": "41fbd5b0-766b-4fbe-8f04-ce61e252a4e7",
   "metadata": {},
   "outputs": [],
   "source": []
  }
 ],
 "metadata": {
  "kernelspec": {
   "display_name": "Python 3 (ipykernel)",
   "language": "python",
   "name": "python3"
  },
  "language_info": {
   "codemirror_mode": {
    "name": "ipython",
    "version": 3
   },
   "file_extension": ".py",
   "mimetype": "text/x-python",
   "name": "python",
   "nbconvert_exporter": "python",
   "pygments_lexer": "ipython3",
   "version": "3.10.12"
  }
 },
 "nbformat": 4,
 "nbformat_minor": 5
}
