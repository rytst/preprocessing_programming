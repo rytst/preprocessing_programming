{
 "cells": [
  {
   "cell_type": "markdown",
   "id": "41c446e7-8d0c-4d1b-b671-3b65939217c7",
   "metadata": {},
   "source": [
    "# 6-1 Aggregate function for dataset"
   ]
  },
  {
   "cell_type": "markdown",
   "id": "90ae73e7-9924-46fa-bf11-02b98a52970d",
   "metadata": {},
   "source": [
    "## Aggregate value for reservation data"
   ]
  },
  {
   "cell_type": "markdown",
   "id": "07a1988f-e935-4380-8f73-96a33bcf0bd6",
   "metadata": {},
   "source": [
    "### Pandas"
   ]
  },
  {
   "cell_type": "code",
   "execution_count": 1,
   "id": "5d010c5b-135a-4593-8e70-01b80071d917",
   "metadata": {},
   "outputs": [],
   "source": [
    "import pandas as pd"
   ]
  },
  {
   "cell_type": "code",
   "execution_count": 2,
   "id": "521532fd-81a6-41eb-a1c3-16b99c27dfe9",
   "metadata": {},
   "outputs": [],
   "source": [
    "pd_reservation = pd.read_parquet(\"../../data/reservation.parquet\")"
   ]
  },
  {
   "cell_type": "code",
   "execution_count": 3,
   "id": "14f454f0-df8f-4927-9e84-64b3dd95e776",
   "metadata": {},
   "outputs": [
    {
     "data": {
      "text/html": [
       "<div>\n",
       "<style scoped>\n",
       "    .dataframe tbody tr th:only-of-type {\n",
       "        vertical-align: middle;\n",
       "    }\n",
       "\n",
       "    .dataframe tbody tr th {\n",
       "        vertical-align: top;\n",
       "    }\n",
       "\n",
       "    .dataframe thead th {\n",
       "        text-align: right;\n",
       "    }\n",
       "</style>\n",
       "<table border=\"1\" class=\"dataframe\">\n",
       "  <thead>\n",
       "    <tr style=\"text-align: right;\">\n",
       "      <th></th>\n",
       "      <th>reservation_id</th>\n",
       "      <th>hotel_id</th>\n",
       "      <th>customer_id</th>\n",
       "      <th>reserved_at</th>\n",
       "      <th>checkin_date</th>\n",
       "      <th>checkout_date</th>\n",
       "      <th>length_of_stay</th>\n",
       "      <th>people_num</th>\n",
       "      <th>total_price</th>\n",
       "      <th>status</th>\n",
       "      <th>canceled_at</th>\n",
       "    </tr>\n",
       "  </thead>\n",
       "  <tbody>\n",
       "    <tr>\n",
       "      <th>0</th>\n",
       "      <td>1</td>\n",
       "      <td>2460</td>\n",
       "      <td>53431</td>\n",
       "      <td>2013-12-31 07:00:14+09:00</td>\n",
       "      <td>2014-12-31 00:00:00+09:00</td>\n",
       "      <td>2015-01-03 00:00:00+09:00</td>\n",
       "      <td>3</td>\n",
       "      <td>2</td>\n",
       "      <td>37800</td>\n",
       "      <td>reserved</td>\n",
       "      <td>NaT</td>\n",
       "    </tr>\n",
       "    <tr>\n",
       "      <th>1</th>\n",
       "      <td>2</td>\n",
       "      <td>962</td>\n",
       "      <td>488390</td>\n",
       "      <td>2013-12-31 08:23:35+09:00</td>\n",
       "      <td>2014-12-31 00:00:00+09:00</td>\n",
       "      <td>2015-01-02 00:00:00+09:00</td>\n",
       "      <td>2</td>\n",
       "      <td>3</td>\n",
       "      <td>42000</td>\n",
       "      <td>reserved</td>\n",
       "      <td>NaT</td>\n",
       "    </tr>\n",
       "    <tr>\n",
       "      <th>2</th>\n",
       "      <td>3</td>\n",
       "      <td>558</td>\n",
       "      <td>341335</td>\n",
       "      <td>2013-12-31 09:02:05+09:00</td>\n",
       "      <td>2014-12-31 00:00:00+09:00</td>\n",
       "      <td>2015-01-01 00:00:00+09:00</td>\n",
       "      <td>1</td>\n",
       "      <td>2</td>\n",
       "      <td>20400</td>\n",
       "      <td>reserved</td>\n",
       "      <td>NaT</td>\n",
       "    </tr>\n",
       "    <tr>\n",
       "      <th>3</th>\n",
       "      <td>4</td>\n",
       "      <td>3666</td>\n",
       "      <td>398981</td>\n",
       "      <td>2013-12-31 23:44:54+09:00</td>\n",
       "      <td>2014-12-31 00:00:00+09:00</td>\n",
       "      <td>2015-01-01 00:00:00+09:00</td>\n",
       "      <td>1</td>\n",
       "      <td>4</td>\n",
       "      <td>39600</td>\n",
       "      <td>reserved</td>\n",
       "      <td>NaT</td>\n",
       "    </tr>\n",
       "    <tr>\n",
       "      <th>4</th>\n",
       "      <td>5</td>\n",
       "      <td>2180</td>\n",
       "      <td>220381</td>\n",
       "      <td>2014-01-01 02:47:50+09:00</td>\n",
       "      <td>2014-12-31 00:00:00+09:00</td>\n",
       "      <td>2015-01-01 00:00:00+09:00</td>\n",
       "      <td>1</td>\n",
       "      <td>3</td>\n",
       "      <td>16500</td>\n",
       "      <td>reserved</td>\n",
       "      <td>NaT</td>\n",
       "    </tr>\n",
       "  </tbody>\n",
       "</table>\n",
       "</div>"
      ],
      "text/plain": [
       "   reservation_id  hotel_id  customer_id               reserved_at  \\\n",
       "0               1      2460        53431 2013-12-31 07:00:14+09:00   \n",
       "1               2       962       488390 2013-12-31 08:23:35+09:00   \n",
       "2               3       558       341335 2013-12-31 09:02:05+09:00   \n",
       "3               4      3666       398981 2013-12-31 23:44:54+09:00   \n",
       "4               5      2180       220381 2014-01-01 02:47:50+09:00   \n",
       "\n",
       "               checkin_date             checkout_date  length_of_stay  \\\n",
       "0 2014-12-31 00:00:00+09:00 2015-01-03 00:00:00+09:00               3   \n",
       "1 2014-12-31 00:00:00+09:00 2015-01-02 00:00:00+09:00               2   \n",
       "2 2014-12-31 00:00:00+09:00 2015-01-01 00:00:00+09:00               1   \n",
       "3 2014-12-31 00:00:00+09:00 2015-01-01 00:00:00+09:00               1   \n",
       "4 2014-12-31 00:00:00+09:00 2015-01-01 00:00:00+09:00               1   \n",
       "\n",
       "   people_num  total_price    status canceled_at  \n",
       "0           2        37800  reserved         NaT  \n",
       "1           3        42000  reserved         NaT  \n",
       "2           2        20400  reserved         NaT  \n",
       "3           4        39600  reserved         NaT  \n",
       "4           3        16500  reserved         NaT  "
      ]
     },
     "execution_count": 3,
     "metadata": {},
     "output_type": "execute_result"
    }
   ],
   "source": [
    "pd_reservation.head()"
   ]
  },
  {
   "cell_type": "code",
   "execution_count": 4,
   "id": "b0f5d9b7-8385-40ef-b589-9b7c0ad2eb0d",
   "metadata": {},
   "outputs": [
    {
     "data": {
      "text/html": [
       "<div>\n",
       "<style scoped>\n",
       "    .dataframe tbody tr th:only-of-type {\n",
       "        vertical-align: middle;\n",
       "    }\n",
       "\n",
       "    .dataframe tbody tr th {\n",
       "        vertical-align: top;\n",
       "    }\n",
       "\n",
       "    .dataframe thead th {\n",
       "        text-align: right;\n",
       "    }\n",
       "</style>\n",
       "<table border=\"1\" class=\"dataframe\">\n",
       "  <thead>\n",
       "    <tr style=\"text-align: right;\">\n",
       "      <th></th>\n",
       "      <th>reservation_id</th>\n",
       "      <th>total_price</th>\n",
       "    </tr>\n",
       "  </thead>\n",
       "  <tbody>\n",
       "    <tr>\n",
       "      <th>reservation_cnt</th>\n",
       "      <td>1799589.0</td>\n",
       "      <td>NaN</td>\n",
       "    </tr>\n",
       "    <tr>\n",
       "      <th>sales</th>\n",
       "      <td>NaN</td>\n",
       "      <td>7.204893e+10</td>\n",
       "    </tr>\n",
       "    <tr>\n",
       "      <th>mean_sales</th>\n",
       "      <td>NaN</td>\n",
       "      <td>4.003632e+04</td>\n",
       "    </tr>\n",
       "    <tr>\n",
       "      <th>min_sales</th>\n",
       "      <td>NaN</td>\n",
       "      <td>4.000000e+03</td>\n",
       "    </tr>\n",
       "    <tr>\n",
       "      <th>max_sales</th>\n",
       "      <td>NaN</td>\n",
       "      <td>5.970000e+05</td>\n",
       "    </tr>\n",
       "    <tr>\n",
       "      <th>var_sales</th>\n",
       "      <td>NaN</td>\n",
       "      <td>1.223721e+09</td>\n",
       "    </tr>\n",
       "    <tr>\n",
       "      <th>std_sales</th>\n",
       "      <td>NaN</td>\n",
       "      <td>3.498172e+04</td>\n",
       "    </tr>\n",
       "  </tbody>\n",
       "</table>\n",
       "</div>"
      ],
      "text/plain": [
       "                 reservation_id   total_price\n",
       "reservation_cnt       1799589.0           NaN\n",
       "sales                       NaN  7.204893e+10\n",
       "mean_sales                  NaN  4.003632e+04\n",
       "min_sales                   NaN  4.000000e+03\n",
       "max_sales                   NaN  5.970000e+05\n",
       "var_sales                   NaN  1.223721e+09\n",
       "std_sales                   NaN  3.498172e+04"
      ]
     },
     "execution_count": 4,
     "metadata": {},
     "output_type": "execute_result"
    }
   ],
   "source": [
    "(\n",
    "    pd_reservation\n",
    "    # Extract by condition\n",
    "    .query(\"status != 'canceled'\")\n",
    "    # aggregate value\n",
    "    .agg(\n",
    "        reservation_cnt=(\"reservation_id\", \"size\"),\n",
    "        sales=(\"total_price\", \"sum\"),\n",
    "        mean_sales=(\"total_price\", \"mean\"),\n",
    "        min_sales=(\"total_price\", \"min\"),\n",
    "        max_sales=(\"total_price\", \"max\"),\n",
    "        var_sales=(\"total_price\", \"var\"),\n",
    "        std_sales=(\"total_price\", \"std\"),\n",
    "    )\n",
    ")"
   ]
  },
  {
   "cell_type": "markdown",
   "id": "8f3ec444-a4ad-4bf5-9f98-19355544aaf2",
   "metadata": {},
   "source": [
    "### Polars"
   ]
  },
  {
   "cell_type": "code",
   "execution_count": 5,
   "id": "00733876-9a59-4704-9dcd-b044db72c86d",
   "metadata": {},
   "outputs": [],
   "source": [
    "import polars as pl"
   ]
  },
  {
   "cell_type": "code",
   "execution_count": 6,
   "id": "e68edbc0-b520-4d61-b1a5-39e90cb98bd8",
   "metadata": {},
   "outputs": [],
   "source": [
    "pl_reservation = pl.read_parquet(\"../../data/reservation.parquet\")"
   ]
  },
  {
   "cell_type": "code",
   "execution_count": 7,
   "id": "822704ae-979a-4e31-b49e-c9f767670545",
   "metadata": {},
   "outputs": [
    {
     "data": {
      "text/html": [
       "<div><style>\n",
       ".dataframe > thead > tr,\n",
       ".dataframe > tbody > tr {\n",
       "  text-align: right;\n",
       "  white-space: pre-wrap;\n",
       "}\n",
       "</style>\n",
       "<small>shape: (5, 11)</small><table border=\"1\" class=\"dataframe\"><thead><tr><th>reservation_id</th><th>hotel_id</th><th>customer_id</th><th>reserved_at</th><th>checkin_date</th><th>checkout_date</th><th>length_of_stay</th><th>people_num</th><th>total_price</th><th>status</th><th>canceled_at</th></tr><tr><td>i64</td><td>i64</td><td>i64</td><td>datetime[ns, Asia/Tokyo]</td><td>datetime[ns, Asia/Tokyo]</td><td>datetime[ns, Asia/Tokyo]</td><td>i64</td><td>i64</td><td>i64</td><td>str</td><td>datetime[ns, Asia/Tokyo]</td></tr></thead><tbody><tr><td>1</td><td>2460</td><td>53431</td><td>2013-12-31 07:00:14 JST</td><td>2014-12-31 00:00:00 JST</td><td>2015-01-03 00:00:00 JST</td><td>3</td><td>2</td><td>37800</td><td>&quot;reserved&quot;</td><td>null</td></tr><tr><td>2</td><td>962</td><td>488390</td><td>2013-12-31 08:23:35 JST</td><td>2014-12-31 00:00:00 JST</td><td>2015-01-02 00:00:00 JST</td><td>2</td><td>3</td><td>42000</td><td>&quot;reserved&quot;</td><td>null</td></tr><tr><td>3</td><td>558</td><td>341335</td><td>2013-12-31 09:02:05 JST</td><td>2014-12-31 00:00:00 JST</td><td>2015-01-01 00:00:00 JST</td><td>1</td><td>2</td><td>20400</td><td>&quot;reserved&quot;</td><td>null</td></tr><tr><td>4</td><td>3666</td><td>398981</td><td>2013-12-31 23:44:54 JST</td><td>2014-12-31 00:00:00 JST</td><td>2015-01-01 00:00:00 JST</td><td>1</td><td>4</td><td>39600</td><td>&quot;reserved&quot;</td><td>null</td></tr><tr><td>5</td><td>2180</td><td>220381</td><td>2014-01-01 02:47:50 JST</td><td>2014-12-31 00:00:00 JST</td><td>2015-01-01 00:00:00 JST</td><td>1</td><td>3</td><td>16500</td><td>&quot;reserved&quot;</td><td>null</td></tr></tbody></table></div>"
      ],
      "text/plain": [
       "shape: (5, 11)\n",
       "┌────────────┬──────────┬───────────┬───────────┬───┬───────────┬───────────┬──────────┬───────────┐\n",
       "│ reservatio ┆ hotel_id ┆ customer_ ┆ reserved_ ┆ … ┆ people_nu ┆ total_pri ┆ status   ┆ canceled_ │\n",
       "│ n_id       ┆ ---      ┆ id        ┆ at        ┆   ┆ m         ┆ ce        ┆ ---      ┆ at        │\n",
       "│ ---        ┆ i64      ┆ ---       ┆ ---       ┆   ┆ ---       ┆ ---       ┆ str      ┆ ---       │\n",
       "│ i64        ┆          ┆ i64       ┆ datetime[ ┆   ┆ i64       ┆ i64       ┆          ┆ datetime[ │\n",
       "│            ┆          ┆           ┆ ns, Asia/ ┆   ┆           ┆           ┆          ┆ ns, Asia/ │\n",
       "│            ┆          ┆           ┆ Tokyo]    ┆   ┆           ┆           ┆          ┆ Tokyo]    │\n",
       "╞════════════╪══════════╪═══════════╪═══════════╪═══╪═══════════╪═══════════╪══════════╪═══════════╡\n",
       "│ 1          ┆ 2460     ┆ 53431     ┆ 2013-12-3 ┆ … ┆ 2         ┆ 37800     ┆ reserved ┆ null      │\n",
       "│            ┆          ┆           ┆ 1         ┆   ┆           ┆           ┆          ┆           │\n",
       "│            ┆          ┆           ┆ 07:00:14  ┆   ┆           ┆           ┆          ┆           │\n",
       "│            ┆          ┆           ┆ JST       ┆   ┆           ┆           ┆          ┆           │\n",
       "│ 2          ┆ 962      ┆ 488390    ┆ 2013-12-3 ┆ … ┆ 3         ┆ 42000     ┆ reserved ┆ null      │\n",
       "│            ┆          ┆           ┆ 1         ┆   ┆           ┆           ┆          ┆           │\n",
       "│            ┆          ┆           ┆ 08:23:35  ┆   ┆           ┆           ┆          ┆           │\n",
       "│            ┆          ┆           ┆ JST       ┆   ┆           ┆           ┆          ┆           │\n",
       "│ 3          ┆ 558      ┆ 341335    ┆ 2013-12-3 ┆ … ┆ 2         ┆ 20400     ┆ reserved ┆ null      │\n",
       "│            ┆          ┆           ┆ 1         ┆   ┆           ┆           ┆          ┆           │\n",
       "│            ┆          ┆           ┆ 09:02:05  ┆   ┆           ┆           ┆          ┆           │\n",
       "│            ┆          ┆           ┆ JST       ┆   ┆           ┆           ┆          ┆           │\n",
       "│ 4          ┆ 3666     ┆ 398981    ┆ 2013-12-3 ┆ … ┆ 4         ┆ 39600     ┆ reserved ┆ null      │\n",
       "│            ┆          ┆           ┆ 1         ┆   ┆           ┆           ┆          ┆           │\n",
       "│            ┆          ┆           ┆ 23:44:54  ┆   ┆           ┆           ┆          ┆           │\n",
       "│            ┆          ┆           ┆ JST       ┆   ┆           ┆           ┆          ┆           │\n",
       "│ 5          ┆ 2180     ┆ 220381    ┆ 2014-01-0 ┆ … ┆ 3         ┆ 16500     ┆ reserved ┆ null      │\n",
       "│            ┆          ┆           ┆ 1         ┆   ┆           ┆           ┆          ┆           │\n",
       "│            ┆          ┆           ┆ 02:47:50  ┆   ┆           ┆           ┆          ┆           │\n",
       "│            ┆          ┆           ┆ JST       ┆   ┆           ┆           ┆          ┆           │\n",
       "└────────────┴──────────┴───────────┴───────────┴───┴───────────┴───────────┴──────────┴───────────┘"
      ]
     },
     "execution_count": 7,
     "metadata": {},
     "output_type": "execute_result"
    }
   ],
   "source": [
    "pl_reservation.head()"
   ]
  },
  {
   "cell_type": "code",
   "execution_count": 8,
   "id": "a9bd4d0b-a43e-4c4a-8887-8b704a13e8c7",
   "metadata": {},
   "outputs": [
    {
     "data": {
      "text/html": [
       "<div><style>\n",
       ".dataframe > thead > tr,\n",
       ".dataframe > tbody > tr {\n",
       "  text-align: right;\n",
       "  white-space: pre-wrap;\n",
       "}\n",
       "</style>\n",
       "<small>shape: (1, 7)</small><table border=\"1\" class=\"dataframe\"><thead><tr><th>reservation_cnt</th><th>sales</th><th>mean_sales</th><th>min_sales</th><th>max_sales</th><th>var_sales</th><th>std_sales</th></tr><tr><td>u32</td><td>i64</td><td>f64</td><td>i64</td><td>i64</td><td>f64</td><td>f64</td></tr></thead><tbody><tr><td>1799589</td><td>72048928400</td><td>40036.324072</td><td>4000</td><td>597000</td><td>1.2237e9</td><td>34981.716778</td></tr></tbody></table></div>"
      ],
      "text/plain": [
       "shape: (1, 7)\n",
       "┌─────────────────┬─────────────┬──────────────┬───────────┬───────────┬───────────┬──────────────┐\n",
       "│ reservation_cnt ┆ sales       ┆ mean_sales   ┆ min_sales ┆ max_sales ┆ var_sales ┆ std_sales    │\n",
       "│ ---             ┆ ---         ┆ ---          ┆ ---       ┆ ---       ┆ ---       ┆ ---          │\n",
       "│ u32             ┆ i64         ┆ f64          ┆ i64       ┆ i64       ┆ f64       ┆ f64          │\n",
       "╞═════════════════╪═════════════╪══════════════╪═══════════╪═══════════╪═══════════╪══════════════╡\n",
       "│ 1799589         ┆ 72048928400 ┆ 40036.324072 ┆ 4000      ┆ 597000    ┆ 1.2237e9  ┆ 34981.716778 │\n",
       "└─────────────────┴─────────────┴──────────────┴───────────┴───────────┴───────────┴──────────────┘"
      ]
     },
     "execution_count": 8,
     "metadata": {},
     "output_type": "execute_result"
    }
   ],
   "source": [
    "(\n",
    "    pl_reservation\n",
    "    .filter(pl.col(\"status\") != \"canceled\")\n",
    "    .select([\n",
    "        pl.col(\"reservation_id\").len().alias(\"reservation_cnt\"),\n",
    "        pl.col(\"total_price\").sum().alias(\"sales\"),\n",
    "        pl.col(\"total_price\").mean().alias(\"mean_sales\"),\n",
    "        pl.col(\"total_price\").min().alias(\"min_sales\"),\n",
    "        pl.col(\"total_price\").max().alias(\"max_sales\"),\n",
    "        pl.col(\"total_price\").var().alias(\"var_sales\"),\n",
    "        pl.col(\"total_price\").std().alias(\"std_sales\"),\n",
    "    ])\n",
    ")"
   ]
  },
  {
   "cell_type": "markdown",
   "id": "c241d2d0-1ec7-40fe-aab4-694aa738fcaf",
   "metadata": {},
   "source": [
    "## Unique count"
   ]
  },
  {
   "cell_type": "markdown",
   "id": "927099fd-4c7c-41fd-9133-dc5d672e8f7b",
   "metadata": {},
   "source": [
    "### Pandas"
   ]
  },
  {
   "cell_type": "code",
   "execution_count": 9,
   "id": "fdc8eeb2-da61-4bd8-9724-9b1d2e3a7117",
   "metadata": {},
   "outputs": [
    {
     "data": {
      "text/plain": [
       "411336"
      ]
     },
     "execution_count": 9,
     "metadata": {},
     "output_type": "execute_result"
    }
   ],
   "source": [
    "(\n",
    "    pd_reservation\n",
    "    .query(\"status != 'canceled'\")\n",
    "    .loc[:, \"customer_id\"]\n",
    "    .nunique()\n",
    ")"
   ]
  },
  {
   "cell_type": "markdown",
   "id": "97ae5687-5c39-4a14-8ff7-555be437f2ce",
   "metadata": {},
   "source": [
    "### Polars"
   ]
  },
  {
   "cell_type": "code",
   "execution_count": 10,
   "id": "1bb12e00-7994-4530-bebd-678068d59dde",
   "metadata": {},
   "outputs": [
    {
     "data": {
      "text/plain": [
       "411336"
      ]
     },
     "execution_count": 10,
     "metadata": {},
     "output_type": "execute_result"
    }
   ],
   "source": [
    "(\n",
    "    pl_reservation\n",
    "    .filter(pl.col(\"status\") != \"canceled\")\n",
    "    .select(pl.col(\"customer_id\"))\n",
    "    # also count null\n",
    "    .n_unique()\n",
    ")"
   ]
  },
  {
   "cell_type": "markdown",
   "id": "285f6404-c5e4-480d-b1a5-d7404b7f55a0",
   "metadata": {},
   "source": [
    "## Mean value and percentile"
   ]
  },
  {
   "cell_type": "markdown",
   "id": "eac63a6a-4145-4aae-9e1f-cf4e5fe2a3f4",
   "metadata": {},
   "source": [
    "### Pandas"
   ]
  },
  {
   "cell_type": "code",
   "execution_count": 11,
   "id": "2adab08a-d48d-47a8-80c2-a21a043923ae",
   "metadata": {},
   "outputs": [
    {
     "data": {
      "text/html": [
       "<div>\n",
       "<style scoped>\n",
       "    .dataframe tbody tr th:only-of-type {\n",
       "        vertical-align: middle;\n",
       "    }\n",
       "\n",
       "    .dataframe tbody tr th {\n",
       "        vertical-align: top;\n",
       "    }\n",
       "\n",
       "    .dataframe thead th {\n",
       "        text-align: right;\n",
       "    }\n",
       "</style>\n",
       "<table border=\"1\" class=\"dataframe\">\n",
       "  <thead>\n",
       "    <tr style=\"text-align: right;\">\n",
       "      <th></th>\n",
       "      <th>total_price</th>\n",
       "    </tr>\n",
       "  </thead>\n",
       "  <tbody>\n",
       "    <tr>\n",
       "      <th>median_sales</th>\n",
       "      <td>30400.0</td>\n",
       "    </tr>\n",
       "    <tr>\n",
       "      <th>p25_sales</th>\n",
       "      <td>17200.0</td>\n",
       "    </tr>\n",
       "    <tr>\n",
       "      <th>p75_sales</th>\n",
       "      <td>51000.0</td>\n",
       "    </tr>\n",
       "  </tbody>\n",
       "</table>\n",
       "</div>"
      ],
      "text/plain": [
       "              total_price\n",
       "median_sales      30400.0\n",
       "p25_sales         17200.0\n",
       "p75_sales         51000.0"
      ]
     },
     "execution_count": 11,
     "metadata": {},
     "output_type": "execute_result"
    }
   ],
   "source": [
    "(\n",
    "    pd_reservation\n",
    "    .query(\"status != 'cancled'\")\n",
    "    .agg(\n",
    "        median_sales=(\"total_price\", \"median\"),\n",
    "        p25_sales=(\"total_price\", lambda s: s.quantile(0.25)),\n",
    "        p75_sales=(\"total_price\", lambda s: s.quantile(0.75)),\n",
    "    )\n",
    ")"
   ]
  },
  {
   "cell_type": "markdown",
   "id": "655b2c92-4346-4df7-be8f-821f83f51e35",
   "metadata": {},
   "source": [
    "### Polars"
   ]
  },
  {
   "cell_type": "code",
   "execution_count": 12,
   "id": "123dab19-a865-42ae-81fb-4379fdb5257b",
   "metadata": {},
   "outputs": [
    {
     "data": {
      "text/html": [
       "<div><style>\n",
       ".dataframe > thead > tr,\n",
       ".dataframe > tbody > tr {\n",
       "  text-align: right;\n",
       "  white-space: pre-wrap;\n",
       "}\n",
       "</style>\n",
       "<small>shape: (1, 3)</small><table border=\"1\" class=\"dataframe\"><thead><tr><th>median_sales</th><th>p25_sales</th><th>p75_salse</th></tr><tr><td>f64</td><td>f64</td><td>f64</td></tr></thead><tbody><tr><td>30400.0</td><td>17200.0</td><td>51000.0</td></tr></tbody></table></div>"
      ],
      "text/plain": [
       "shape: (1, 3)\n",
       "┌──────────────┬───────────┬───────────┐\n",
       "│ median_sales ┆ p25_sales ┆ p75_salse │\n",
       "│ ---          ┆ ---       ┆ ---       │\n",
       "│ f64          ┆ f64       ┆ f64       │\n",
       "╞══════════════╪═══════════╪═══════════╡\n",
       "│ 30400.0      ┆ 17200.0   ┆ 51000.0   │\n",
       "└──────────────┴───────────┴───────────┘"
      ]
     },
     "execution_count": 12,
     "metadata": {},
     "output_type": "execute_result"
    }
   ],
   "source": [
    "(\n",
    "    pl_reservation\n",
    "    .filter(pl.col(\"status\") != \"canceled\")\n",
    "    .select([\n",
    "        pl.col(\"total_price\").median().alias(\"median_sales\"),\n",
    "        pl.col(\"total_price\").quantile(0.25, interpolation=\"linear\").alias(\"p25_sales\"),\n",
    "        pl.col(\"total_price\").quantile(0.75, interpolation=\"linear\").alias(\"p75_salse\"),\n",
    "    ])\n",
    ")"
   ]
  },
  {
   "cell_type": "markdown",
   "id": "f6f08d21-a0f2-44c9-bff9-e11a41923e80",
   "metadata": {},
   "source": [
    "## Mode group by"
   ]
  },
  {
   "cell_type": "markdown",
   "id": "7f7aec1c-3209-409f-a97a-6ee8351bfbea",
   "metadata": {},
   "source": [
    "### Pandas"
   ]
  },
  {
   "cell_type": "code",
   "execution_count": 13,
   "id": "bbdf24b6-7c93-45b4-9a9f-155d77a88830",
   "metadata": {},
   "outputs": [
    {
     "data": {
      "text/html": [
       "<div>\n",
       "<style scoped>\n",
       "    .dataframe tbody tr th:only-of-type {\n",
       "        vertical-align: middle;\n",
       "    }\n",
       "\n",
       "    .dataframe tbody tr th {\n",
       "        vertical-align: top;\n",
       "    }\n",
       "\n",
       "    .dataframe thead th {\n",
       "        text-align: right;\n",
       "    }\n",
       "</style>\n",
       "<table border=\"1\" class=\"dataframe\">\n",
       "  <thead>\n",
       "    <tr style=\"text-align: right;\">\n",
       "      <th></th>\n",
       "      <th>mode_people_num</th>\n",
       "    </tr>\n",
       "    <tr>\n",
       "      <th>hotel_id</th>\n",
       "      <th></th>\n",
       "    </tr>\n",
       "  </thead>\n",
       "  <tbody>\n",
       "    <tr>\n",
       "      <th>1</th>\n",
       "      <td>1</td>\n",
       "    </tr>\n",
       "    <tr>\n",
       "      <th>3</th>\n",
       "      <td>3</td>\n",
       "    </tr>\n",
       "    <tr>\n",
       "      <th>4</th>\n",
       "      <td>2</td>\n",
       "    </tr>\n",
       "    <tr>\n",
       "      <th>5</th>\n",
       "      <td>2</td>\n",
       "    </tr>\n",
       "    <tr>\n",
       "      <th>6</th>\n",
       "      <td>3</td>\n",
       "    </tr>\n",
       "    <tr>\n",
       "      <th>...</th>\n",
       "      <td>...</td>\n",
       "    </tr>\n",
       "    <tr>\n",
       "      <th>4996</th>\n",
       "      <td>1</td>\n",
       "    </tr>\n",
       "    <tr>\n",
       "      <th>4997</th>\n",
       "      <td>3</td>\n",
       "    </tr>\n",
       "    <tr>\n",
       "      <th>4998</th>\n",
       "      <td>2</td>\n",
       "    </tr>\n",
       "    <tr>\n",
       "      <th>4999</th>\n",
       "      <td>4</td>\n",
       "    </tr>\n",
       "    <tr>\n",
       "      <th>5000</th>\n",
       "      <td>2</td>\n",
       "    </tr>\n",
       "  </tbody>\n",
       "</table>\n",
       "<p>4527 rows × 1 columns</p>\n",
       "</div>"
      ],
      "text/plain": [
       "          mode_people_num\n",
       "hotel_id                 \n",
       "1                       1\n",
       "3                       3\n",
       "4                       2\n",
       "5                       2\n",
       "6                       3\n",
       "...                   ...\n",
       "4996                    1\n",
       "4997                    3\n",
       "4998                    2\n",
       "4999                    4\n",
       "5000                    2\n",
       "\n",
       "[4527 rows x 1 columns]"
      ]
     },
     "execution_count": 13,
     "metadata": {},
     "output_type": "execute_result"
    }
   ],
   "source": [
    "(\n",
    "    pd_reservation\n",
    "    .query(\"status != 'canceled'\")\n",
    "    .groupby(\"hotel_id\")\n",
    "    .agg(mode_people_num=(\"people_num\", lambda s: s.mode().iloc[0])) # iloc: for multiple mode value\n",
    ")"
   ]
  },
  {
   "cell_type": "markdown",
   "id": "442b3402-e079-4bac-9cc0-3e7d65ee788d",
   "metadata": {},
   "source": [
    "### Polars"
   ]
  },
  {
   "cell_type": "code",
   "execution_count": 14,
   "id": "7662794b-809c-4ebc-9270-edf447dbbc23",
   "metadata": {},
   "outputs": [
    {
     "data": {
      "text/html": [
       "<div><style>\n",
       ".dataframe > thead > tr,\n",
       ".dataframe > tbody > tr {\n",
       "  text-align: right;\n",
       "  white-space: pre-wrap;\n",
       "}\n",
       "</style>\n",
       "<small>shape: (4_527, 2)</small><table border=\"1\" class=\"dataframe\"><thead><tr><th>hotel_id</th><th>mode_people_num</th></tr><tr><td>i64</td><td>i64</td></tr></thead><tbody><tr><td>1</td><td>1</td></tr><tr><td>3</td><td>3</td></tr><tr><td>4</td><td>2</td></tr><tr><td>5</td><td>2</td></tr><tr><td>6</td><td>3</td></tr><tr><td>&hellip;</td><td>&hellip;</td></tr><tr><td>4996</td><td>1</td></tr><tr><td>4997</td><td>3</td></tr><tr><td>4998</td><td>2</td></tr><tr><td>4999</td><td>4</td></tr><tr><td>5000</td><td>2</td></tr></tbody></table></div>"
      ],
      "text/plain": [
       "shape: (4_527, 2)\n",
       "┌──────────┬─────────────────┐\n",
       "│ hotel_id ┆ mode_people_num │\n",
       "│ ---      ┆ ---             │\n",
       "│ i64      ┆ i64             │\n",
       "╞══════════╪═════════════════╡\n",
       "│ 1        ┆ 1               │\n",
       "│ 3        ┆ 3               │\n",
       "│ 4        ┆ 2               │\n",
       "│ 5        ┆ 2               │\n",
       "│ 6        ┆ 3               │\n",
       "│ …        ┆ …               │\n",
       "│ 4996     ┆ 1               │\n",
       "│ 4997     ┆ 3               │\n",
       "│ 4998     ┆ 2               │\n",
       "│ 4999     ┆ 4               │\n",
       "│ 5000     ┆ 2               │\n",
       "└──────────┴─────────────────┘"
      ]
     },
     "execution_count": 14,
     "metadata": {},
     "output_type": "execute_result"
    }
   ],
   "source": [
    "(\n",
    "    pl_reservation\n",
    "    .filter(pl.col(\"status\") != \"canceled\")\n",
    "    .group_by(\"hotel_id\")\n",
    "    .agg(pl.col(\"people_num\").mode().first().alias(\"mode_people_num\"))\n",
    "    .sort(\"hotel_id\")\n",
    ")"
   ]
  },
  {
   "cell_type": "code",
   "execution_count": null,
   "id": "d4be4cdf-6d09-4696-b846-5a817fa6fcd5",
   "metadata": {},
   "outputs": [],
   "source": []
  }
 ],
 "metadata": {
  "kernelspec": {
   "display_name": "Python 3 (ipykernel)",
   "language": "python",
   "name": "python3"
  },
  "language_info": {
   "codemirror_mode": {
    "name": "ipython",
    "version": 3
   },
   "file_extension": ".py",
   "mimetype": "text/x-python",
   "name": "python",
   "nbconvert_exporter": "python",
   "pygments_lexer": "ipython3",
   "version": "3.10.12"
  }
 },
 "nbformat": 4,
 "nbformat_minor": 5
}
