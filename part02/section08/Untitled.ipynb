{
 "cells": [
  {
   "cell_type": "markdown",
   "id": "62b25c85-7701-4e66-8e03-be51f7b43bcc",
   "metadata": {},
   "source": [
    "# 8-1 k-fold cross-validation"
   ]
  },
  {
   "cell_type": "markdown",
   "id": "19f30fb1-4edc-417b-a2e0-2812010231b6",
   "metadata": {},
   "source": [
    "## Split data"
   ]
  },
  {
   "cell_type": "code",
   "execution_count": 1,
   "id": "606ef446-d9fd-4039-a244-0d430eb6d56b",
   "metadata": {},
   "outputs": [],
   "source": [
    "import polars as pl"
   ]
  },
  {
   "cell_type": "code",
   "execution_count": 2,
   "id": "64ecbfb9-f44a-4655-bc3f-2697646997cd",
   "metadata": {},
   "outputs": [
    {
     "data": {
      "text/html": [
       "<div><style>\n",
       ".dataframe > thead > tr,\n",
       ".dataframe > tbody > tr {\n",
       "  text-align: right;\n",
       "  white-space: pre-wrap;\n",
       "}\n",
       "</style>\n",
       "<small>shape: (5, 4)</small><table border=\"1\" class=\"dataframe\"><thead><tr><th>type</th><th>length</th><th>thickness</th><th>fault_flg</th></tr><tr><td>str</td><td>f64</td><td>f64</td><td>bool</td></tr></thead><tbody><tr><td>&quot;E&quot;</td><td>274.027383</td><td>40.241131</td><td>false</td></tr><tr><td>&quot;D&quot;</td><td>86.319269</td><td>16.906715</td><td>false</td></tr><tr><td>&quot;E&quot;</td><td>123.940388</td><td>1.018462</td><td>false</td></tr><tr><td>&quot;B&quot;</td><td>175.554886</td><td>16.414924</td><td>false</td></tr><tr><td>&quot;B&quot;</td><td>244.93474</td><td>29.061081</td><td>false</td></tr></tbody></table></div>"
      ],
      "text/plain": [
       "shape: (5, 4)\n",
       "┌──────┬────────────┬───────────┬───────────┐\n",
       "│ type ┆ length     ┆ thickness ┆ fault_flg │\n",
       "│ ---  ┆ ---        ┆ ---       ┆ ---       │\n",
       "│ str  ┆ f64        ┆ f64       ┆ bool      │\n",
       "╞══════╪════════════╪═══════════╪═══════════╡\n",
       "│ E    ┆ 274.027383 ┆ 40.241131 ┆ false     │\n",
       "│ D    ┆ 86.319269  ┆ 16.906715 ┆ false     │\n",
       "│ E    ┆ 123.940388 ┆ 1.018462  ┆ false     │\n",
       "│ B    ┆ 175.554886 ┆ 16.414924 ┆ false     │\n",
       "│ B    ┆ 244.93474  ┆ 29.061081 ┆ false     │\n",
       "└──────┴────────────┴───────────┴───────────┘"
      ]
     },
     "execution_count": 2,
     "metadata": {},
     "output_type": "execute_result"
    }
   ],
   "source": [
    "pl_production = pl.read_parquet(\"../../data/production.parquet\")\n",
    "pl_production.head()"
   ]
  },
  {
   "cell_type": "code",
   "execution_count": 3,
   "id": "7d7dc5d5-ff88-4f6d-98a6-b6053058b9aa",
   "metadata": {},
   "outputs": [
    {
     "name": "stdout",
     "output_type": "stream",
     "text": [
      "0.9875\n",
      "0.8875\n",
      "0.95\n",
      "0.925\n",
      "0.9625\n",
      "0.975\n",
      "0.8875\n",
      "0.975\n",
      "0.95\n",
      "0.95\n"
     ]
    }
   ],
   "source": [
    "from sklearn.model_selection import train_test_split, KFold\n",
    "\n",
    "# hold out\n",
    "train_data, test_data = train_test_split(\n",
    "    pl_production,\n",
    "    test_size=0.2,\n",
    "    shuffle=True,\n",
    "    random_state=71,\n",
    ")\n",
    "\n",
    "# F-fold cross validation\n",
    "fold = KFold(\n",
    "    n_splits=10,\n",
    "    shuffle=True,\n",
    "    random_state=71,\n",
    ")\n",
    "\n",
    "\n",
    "# xgboost\n",
    "from xgboost import XGBClassifier\n",
    "\n",
    "bst = XGBClassifier(n_estimators=2, max_depth=2, learning_rate=1, objective='binary:logistic')\n",
    "\n",
    "# training and validation\n",
    "for train_cv_no, test_cv_no in fold.split(train_data):\n",
    "    train_cv = train_data[train_cv_no]\n",
    "    bst.fit(train_cv.select([\"length\", \"thickness\"]), train_cv.select(\"fault_flg\"))\n",
    "    test_cv  = train_data[test_cv_no]\n",
    "    print(bst.score(test_cv.select([\"length\", \"thickness\"]), test_cv.select(\"fault_flg\")))\n"
   ]
  },
  {
   "cell_type": "code",
   "execution_count": null,
   "id": "39ea85d6-50ea-45b0-aaf4-390df7f751c1",
   "metadata": {},
   "outputs": [],
   "source": []
  }
 ],
 "metadata": {
  "kernelspec": {
   "display_name": "Python 3 (ipykernel)",
   "language": "python",
   "name": "python3"
  },
  "language_info": {
   "codemirror_mode": {
    "name": "ipython",
    "version": 3
   },
   "file_extension": ".py",
   "mimetype": "text/x-python",
   "name": "python",
   "nbconvert_exporter": "python",
   "pygments_lexer": "ipython3",
   "version": "3.10.12"
  }
 },
 "nbformat": 4,
 "nbformat_minor": 5
}
