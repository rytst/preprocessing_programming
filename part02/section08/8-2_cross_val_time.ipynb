{
 "cells": [
  {
   "cell_type": "markdown",
   "id": "2d36ca37-1dae-4a21-bae7-eb840a11fc93",
   "metadata": {},
   "source": [
    "# Split time series data"
   ]
  },
  {
   "cell_type": "markdown",
   "id": "e0829d63-1551-4f55-9364-eb3ce2c678a4",
   "metadata": {},
   "source": [
    "## Splitting cross validation data concidering"
   ]
  },
  {
   "cell_type": "code",
   "execution_count": 1,
   "id": "651d0c6c-0b19-439a-a783-ea12375cd672",
   "metadata": {},
   "outputs": [],
   "source": [
    "import polars as pl"
   ]
  },
  {
   "cell_type": "code",
   "execution_count": 2,
   "id": "dd1615ed-3c0e-41b8-8641-ca2d9eb00ff7",
   "metadata": {},
   "outputs": [],
   "source": [
    "pl_monthly_index = pl.read_parquet(\"../../data/monthly_index.parquet\")"
   ]
  },
  {
   "cell_type": "code",
   "execution_count": 3,
   "id": "009e2373-b1db-4410-9acc-d9e7fa3b061e",
   "metadata": {},
   "outputs": [
    {
     "data": {
      "text/html": [
       "<div><style>\n",
       ".dataframe > thead > tr,\n",
       ".dataframe > tbody > tr {\n",
       "  text-align: right;\n",
       "  white-space: pre-wrap;\n",
       "}\n",
       "</style>\n",
       "<small>shape: (5, 3)</small><table border=\"1\" class=\"dataframe\"><thead><tr><th>year_month</th><th>sales_amount</th><th>customer_number</th></tr><tr><td>str</td><td>i64</td><td>i64</td></tr></thead><tbody><tr><td>&quot;2010-01&quot;</td><td>7191240</td><td>6885</td></tr><tr><td>&quot;2010-02&quot;</td><td>6253663</td><td>6824</td></tr><tr><td>&quot;2010-03&quot;</td><td>6868320</td><td>7834</td></tr><tr><td>&quot;2010-04&quot;</td><td>7147388</td><td>8552</td></tr><tr><td>&quot;2010-05&quot;</td><td>8755929</td><td>8171</td></tr></tbody></table></div>"
      ],
      "text/plain": [
       "shape: (5, 3)\n",
       "┌────────────┬──────────────┬─────────────────┐\n",
       "│ year_month ┆ sales_amount ┆ customer_number │\n",
       "│ ---        ┆ ---          ┆ ---             │\n",
       "│ str        ┆ i64          ┆ i64             │\n",
       "╞════════════╪══════════════╪═════════════════╡\n",
       "│ 2010-01    ┆ 7191240      ┆ 6885            │\n",
       "│ 2010-02    ┆ 6253663      ┆ 6824            │\n",
       "│ 2010-03    ┆ 6868320      ┆ 7834            │\n",
       "│ 2010-04    ┆ 7147388      ┆ 8552            │\n",
       "│ 2010-05    ┆ 8755929      ┆ 8171            │\n",
       "└────────────┴──────────────┴─────────────────┘"
      ]
     },
     "execution_count": 3,
     "metadata": {},
     "output_type": "execute_result"
    }
   ],
   "source": [
    "pl_monthly_index.head()"
   ]
  },
  {
   "cell_type": "code",
   "execution_count": 4,
   "id": "7ae9f007-9d2c-4779-91a7-f78812297048",
   "metadata": {},
   "outputs": [],
   "source": [
    "from sklearn.model_selection import TimeSeriesSplit\n",
    "\n",
    "train_data = pl_monthly_index.sort(\"year_month\")\n",
    "\n",
    "fold = TimeSeriesSplit(\n",
    "    n_splits=8,\n",
    "    max_train_size=24,\n",
    "    test_size=12,\n",
    ")\n",
    "\n",
    "for train_cv_no, test_cv_no in fold.split(train_data):\n",
    "    train_cv = train_data[train_cv_no]\n",
    "    test_cv  = train_data[test_cv_no]"
   ]
  },
  {
   "cell_type": "code",
   "execution_count": null,
   "id": "f057a65b-3db9-4940-8086-bcbaf3aa07aa",
   "metadata": {},
   "outputs": [],
   "source": []
  }
 ],
 "metadata": {
  "kernelspec": {
   "display_name": "Python 3 (ipykernel)",
   "language": "python",
   "name": "python3"
  },
  "language_info": {
   "codemirror_mode": {
    "name": "ipython",
    "version": 3
   },
   "file_extension": ".py",
   "mimetype": "text/x-python",
   "name": "python",
   "nbconvert_exporter": "python",
   "pygments_lexer": "ipython3",
   "version": "3.10.12"
  }
 },
 "nbformat": 4,
 "nbformat_minor": 5
}
