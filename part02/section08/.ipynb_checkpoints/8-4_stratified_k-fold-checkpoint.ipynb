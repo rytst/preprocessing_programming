{
 "cells": [
  {
   "cell_type": "markdown",
   "id": "672cad07-7081-4382-80d4-2cbed19efd2e",
   "metadata": {},
   "source": [
    "# Stratified k-Fold Cross-Validation"
   ]
  },
  {
   "cell_type": "code",
   "execution_count": 1,
   "id": "dd5f9491-9a0b-4c75-84a9-88756c2be4f8",
   "metadata": {},
   "outputs": [],
   "source": [
    "import polars as pl"
   ]
  },
  {
   "cell_type": "code",
   "execution_count": 2,
   "id": "d114cfc0-38fc-487b-ab2a-2bac8210fe00",
   "metadata": {},
   "outputs": [],
   "source": [
    "pl_reservation = pl.read_parquet(\"../../data/reservation.parquet\")"
   ]
  },
  {
   "cell_type": "code",
   "execution_count": 3,
   "id": "384e51ff-dcc1-4d87-8ac2-49a55f2c2baa",
   "metadata": {},
   "outputs": [
    {
     "data": {
      "text/html": [
       "<div><style>\n",
       ".dataframe > thead > tr,\n",
       ".dataframe > tbody > tr {\n",
       "  text-align: right;\n",
       "  white-space: pre-wrap;\n",
       "}\n",
       "</style>\n",
       "<small>shape: (5, 11)</small><table border=\"1\" class=\"dataframe\"><thead><tr><th>reservation_id</th><th>hotel_id</th><th>customer_id</th><th>reserved_at</th><th>checkin_date</th><th>checkout_date</th><th>length_of_stay</th><th>people_num</th><th>total_price</th><th>status</th><th>canceled_at</th></tr><tr><td>i64</td><td>i64</td><td>i64</td><td>datetime[ns, Asia/Tokyo]</td><td>datetime[ns, Asia/Tokyo]</td><td>datetime[ns, Asia/Tokyo]</td><td>i64</td><td>i64</td><td>i64</td><td>str</td><td>datetime[ns, Asia/Tokyo]</td></tr></thead><tbody><tr><td>1</td><td>2460</td><td>53431</td><td>2013-12-31 07:00:14 JST</td><td>2014-12-31 00:00:00 JST</td><td>2015-01-03 00:00:00 JST</td><td>3</td><td>2</td><td>37800</td><td>&quot;reserved&quot;</td><td>null</td></tr><tr><td>2</td><td>962</td><td>488390</td><td>2013-12-31 08:23:35 JST</td><td>2014-12-31 00:00:00 JST</td><td>2015-01-02 00:00:00 JST</td><td>2</td><td>3</td><td>42000</td><td>&quot;reserved&quot;</td><td>null</td></tr><tr><td>3</td><td>558</td><td>341335</td><td>2013-12-31 09:02:05 JST</td><td>2014-12-31 00:00:00 JST</td><td>2015-01-01 00:00:00 JST</td><td>1</td><td>2</td><td>20400</td><td>&quot;reserved&quot;</td><td>null</td></tr><tr><td>4</td><td>3666</td><td>398981</td><td>2013-12-31 23:44:54 JST</td><td>2014-12-31 00:00:00 JST</td><td>2015-01-01 00:00:00 JST</td><td>1</td><td>4</td><td>39600</td><td>&quot;reserved&quot;</td><td>null</td></tr><tr><td>5</td><td>2180</td><td>220381</td><td>2014-01-01 02:47:50 JST</td><td>2014-12-31 00:00:00 JST</td><td>2015-01-01 00:00:00 JST</td><td>1</td><td>3</td><td>16500</td><td>&quot;reserved&quot;</td><td>null</td></tr></tbody></table></div>"
      ],
      "text/plain": [
       "shape: (5, 11)\n",
       "┌────────────┬──────────┬───────────┬───────────┬───┬───────────┬───────────┬──────────┬───────────┐\n",
       "│ reservatio ┆ hotel_id ┆ customer_ ┆ reserved_ ┆ … ┆ people_nu ┆ total_pri ┆ status   ┆ canceled_ │\n",
       "│ n_id       ┆ ---      ┆ id        ┆ at        ┆   ┆ m         ┆ ce        ┆ ---      ┆ at        │\n",
       "│ ---        ┆ i64      ┆ ---       ┆ ---       ┆   ┆ ---       ┆ ---       ┆ str      ┆ ---       │\n",
       "│ i64        ┆          ┆ i64       ┆ datetime[ ┆   ┆ i64       ┆ i64       ┆          ┆ datetime[ │\n",
       "│            ┆          ┆           ┆ ns, Asia/ ┆   ┆           ┆           ┆          ┆ ns, Asia/ │\n",
       "│            ┆          ┆           ┆ Tokyo]    ┆   ┆           ┆           ┆          ┆ Tokyo]    │\n",
       "╞════════════╪══════════╪═══════════╪═══════════╪═══╪═══════════╪═══════════╪══════════╪═══════════╡\n",
       "│ 1          ┆ 2460     ┆ 53431     ┆ 2013-12-3 ┆ … ┆ 2         ┆ 37800     ┆ reserved ┆ null      │\n",
       "│            ┆          ┆           ┆ 1         ┆   ┆           ┆           ┆          ┆           │\n",
       "│            ┆          ┆           ┆ 07:00:14  ┆   ┆           ┆           ┆          ┆           │\n",
       "│            ┆          ┆           ┆ JST       ┆   ┆           ┆           ┆          ┆           │\n",
       "│ 2          ┆ 962      ┆ 488390    ┆ 2013-12-3 ┆ … ┆ 3         ┆ 42000     ┆ reserved ┆ null      │\n",
       "│            ┆          ┆           ┆ 1         ┆   ┆           ┆           ┆          ┆           │\n",
       "│            ┆          ┆           ┆ 08:23:35  ┆   ┆           ┆           ┆          ┆           │\n",
       "│            ┆          ┆           ┆ JST       ┆   ┆           ┆           ┆          ┆           │\n",
       "│ 3          ┆ 558      ┆ 341335    ┆ 2013-12-3 ┆ … ┆ 2         ┆ 20400     ┆ reserved ┆ null      │\n",
       "│            ┆          ┆           ┆ 1         ┆   ┆           ┆           ┆          ┆           │\n",
       "│            ┆          ┆           ┆ 09:02:05  ┆   ┆           ┆           ┆          ┆           │\n",
       "│            ┆          ┆           ┆ JST       ┆   ┆           ┆           ┆          ┆           │\n",
       "│ 4          ┆ 3666     ┆ 398981    ┆ 2013-12-3 ┆ … ┆ 4         ┆ 39600     ┆ reserved ┆ null      │\n",
       "│            ┆          ┆           ┆ 1         ┆   ┆           ┆           ┆          ┆           │\n",
       "│            ┆          ┆           ┆ 23:44:54  ┆   ┆           ┆           ┆          ┆           │\n",
       "│            ┆          ┆           ┆ JST       ┆   ┆           ┆           ┆          ┆           │\n",
       "│ 5          ┆ 2180     ┆ 220381    ┆ 2014-01-0 ┆ … ┆ 3         ┆ 16500     ┆ reserved ┆ null      │\n",
       "│            ┆          ┆           ┆ 1         ┆   ┆           ┆           ┆          ┆           │\n",
       "│            ┆          ┆           ┆ 02:47:50  ┆   ┆           ┆           ┆          ┆           │\n",
       "│            ┆          ┆           ┆ JST       ┆   ┆           ┆           ┆          ┆           │\n",
       "└────────────┴──────────┴───────────┴───────────┴───┴───────────┴───────────┴──────────┴───────────┘"
      ]
     },
     "execution_count": 3,
     "metadata": {},
     "output_type": "execute_result"
    }
   ],
   "source": [
    "pl_reservation.head()"
   ]
  },
  {
   "cell_type": "code",
   "execution_count": 4,
   "id": "af34c41c-acaf-4673-b7e4-e5a6b288e72f",
   "metadata": {},
   "outputs": [],
   "source": [
    "from sklearn.model_selection import train_test_split, StratifiedKFold"
   ]
  },
  {
   "cell_type": "code",
   "execution_count": 5,
   "id": "0ff54ba9-bedf-4879-8013-714b1ae337f6",
   "metadata": {},
   "outputs": [],
   "source": [
    "train_data = pl_reservation\n",
    "\n",
    "fold = StratifiedKFold(n_splits=10, shuffle=True, random_state=71)\n",
    "\n",
    "for train_cv_no, test_cv_no in fold.split(train_data, train_data.select(\"status\")): # second argment is target\n",
    "    train_cv = train_data[train_cv_no]\n",
    "    test_cv  = train_data[test_cv_no]"
   ]
  },
  {
   "cell_type": "code",
   "execution_count": null,
   "id": "da07bdb2-1206-44d4-800d-3ee278e0c26d",
   "metadata": {},
   "outputs": [],
   "source": []
  }
 ],
 "metadata": {
  "kernelspec": {
   "display_name": "Python 3 (ipykernel)",
   "language": "python",
   "name": "python3"
  },
  "language_info": {
   "codemirror_mode": {
    "name": "ipython",
    "version": 3
   },
   "file_extension": ".py",
   "mimetype": "text/x-python",
   "name": "python",
   "nbconvert_exporter": "python",
   "pygments_lexer": "ipython3",
   "version": "3.12.6"
  }
 },
 "nbformat": 4,
 "nbformat_minor": 5
}
