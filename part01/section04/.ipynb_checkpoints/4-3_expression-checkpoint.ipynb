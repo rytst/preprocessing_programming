{
 "cells": [
  {
   "cell_type": "markdown",
   "id": "cbdad6b7-4cf9-48a3-b0c2-b7c55e02f23b",
   "metadata": {},
   "source": [
    "# 4-3 Expression"
   ]
  },
  {
   "cell_type": "code",
   "execution_count": 1,
   "id": "5f6f33a0-77b2-4e60-a1a4-645cc7b76373",
   "metadata": {},
   "outputs": [],
   "source": [
    "import polars as pl"
   ]
  },
  {
   "cell_type": "code",
   "execution_count": 2,
   "id": "67fc848d-7723-4122-81ed-2c6aaafcce03",
   "metadata": {},
   "outputs": [
    {
     "data": {
      "text/html": [
       "<div><style>\n",
       ".dataframe > thead > tr,\n",
       ".dataframe > tbody > tr {\n",
       "  text-align: right;\n",
       "  white-space: pre-wrap;\n",
       "}\n",
       "</style>\n",
       "<small>shape: (3, 3)</small><table border=\"1\" class=\"dataframe\"><thead><tr><th>col1</th><th>col2</th><th>col3</th></tr><tr><td>i64</td><td>f64</td><td>str</td></tr></thead><tbody><tr><td>1</td><td>10.0</td><td>&quot;a&quot;</td></tr><tr><td>2</td><td>20.0</td><td>&quot;b&quot;</td></tr><tr><td>3</td><td>30.0</td><td>&quot;c&quot;</td></tr></tbody></table></div>"
      ],
      "text/plain": [
       "shape: (3, 3)\n",
       "┌──────┬──────┬──────┐\n",
       "│ col1 ┆ col2 ┆ col3 │\n",
       "│ ---  ┆ ---  ┆ ---  │\n",
       "│ i64  ┆ f64  ┆ str  │\n",
       "╞══════╪══════╪══════╡\n",
       "│ 1    ┆ 10.0 ┆ a    │\n",
       "│ 2    ┆ 20.0 ┆ b    │\n",
       "│ 3    ┆ 30.0 ┆ c    │\n",
       "└──────┴──────┴──────┘"
      ]
     },
     "execution_count": 2,
     "metadata": {},
     "output_type": "execute_result"
    }
   ],
   "source": [
    "df = pl.DataFrame({\n",
    "    \"col1\": [1,2,3],\n",
    "    \"col2\": [10.0, 20.0, 30.0],\n",
    "    \"col3\": [\"a\", \"b\", \"c\"],\n",
    "})\n",
    "df"
   ]
  },
  {
   "cell_type": "code",
   "execution_count": 3,
   "id": "14a39b03-651f-4aea-bfb7-f784d1e62222",
   "metadata": {},
   "outputs": [],
   "source": [
    "# Define expression\n",
    "expr = pl.col(\"col1\").pow(2) + pl.col(\"col2\")"
   ]
  },
  {
   "cell_type": "code",
   "execution_count": 4,
   "id": "8820b67b-8669-45f8-af71-252d16365b39",
   "metadata": {},
   "outputs": [
    {
     "data": {
      "text/html": [
       "<div><style>\n",
       ".dataframe > thead > tr,\n",
       ".dataframe > tbody > tr {\n",
       "  text-align: right;\n",
       "  white-space: pre-wrap;\n",
       "}\n",
       "</style>\n",
       "<small>shape: (3, 1)</small><table border=\"1\" class=\"dataframe\"><thead><tr><th>col1</th></tr><tr><td>f64</td></tr></thead><tbody><tr><td>11.0</td></tr><tr><td>24.0</td></tr><tr><td>39.0</td></tr></tbody></table></div>"
      ],
      "text/plain": [
       "shape: (3, 1)\n",
       "┌──────┐\n",
       "│ col1 │\n",
       "│ ---  │\n",
       "│ f64  │\n",
       "╞══════╡\n",
       "│ 11.0 │\n",
       "│ 24.0 │\n",
       "│ 39.0 │\n",
       "└──────┘"
      ]
     },
     "execution_count": 4,
     "metadata": {},
     "output_type": "execute_result"
    }
   ],
   "source": [
    "# Execute expression\n",
    "# select: expression -> DataFrame\n",
    "df.select(expr)"
   ]
  },
  {
   "cell_type": "code",
   "execution_count": 5,
   "id": "fefddd6b-7408-4174-8d50-6be5e12ee4b6",
   "metadata": {},
   "outputs": [
    {
     "data": {
      "text/html": [
       "<div><style>\n",
       ".dataframe > thead > tr,\n",
       ".dataframe > tbody > tr {\n",
       "  text-align: right;\n",
       "  white-space: pre-wrap;\n",
       "}\n",
       "</style>\n",
       "<small>shape: (3, 4)</small><table border=\"1\" class=\"dataframe\"><thead><tr><th>col1</th><th>col2</th><th>col3</th><th>col4</th></tr><tr><td>i64</td><td>f64</td><td>str</td><td>f64</td></tr></thead><tbody><tr><td>1</td><td>10.0</td><td>&quot;a&quot;</td><td>11.0</td></tr><tr><td>2</td><td>20.0</td><td>&quot;b&quot;</td><td>24.0</td></tr><tr><td>3</td><td>30.0</td><td>&quot;c&quot;</td><td>39.0</td></tr></tbody></table></div>"
      ],
      "text/plain": [
       "shape: (3, 4)\n",
       "┌──────┬──────┬──────┬──────┐\n",
       "│ col1 ┆ col2 ┆ col3 ┆ col4 │\n",
       "│ ---  ┆ ---  ┆ ---  ┆ ---  │\n",
       "│ i64  ┆ f64  ┆ str  ┆ f64  │\n",
       "╞══════╪══════╪══════╪══════╡\n",
       "│ 1    ┆ 10.0 ┆ a    ┆ 11.0 │\n",
       "│ 2    ┆ 20.0 ┆ b    ┆ 24.0 │\n",
       "│ 3    ┆ 30.0 ┆ c    ┆ 39.0 │\n",
       "└──────┴──────┴──────┴──────┘"
      ]
     },
     "execution_count": 5,
     "metadata": {},
     "output_type": "execute_result"
    }
   ],
   "source": [
    "# with_columns: expression -> DataFrame\n",
    "# add new column\n",
    "df.with_columns(col4=expr)"
   ]
  },
  {
   "cell_type": "code",
   "execution_count": null,
   "id": "1ba0cfda-8e37-4357-aa69-c3197d93d6b7",
   "metadata": {},
   "outputs": [],
   "source": []
  }
 ],
 "metadata": {
  "kernelspec": {
   "display_name": "Python 3 (ipykernel)",
   "language": "python",
   "name": "python3"
  },
  "language_info": {
   "codemirror_mode": {
    "name": "ipython",
    "version": 3
   },
   "file_extension": ".py",
   "mimetype": "text/x-python",
   "name": "python",
   "nbconvert_exporter": "python",
   "pygments_lexer": "ipython3",
   "version": "3.12.6"
  }
 },
 "nbformat": 4,
 "nbformat_minor": 5
}
