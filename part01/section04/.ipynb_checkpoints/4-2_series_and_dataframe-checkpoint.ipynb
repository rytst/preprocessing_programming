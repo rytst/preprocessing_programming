{
 "cells": [
  {
   "cell_type": "markdown",
   "id": "e36fa924-e03a-4cbc-8172-f1a324efb86d",
   "metadata": {},
   "source": [
    "# 4-2 Series and DataFrame"
   ]
  },
  {
   "cell_type": "code",
   "execution_count": 1,
   "id": "76fc2807-b866-4f09-9f4f-2fb23b94740b",
   "metadata": {},
   "outputs": [],
   "source": [
    "import polars as pl"
   ]
  },
  {
   "cell_type": "code",
   "execution_count": 2,
   "id": "5aba93b2-396f-4e5b-abd5-a1631f6bdbe5",
   "metadata": {},
   "outputs": [],
   "source": [
    "x = pl.Series(\"col1\", [1,2,3])"
   ]
  },
  {
   "cell_type": "code",
   "execution_count": 3,
   "id": "66e49021-e17e-4919-b9ab-ae7cd44d17e0",
   "metadata": {},
   "outputs": [
    {
     "data": {
      "text/html": [
       "<div><style>\n",
       ".dataframe > thead > tr,\n",
       ".dataframe > tbody > tr {\n",
       "  text-align: right;\n",
       "  white-space: pre-wrap;\n",
       "}\n",
       "</style>\n",
       "<small>shape: (3,)</small><table border=\"1\" class=\"dataframe\"><thead><tr><th>col1</th></tr><tr><td>i64</td></tr></thead><tbody><tr><td>1</td></tr><tr><td>2</td></tr><tr><td>3</td></tr></tbody></table></div>"
      ],
      "text/plain": [
       "shape: (3,)\n",
       "Series: 'col1' [i64]\n",
       "[\n",
       "\t1\n",
       "\t2\n",
       "\t3\n",
       "]"
      ]
     },
     "execution_count": 3,
     "metadata": {},
     "output_type": "execute_result"
    }
   ],
   "source": [
    "x"
   ]
  },
  {
   "cell_type": "code",
   "execution_count": 4,
   "id": "8abdcb85-c120-4725-9aab-473e50491545",
   "metadata": {},
   "outputs": [
    {
     "data": {
      "text/html": [
       "<div><style>\n",
       ".dataframe > thead > tr,\n",
       ".dataframe > tbody > tr {\n",
       "  text-align: right;\n",
       "  white-space: pre-wrap;\n",
       "}\n",
       "</style>\n",
       "<small>shape: (3, 3)</small><table border=\"1\" class=\"dataframe\"><thead><tr><th>col1</th><th>col2</th><th>col3</th></tr><tr><td>i64</td><td>f64</td><td>str</td></tr></thead><tbody><tr><td>1</td><td>10.0</td><td>&quot;a&quot;</td></tr><tr><td>2</td><td>20.0</td><td>&quot;b&quot;</td></tr><tr><td>3</td><td>30.0</td><td>&quot;c&quot;</td></tr></tbody></table></div>"
      ],
      "text/plain": [
       "shape: (3, 3)\n",
       "┌──────┬──────┬──────┐\n",
       "│ col1 ┆ col2 ┆ col3 │\n",
       "│ ---  ┆ ---  ┆ ---  │\n",
       "│ i64  ┆ f64  ┆ str  │\n",
       "╞══════╪══════╪══════╡\n",
       "│ 1    ┆ 10.0 ┆ a    │\n",
       "│ 2    ┆ 20.0 ┆ b    │\n",
       "│ 3    ┆ 30.0 ┆ c    │\n",
       "└──────┴──────┴──────┘"
      ]
     },
     "execution_count": 4,
     "metadata": {},
     "output_type": "execute_result"
    }
   ],
   "source": [
    "y = pl.DataFrame({\n",
    "    \"col1\": [1,2,3],\n",
    "    \"col2\": [10.0, 20.0, 30.0],\n",
    "    \"col3\": [\"a\", \"b\", \"c\"],\n",
    "})\n",
    "y"
   ]
  },
  {
   "cell_type": "code",
   "execution_count": 5,
   "id": "7e3fe404-81a6-4024-8e70-69f417a91dca",
   "metadata": {},
   "outputs": [
    {
     "data": {
      "text/html": [
       "<div><style>\n",
       ".dataframe > thead > tr,\n",
       ".dataframe > tbody > tr {\n",
       "  text-align: right;\n",
       "  white-space: pre-wrap;\n",
       "}\n",
       "</style>\n",
       "<small>shape: (3,)</small><table border=\"1\" class=\"dataframe\"><thead><tr><th>col1</th></tr><tr><td>i64</td></tr></thead><tbody><tr><td>1</td></tr><tr><td>null</td></tr><tr><td>3</td></tr></tbody></table></div>"
      ],
      "text/plain": [
       "shape: (3,)\n",
       "Series: 'col1' [i64]\n",
       "[\n",
       "\t1\n",
       "\tnull\n",
       "\t3\n",
       "]"
      ]
     },
     "execution_count": 5,
     "metadata": {},
     "output_type": "execute_result"
    }
   ],
   "source": [
    "x_missing = pl.Series(\"col1\", [1, None, 3])\n",
    "x_missing"
   ]
  },
  {
   "cell_type": "code",
   "execution_count": null,
   "id": "d43b13ab-d931-4eb3-8c82-5aad49dd12ed",
   "metadata": {},
   "outputs": [],
   "source": []
  }
 ],
 "metadata": {
  "kernelspec": {
   "display_name": "Python 3 (ipykernel)",
   "language": "python",
   "name": "python3"
  },
  "language_info": {
   "codemirror_mode": {
    "name": "ipython",
    "version": 3
   },
   "file_extension": ".py",
   "mimetype": "text/x-python",
   "name": "python",
   "nbconvert_exporter": "python",
   "pygments_lexer": "ipython3",
   "version": "3.12.6"
  }
 },
 "nbformat": 4,
 "nbformat_minor": 5
}
