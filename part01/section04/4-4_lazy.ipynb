{
 "cells": [
  {
   "cell_type": "markdown",
   "id": "2bb02224-66ed-4570-bd6d-499209c56479",
   "metadata": {},
   "source": [
    "# 4-4 Lazy"
   ]
  },
  {
   "cell_type": "code",
   "execution_count": 1,
   "id": "518f533a-6d05-4b86-b06d-11e746d87f39",
   "metadata": {},
   "outputs": [],
   "source": [
    "import polars as pl"
   ]
  },
  {
   "cell_type": "markdown",
   "id": "bdc22bc6-88fc-4226-bf93-7d54f24ac4d0",
   "metadata": {},
   "source": [
    "## eager mode"
   ]
  },
  {
   "cell_type": "code",
   "execution_count": 2,
   "id": "188bbe06-7fba-4f1f-af51-4594a3bd589c",
   "metadata": {},
   "outputs": [],
   "source": [
    "path = \"../../data/reservation.parquet\"\n",
    "df = pl.read_parquet(path)"
   ]
  },
  {
   "cell_type": "code",
   "execution_count": 3,
   "id": "69c83e85-567f-407c-8067-026b9c11b204",
   "metadata": {},
   "outputs": [
    {
     "data": {
      "text/html": [
       "<div><style>\n",
       ".dataframe > thead > tr,\n",
       ".dataframe > tbody > tr {\n",
       "  text-align: right;\n",
       "  white-space: pre-wrap;\n",
       "}\n",
       "</style>\n",
       "<small>shape: (5, 11)</small><table border=\"1\" class=\"dataframe\"><thead><tr><th>reservation_id</th><th>hotel_id</th><th>customer_id</th><th>reserved_at</th><th>checkin_date</th><th>checkout_date</th><th>length_of_stay</th><th>people_num</th><th>total_price</th><th>status</th><th>canceled_at</th></tr><tr><td>i64</td><td>i64</td><td>i64</td><td>datetime[ns, Asia/Tokyo]</td><td>datetime[ns, Asia/Tokyo]</td><td>datetime[ns, Asia/Tokyo]</td><td>i64</td><td>i64</td><td>i64</td><td>str</td><td>datetime[ns, Asia/Tokyo]</td></tr></thead><tbody><tr><td>1</td><td>2460</td><td>53431</td><td>2013-12-31 07:00:14 JST</td><td>2014-12-31 00:00:00 JST</td><td>2015-01-03 00:00:00 JST</td><td>3</td><td>2</td><td>37800</td><td>&quot;reserved&quot;</td><td>null</td></tr><tr><td>2</td><td>962</td><td>488390</td><td>2013-12-31 08:23:35 JST</td><td>2014-12-31 00:00:00 JST</td><td>2015-01-02 00:00:00 JST</td><td>2</td><td>3</td><td>42000</td><td>&quot;reserved&quot;</td><td>null</td></tr><tr><td>3</td><td>558</td><td>341335</td><td>2013-12-31 09:02:05 JST</td><td>2014-12-31 00:00:00 JST</td><td>2015-01-01 00:00:00 JST</td><td>1</td><td>2</td><td>20400</td><td>&quot;reserved&quot;</td><td>null</td></tr><tr><td>4</td><td>3666</td><td>398981</td><td>2013-12-31 23:44:54 JST</td><td>2014-12-31 00:00:00 JST</td><td>2015-01-01 00:00:00 JST</td><td>1</td><td>4</td><td>39600</td><td>&quot;reserved&quot;</td><td>null</td></tr><tr><td>5</td><td>2180</td><td>220381</td><td>2014-01-01 02:47:50 JST</td><td>2014-12-31 00:00:00 JST</td><td>2015-01-01 00:00:00 JST</td><td>1</td><td>3</td><td>16500</td><td>&quot;reserved&quot;</td><td>null</td></tr></tbody></table></div>"
      ],
      "text/plain": [
       "shape: (5, 11)\n",
       "┌────────────┬──────────┬───────────┬───────────┬───┬───────────┬───────────┬──────────┬───────────┐\n",
       "│ reservatio ┆ hotel_id ┆ customer_ ┆ reserved_ ┆ … ┆ people_nu ┆ total_pri ┆ status   ┆ canceled_ │\n",
       "│ n_id       ┆ ---      ┆ id        ┆ at        ┆   ┆ m         ┆ ce        ┆ ---      ┆ at        │\n",
       "│ ---        ┆ i64      ┆ ---       ┆ ---       ┆   ┆ ---       ┆ ---       ┆ str      ┆ ---       │\n",
       "│ i64        ┆          ┆ i64       ┆ datetime[ ┆   ┆ i64       ┆ i64       ┆          ┆ datetime[ │\n",
       "│            ┆          ┆           ┆ ns, Asia/ ┆   ┆           ┆           ┆          ┆ ns, Asia/ │\n",
       "│            ┆          ┆           ┆ Tokyo]    ┆   ┆           ┆           ┆          ┆ Tokyo]    │\n",
       "╞════════════╪══════════╪═══════════╪═══════════╪═══╪═══════════╪═══════════╪══════════╪═══════════╡\n",
       "│ 1          ┆ 2460     ┆ 53431     ┆ 2013-12-3 ┆ … ┆ 2         ┆ 37800     ┆ reserved ┆ null      │\n",
       "│            ┆          ┆           ┆ 1         ┆   ┆           ┆           ┆          ┆           │\n",
       "│            ┆          ┆           ┆ 07:00:14  ┆   ┆           ┆           ┆          ┆           │\n",
       "│            ┆          ┆           ┆ JST       ┆   ┆           ┆           ┆          ┆           │\n",
       "│ 2          ┆ 962      ┆ 488390    ┆ 2013-12-3 ┆ … ┆ 3         ┆ 42000     ┆ reserved ┆ null      │\n",
       "│            ┆          ┆           ┆ 1         ┆   ┆           ┆           ┆          ┆           │\n",
       "│            ┆          ┆           ┆ 08:23:35  ┆   ┆           ┆           ┆          ┆           │\n",
       "│            ┆          ┆           ┆ JST       ┆   ┆           ┆           ┆          ┆           │\n",
       "│ 3          ┆ 558      ┆ 341335    ┆ 2013-12-3 ┆ … ┆ 2         ┆ 20400     ┆ reserved ┆ null      │\n",
       "│            ┆          ┆           ┆ 1         ┆   ┆           ┆           ┆          ┆           │\n",
       "│            ┆          ┆           ┆ 09:02:05  ┆   ┆           ┆           ┆          ┆           │\n",
       "│            ┆          ┆           ┆ JST       ┆   ┆           ┆           ┆          ┆           │\n",
       "│ 4          ┆ 3666     ┆ 398981    ┆ 2013-12-3 ┆ … ┆ 4         ┆ 39600     ┆ reserved ┆ null      │\n",
       "│            ┆          ┆           ┆ 1         ┆   ┆           ┆           ┆          ┆           │\n",
       "│            ┆          ┆           ┆ 23:44:54  ┆   ┆           ┆           ┆          ┆           │\n",
       "│            ┆          ┆           ┆ JST       ┆   ┆           ┆           ┆          ┆           │\n",
       "│ 5          ┆ 2180     ┆ 220381    ┆ 2014-01-0 ┆ … ┆ 3         ┆ 16500     ┆ reserved ┆ null      │\n",
       "│            ┆          ┆           ┆ 1         ┆   ┆           ┆           ┆          ┆           │\n",
       "│            ┆          ┆           ┆ 02:47:50  ┆   ┆           ┆           ┆          ┆           │\n",
       "│            ┆          ┆           ┆ JST       ┆   ┆           ┆           ┆          ┆           │\n",
       "└────────────┴──────────┴───────────┴───────────┴───┴───────────┴───────────┴──────────┴───────────┘"
      ]
     },
     "execution_count": 3,
     "metadata": {},
     "output_type": "execute_result"
    }
   ],
   "source": [
    "df.head()"
   ]
  },
  {
   "cell_type": "code",
   "execution_count": 4,
   "id": "0bf1d988-3325-4713-98c0-12ca57b0b49e",
   "metadata": {},
   "outputs": [
    {
     "data": {
      "text/html": [
       "<div><style>\n",
       ".dataframe > thead > tr,\n",
       ".dataframe > tbody > tr {\n",
       "  text-align: right;\n",
       "  white-space: pre-wrap;\n",
       "}\n",
       "</style>\n",
       "<small>shape: (280_847, 2)</small><table border=\"1\" class=\"dataframe\"><thead><tr><th>reservation_id</th><th>total_price</th></tr><tr><td>i64</td><td>i64</td></tr></thead><tbody><tr><td>595174</td><td>15500</td></tr><tr><td>595177</td><td>7900</td></tr><tr><td>595183</td><td>5600</td></tr><tr><td>595189</td><td>13200</td></tr><tr><td>595202</td><td>8500</td></tr><tr><td>&hellip;</td><td>&hellip;</td></tr><tr><td>1999972</td><td>9200</td></tr><tr><td>1999977</td><td>15200</td></tr><tr><td>1999997</td><td>7100</td></tr><tr><td>1999999</td><td>17000</td></tr><tr><td>2000000</td><td>7800</td></tr></tbody></table></div>"
      ],
      "text/plain": [
       "shape: (280_847, 2)\n",
       "┌────────────────┬─────────────┐\n",
       "│ reservation_id ┆ total_price │\n",
       "│ ---            ┆ ---         │\n",
       "│ i64            ┆ i64         │\n",
       "╞════════════════╪═════════════╡\n",
       "│ 595174         ┆ 15500       │\n",
       "│ 595177         ┆ 7900        │\n",
       "│ 595183         ┆ 5600        │\n",
       "│ 595189         ┆ 13200       │\n",
       "│ 595202         ┆ 8500        │\n",
       "│ …              ┆ …           │\n",
       "│ 1999972        ┆ 9200        │\n",
       "│ 1999977        ┆ 15200       │\n",
       "│ 1999997        ┆ 7100        │\n",
       "│ 1999999        ┆ 17000       │\n",
       "│ 2000000        ┆ 7800        │\n",
       "└────────────────┴─────────────┘"
      ]
     },
     "execution_count": 4,
     "metadata": {},
     "output_type": "execute_result"
    }
   ],
   "source": [
    "(\n",
    "    df\n",
    "    # extract specific row\n",
    "    .filter(pl.col(\"reserved_at\").dt.year() >= 2016)\n",
    "    .filter(pl.col(\"people_num\") == 1)\n",
    "    # extract specific column\n",
    "    .select([\"reservation_id\", \"total_price\"])\n",
    ")"
   ]
  },
  {
   "cell_type": "markdown",
   "id": "150f9c56-26cb-4369-b1fd-4a5eebb07304",
   "metadata": {},
   "source": [
    "## lazy mode"
   ]
  },
  {
   "cell_type": "code",
   "execution_count": 5,
   "id": "022a4555-d47e-410a-b687-eb89496c8e40",
   "metadata": {},
   "outputs": [],
   "source": [
    "df = pl.scan_parquet(path)"
   ]
  },
  {
   "cell_type": "code",
   "execution_count": 6,
   "id": "fc2eb97b-3da4-4539-b3b4-f25c5abbc1a8",
   "metadata": {},
   "outputs": [],
   "source": [
    "query = (\n",
    "    df\n",
    "    .filter(pl.col(\"reserved_at\").dt.year() >= 2016)\n",
    "    .filter(pl.col(\"people_num\") == 1)\n",
    "    .select([\"reservation_id\", \"total_price\"])\n",
    ")"
   ]
  },
  {
   "cell_type": "code",
   "execution_count": 7,
   "id": "6b4222e5-c121-4c32-8c97-dccb272f2d76",
   "metadata": {},
   "outputs": [
    {
     "data": {
      "text/html": [
       "<div><style>\n",
       ".dataframe > thead > tr,\n",
       ".dataframe > tbody > tr {\n",
       "  text-align: right;\n",
       "  white-space: pre-wrap;\n",
       "}\n",
       "</style>\n",
       "<small>shape: (280_847, 2)</small><table border=\"1\" class=\"dataframe\"><thead><tr><th>reservation_id</th><th>total_price</th></tr><tr><td>i64</td><td>i64</td></tr></thead><tbody><tr><td>595174</td><td>15500</td></tr><tr><td>595177</td><td>7900</td></tr><tr><td>595183</td><td>5600</td></tr><tr><td>595189</td><td>13200</td></tr><tr><td>595202</td><td>8500</td></tr><tr><td>&hellip;</td><td>&hellip;</td></tr><tr><td>1999972</td><td>9200</td></tr><tr><td>1999977</td><td>15200</td></tr><tr><td>1999997</td><td>7100</td></tr><tr><td>1999999</td><td>17000</td></tr><tr><td>2000000</td><td>7800</td></tr></tbody></table></div>"
      ],
      "text/plain": [
       "shape: (280_847, 2)\n",
       "┌────────────────┬─────────────┐\n",
       "│ reservation_id ┆ total_price │\n",
       "│ ---            ┆ ---         │\n",
       "│ i64            ┆ i64         │\n",
       "╞════════════════╪═════════════╡\n",
       "│ 595174         ┆ 15500       │\n",
       "│ 595177         ┆ 7900        │\n",
       "│ 595183         ┆ 5600        │\n",
       "│ 595189         ┆ 13200       │\n",
       "│ 595202         ┆ 8500        │\n",
       "│ …              ┆ …           │\n",
       "│ 1999972        ┆ 9200        │\n",
       "│ 1999977        ┆ 15200       │\n",
       "│ 1999997        ┆ 7100        │\n",
       "│ 1999999        ┆ 17000       │\n",
       "│ 2000000        ┆ 7800        │\n",
       "└────────────────┴─────────────┘"
      ]
     },
     "execution_count": 7,
     "metadata": {},
     "output_type": "execute_result"
    }
   ],
   "source": [
    "query.collect()"
   ]
  },
  {
   "cell_type": "code",
   "execution_count": 8,
   "id": "d957cb39-b189-4b55-9f0d-62efa2e23e54",
   "metadata": {},
   "outputs": [
    {
     "name": "stdout",
     "output_type": "stream",
     "text": [
      " SELECT [col(\"reservation_id\"), col(\"total_price\")] FROM\n",
      "  FILTER [(col(\"people_num\")) == (1)] FROM\n",
      "    FILTER [(col(\"reserved_at\").dt.year()) >= (2016)] FROM\n",
      "      Parquet SCAN [../../data/reservation.parquet]\n",
      "      PROJECT */11 COLUMNS\n"
     ]
    }
   ],
   "source": [
    "print(query.explain(optimized=False))"
   ]
  },
  {
   "cell_type": "code",
   "execution_count": 9,
   "id": "eb341b3a-2254-48e0-8fe3-e86190920467",
   "metadata": {},
   "outputs": [
    {
     "name": "stdout",
     "output_type": "stream",
     "text": [
      "simple π 2/4 [\"reservation_id\", ... 1 other column]\n",
      "  Parquet SCAN [../../data/reservation.parquet]\n",
      "  PROJECT 4/11 COLUMNS\n",
      "  SELECTION: [([(col(\"people_num\")) == (1)]) & ([(col(\"reserved_at\").dt.year()) >= (2016)])]\n"
     ]
    }
   ],
   "source": [
    "print(query.explain(optimized=True))"
   ]
  },
  {
   "cell_type": "markdown",
   "id": "7cdc876e-08f0-4c8b-b3d3-378e26c5f425",
   "metadata": {},
   "source": [
    "## lazy function"
   ]
  },
  {
   "cell_type": "code",
   "execution_count": 10,
   "id": "6c80c234-ba7e-4367-9a6a-0ba6867aedc8",
   "metadata": {},
   "outputs": [
    {
     "data": {
      "text/html": [
       "<div><style>\n",
       ".dataframe > thead > tr,\n",
       ".dataframe > tbody > tr {\n",
       "  text-align: right;\n",
       "  white-space: pre-wrap;\n",
       "}\n",
       "</style>\n",
       "<small>shape: (399_502, 2)</small><table border=\"1\" class=\"dataframe\"><thead><tr><th>reservation_id</th><th>total_price</th></tr><tr><td>i64</td><td>i64</td></tr></thead><tbody><tr><td>9</td><td>6200</td></tr><tr><td>14</td><td>8800</td></tr><tr><td>28</td><td>5300</td></tr><tr><td>33</td><td>10100</td></tr><tr><td>43</td><td>8600</td></tr><tr><td>&hellip;</td><td>&hellip;</td></tr><tr><td>1999972</td><td>9200</td></tr><tr><td>1999977</td><td>15200</td></tr><tr><td>1999997</td><td>7100</td></tr><tr><td>1999999</td><td>17000</td></tr><tr><td>2000000</td><td>7800</td></tr></tbody></table></div>"
      ],
      "text/plain": [
       "shape: (399_502, 2)\n",
       "┌────────────────┬─────────────┐\n",
       "│ reservation_id ┆ total_price │\n",
       "│ ---            ┆ ---         │\n",
       "│ i64            ┆ i64         │\n",
       "╞════════════════╪═════════════╡\n",
       "│ 9              ┆ 6200        │\n",
       "│ 14             ┆ 8800        │\n",
       "│ 28             ┆ 5300        │\n",
       "│ 33             ┆ 10100       │\n",
       "│ 43             ┆ 8600        │\n",
       "│ …              ┆ …           │\n",
       "│ 1999972        ┆ 9200        │\n",
       "│ 1999977        ┆ 15200       │\n",
       "│ 1999997        ┆ 7100        │\n",
       "│ 1999999        ┆ 17000       │\n",
       "│ 2000000        ┆ 7800        │\n",
       "└────────────────┴─────────────┘"
      ]
     },
     "execution_count": 10,
     "metadata": {},
     "output_type": "execute_result"
    }
   ],
   "source": [
    "df = pl.read_parquet(path)\n",
    "query = (\n",
    "    df\n",
    "    .lazy()\n",
    "    .filter(pl.col(\"reserved_at\") >= 2016)\n",
    "    .filter(pl.col(\"people_num\") == 1)\n",
    "    .select([\"reservation_id\", \"total_price\"])\n",
    ")\n",
    "\n",
    "query.collect()"
   ]
  },
  {
   "cell_type": "code",
   "execution_count": null,
   "id": "9d2510c4-39f9-4c4e-a0d4-15cc34b3b754",
   "metadata": {},
   "outputs": [],
   "source": []
  }
 ],
 "metadata": {
  "kernelspec": {
   "display_name": "Python 3 (ipykernel)",
   "language": "python",
   "name": "python3"
  },
  "language_info": {
   "codemirror_mode": {
    "name": "ipython",
    "version": 3
   },
   "file_extension": ".py",
   "mimetype": "text/x-python",
   "name": "python",
   "nbconvert_exporter": "python",
   "pygments_lexer": "ipython3",
   "version": "3.12.6"
  }
 },
 "nbformat": 4,
 "nbformat_minor": 5
}
